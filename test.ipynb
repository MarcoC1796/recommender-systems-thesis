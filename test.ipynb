{
 "cells": [
  {
   "cell_type": "code",
   "execution_count": 2,
   "metadata": {},
   "outputs": [
    {
     "name": "stdout",
     "output_type": "stream",
     "text": [
      "[1 1 0 1 1]\n"
     ]
    },
    {
     "name": "stderr",
     "output_type": "stream",
     "text": [
      "c:\\Users\\marco\\anaconda3\\envs\\RSThesisEnv\\lib\\site-packages\\sklearn\\cluster\\_kmeans.py:1382: UserWarning: KMeans is known to have a memory leak on Windows with MKL, when there are less chunks than available threads. You can avoid it by setting the environment variable OMP_NUM_THREADS=1.\n",
      "  warnings.warn(\n"
     ]
    }
   ],
   "source": [
    "from sklearn.metrics.pairwise import cosine_similarity\n",
    "from sklearn.cluster import SpectralClustering\n",
    "import numpy as np\n",
    "\n",
    "# Your matrix Q of latent factors\n",
    "# For demonstration, let's assume it's a 5x5 matrix\n",
    "Q = np.random.rand(5, 5)\n",
    "\n",
    "# Calculate cosine similarity matrix\n",
    "S = cosine_similarity(Q)\n",
    "\n",
    "# Perform spectral clustering\n",
    "# Here, n_clusters is the number of clusters you want to create\n",
    "# This should be chosen based on domain knowledge or using methods like the Elbow method\n",
    "n_clusters = 2\n",
    "clustering = SpectralClustering(\n",
    "    n_clusters=n_clusters, affinity=\"precomputed\", random_state=0\n",
    ").fit(S)\n",
    "\n",
    "# Print cluster labels for each patient\n",
    "print(clustering.labels_)\n"
   ]
  },
  {
   "attachments": {},
   "cell_type": "markdown",
   "metadata": {},
   "source": []
  },
  {
   "cell_type": "code",
   "execution_count": 2,
   "metadata": {},
   "outputs": [
    {
     "data": {
      "image/png": "[encoded data removed]",
      "text/plain": [
       "<Figure size 1000x700 with 1 Axes>"
      ]
     },
     "metadata": {},
     "output_type": "display_data"
    }
   ],
   "source": [
    "from sklearn.decomposition import PCA\n",
    "import matplotlib.pyplot as plt\n",
    "\n",
    "# Use PCA to reduce dimensionality to 2D\n",
    "pca = PCA(n_components=2)\n",
    "Q_pca = pca.fit_transform(Q)\n",
    "\n",
    "# Plot each patient, colored by cluster label\n",
    "plt.figure(figsize=(10, 7))\n",
    "plt.scatter(Q_pca[:, 0], Q_pca[:, 1], c=clustering.labels_, cmap=\"viridis\")\n",
    "\n",
    "plt.title(\"Patient Clusters\")\n",
    "plt.xlabel(\"Principal Component 1\")\n",
    "plt.ylabel(\"Principal Component 2\")\n",
    "\n",
    "plt.show()\n"
   ]
  },
  {
   "cell_type": "code",
   "execution_count": 1,
   "metadata": {},
   "outputs": [
    {
     "name": "stdout",
     "output_type": "stream",
     "text": [
      "Shape of Q: (25000, 100)\n",
      "Shape of P: (25000, 100)\n",
      "Shape of R: (25000, 25000)\n"
     ]
    }
   ],
   "source": [
    "import numpy as np\n",
    "from scipy.sparse import random, csr_matrix\n",
    "\n",
    "m = 25000\n",
    "n = 25000\n",
    "f = 100\n",
    "\n",
    "# Initialize Q and P as dense matrices\n",
    "Q = np.random.rand(m, f)\n",
    "P = np.random.rand(n, f)\n",
    "\n",
    "# Initialize R as a sparse matrix in COO format\n",
    "density = 0.2  # Adjust the density of non-zero elements in R\n",
    "R_coo = random(m, n, density=density)\n",
    "\n",
    "# Convert R to CSR format\n",
    "R_csr = R_coo.tocsr()\n",
    "\n",
    "print(\"Shape of Q:\", Q.shape)\n",
    "print(\"Shape of P:\", P.shape)\n",
    "print(\"Shape of R:\", R_csr.shape)\n"
   ]
  },
  {
   "cell_type": "code",
   "execution_count": 2,
   "metadata": {},
   "outputs": [
    {
     "data": {
      "text/plain": [
       "numpy.ndarray"
      ]
     },
     "execution_count": 2,
     "metadata": {},
     "output_type": "execute_result"
    }
   ],
   "source": [
    "R = R_csr.toarray()\n",
    "R[R == 0] = np.nan\n",
    "type(R)\n"
   ]
  },
  {
   "cell_type": "code",
   "execution_count": 4,
   "metadata": {},
   "outputs": [],
   "source": [
    "E = np.nan_to_num(Q @ P.T - R)\n",
    "        dJ_dQ = E @ P + lambQ * Q\n",
    "        dJ_dP = E.T @ Q + lambP * P"
   ]
  },
  {
   "cell_type": "code",
   "execution_count": 7,
   "metadata": {},
   "outputs": [],
   "source": [
    "E = np.nan_to_num(Q @ P.T - R)\n",
    "dJ_dQ = E @ P\n",
    "dJ_dP = E.T @ Q\n"
   ]
  },
  {
   "cell_type": "code",
   "execution_count": 8,
   "metadata": {},
   "outputs": [
    {
     "ename": "KeyboardInterrupt",
     "evalue": "",
     "output_type": "error",
     "traceback": [
      "\u001b[1;31m---------------------------------------------------------------------------\u001b[0m",
      "\u001b[1;31mKeyboardInterrupt\u001b[0m                         Traceback (most recent call last)",
      "Cell \u001b[1;32mIn[8], line 17\u001b[0m\n\u001b[0;32m     14\u001b[0m result_data \u001b[39m=\u001b[39m R_hat_with_nan \u001b[39m-\u001b[39m R_csr\n\u001b[0;32m     16\u001b[0m \u001b[39m# Create the result matrix as a CSR matrix\u001b[39;00m\n\u001b[1;32m---> 17\u001b[0m result_csr \u001b[39m=\u001b[39m csr_matrix(result_data)\n",
      "File \u001b[1;32mc:\\Users\\marco\\anaconda3\\envs\\RSThesisEnv\\lib\\site-packages\\scipy\\sparse\\_compressed.py:85\u001b[0m, in \u001b[0;36m_cs_matrix.__init__\u001b[1;34m(self, arg1, shape, dtype, copy)\u001b[0m\n\u001b[0;32m     81\u001b[0m     \u001b[39mexcept\u001b[39;00m \u001b[39mException\u001b[39;00m \u001b[39mas\u001b[39;00m e:\n\u001b[0;32m     82\u001b[0m         \u001b[39mraise\u001b[39;00m \u001b[39mValueError\u001b[39;00m(\u001b[39m\"\u001b[39m\u001b[39munrecognized \u001b[39m\u001b[39m{}\u001b[39;00m\u001b[39m_matrix constructor usage\u001b[39m\u001b[39m\"\u001b[39m\n\u001b[0;32m     83\u001b[0m                          \u001b[39m\"\u001b[39m\u001b[39m\"\u001b[39m\u001b[39m.\u001b[39mformat(\u001b[39mself\u001b[39m\u001b[39m.\u001b[39mformat)) \u001b[39mfrom\u001b[39;00m \u001b[39me\u001b[39;00m\n\u001b[0;32m     84\u001b[0m     \u001b[39mself\u001b[39m\u001b[39m.\u001b[39m_set_self(\u001b[39mself\u001b[39m\u001b[39m.\u001b[39m\u001b[39m__class__\u001b[39m(\n\u001b[1;32m---> 85\u001b[0m         \u001b[39mself\u001b[39;49m\u001b[39m.\u001b[39;49m_coo_container(arg1, dtype\u001b[39m=\u001b[39;49mdtype)\n\u001b[0;32m     86\u001b[0m     ))\n\u001b[0;32m     88\u001b[0m \u001b[39m# Read matrix dimensions given, if any\u001b[39;00m\n\u001b[0;32m     89\u001b[0m \u001b[39mif\u001b[39;00m shape \u001b[39mis\u001b[39;00m \u001b[39mnot\u001b[39;00m \u001b[39mNone\u001b[39;00m:\n",
      "File \u001b[1;32mc:\\Users\\marco\\anaconda3\\envs\\RSThesisEnv\\lib\\site-packages\\scipy\\sparse\\_coo.py:197\u001b[0m, in \u001b[0;36mcoo_matrix.__init__\u001b[1;34m(self, arg1, shape, dtype, copy)\u001b[0m\n\u001b[0;32m    194\u001b[0m \u001b[39mif\u001b[39;00m dtype \u001b[39mis\u001b[39;00m \u001b[39mnot\u001b[39;00m \u001b[39mNone\u001b[39;00m:\n\u001b[0;32m    195\u001b[0m     \u001b[39mself\u001b[39m\u001b[39m.\u001b[39mdata \u001b[39m=\u001b[39m \u001b[39mself\u001b[39m\u001b[39m.\u001b[39mdata\u001b[39m.\u001b[39mastype(dtype, copy\u001b[39m=\u001b[39m\u001b[39mFalse\u001b[39;00m)\n\u001b[1;32m--> 197\u001b[0m \u001b[39mself\u001b[39;49m\u001b[39m.\u001b[39;49m_check()\n",
      "File \u001b[1;32mc:\\Users\\marco\\anaconda3\\envs\\RSThesisEnv\\lib\\site-packages\\scipy\\sparse\\_coo.py:279\u001b[0m, in \u001b[0;36mcoo_matrix._check\u001b[1;34m(self)\u001b[0m\n\u001b[0;32m    277\u001b[0m idx_dtype \u001b[39m=\u001b[39m get_index_dtype(maxval\u001b[39m=\u001b[39m\u001b[39mmax\u001b[39m(\u001b[39mself\u001b[39m\u001b[39m.\u001b[39mshape))\n\u001b[0;32m    278\u001b[0m \u001b[39mself\u001b[39m\u001b[39m.\u001b[39mrow \u001b[39m=\u001b[39m np\u001b[39m.\u001b[39masarray(\u001b[39mself\u001b[39m\u001b[39m.\u001b[39mrow, dtype\u001b[39m=\u001b[39midx_dtype)\n\u001b[1;32m--> 279\u001b[0m \u001b[39mself\u001b[39m\u001b[39m.\u001b[39mcol \u001b[39m=\u001b[39m np\u001b[39m.\u001b[39;49masarray(\u001b[39mself\u001b[39;49m\u001b[39m.\u001b[39;49mcol, dtype\u001b[39m=\u001b[39;49midx_dtype)\n\u001b[0;32m    280\u001b[0m \u001b[39mself\u001b[39m\u001b[39m.\u001b[39mdata \u001b[39m=\u001b[39m to_native(\u001b[39mself\u001b[39m\u001b[39m.\u001b[39mdata)\n\u001b[0;32m    282\u001b[0m \u001b[39mif\u001b[39;00m \u001b[39mself\u001b[39m\u001b[39m.\u001b[39mnnz \u001b[39m>\u001b[39m \u001b[39m0\u001b[39m:\n",
      "\u001b[1;31mKeyboardInterrupt\u001b[0m: "
     ]
    }
   ],
   "source": [
    "import numpy as np\n",
    "from scipy.sparse import csr_matrix\n",
    "\n",
    "R_hat = Q.dot(P.T)\n",
    "# Assuming R_hat is a dense NumPy array and R_csr is a CSR matrix\n",
    "\n",
    "# Create a binary mask where R_hat is zero\n",
    "mask = R_hat == 0\n",
    "\n",
    "# Apply np.nan to zero entries in R_hat\n",
    "R_hat_with_nan = np.where(mask, np.nan, R_hat)\n",
    "\n",
    "# Perform element-wise subtraction between R_hat_with_nan and R_csr\n",
    "result_data = R_hat_with_nan - R_csr\n",
    "\n",
    "# Create the result matrix as a CSR matrix\n",
    "result_csr = csr_matrix(result_data)\n"
   ]
  },
  {
   "cell_type": "code",
   "execution_count": 4,
   "metadata": {},
   "outputs": [],
   "source": [
    "from cost_functions import get_Jsim_and_DJsim\n"
   ]
  },
  {
   "cell_type": "code",
   "execution_count": 12,
   "metadata": {},
   "outputs": [],
   "source": [
    "J, DJ = get_Jsim_and_DJsim(R, f, lambQ=1e6, lambP=1e6)\n"
   ]
  },
  {
   "cell_type": "code",
   "execution_count": 6,
   "metadata": {},
   "outputs": [
    {
     "name": "stdout",
     "output_type": "stream",
     "text": [
      "    def Jsim(Theta):\n",
      "        Q = Theta[: m * f].reshape(m, f)\n",
      "        P = Theta[m * f :].reshape(n, f)\n",
      "\n",
      "        J = np.nansum(np.square(Q @ P.T - R)) / 2\n",
      "        if lambQ != 0:\n",
      "            print(1)\n",
      "            J += (lambQ / 2) * np.sum(np.square(Q))\n",
      "        if lambP != 0:\n",
      "            print(2)\n",
      "            J += (lambP / 2) * np.sum(np.square(P))\n",
      "\n",
      "        return J\n",
      "\n"
     ]
    }
   ],
   "source": [
    "import inspect\n",
    "\n",
    "lines = inspect.getsource(J)\n",
    "print(lines)"
   ]
  },
  {
   "cell_type": "code",
   "execution_count": 8,
   "metadata": {},
   "outputs": [],
   "source": [
    "Theta = np.concatenate((Q.flatten(), P.flatten()))\n"
   ]
  },
  {
   "cell_type": "code",
   "execution_count": 16,
   "metadata": {},
   "outputs": [
    {
     "data": {
      "text/plain": [
       "37859262421.94628"
      ]
     },
     "execution_count": 16,
     "metadata": {},
     "output_type": "execute_result"
    }
   ],
   "source": [
    "J(Theta)\n"
   ]
  },
  {
   "cell_type": "code",
   "execution_count": 10,
   "metadata": {},
   "outputs": [
    {
     "data": {
      "text/plain": [
       "37764165608.84092"
      ]
     },
     "execution_count": 10,
     "metadata": {},
     "output_type": "execute_result"
    }
   ],
   "source": [
    "J(Theta)\n"
   ]
  },
  {
   "cell_type": "code",
   "execution_count": 13,
   "metadata": {},
   "outputs": [
    {
     "name": "stdout",
     "output_type": "stream",
     "text": [
      "1\n",
      "2\n"
     ]
    },
    {
     "data": {
      "text/plain": [
       "871424236288.191"
      ]
     },
     "execution_count": 13,
     "metadata": {},
     "output_type": "execute_result"
    }
   ],
   "source": [
    "J(Theta)\n"
   ]
  },
  {
   "cell_type": "code",
   "execution_count": 14,
   "metadata": {},
   "outputs": [],
   "source": [
    "lambQ = 0\n",
    "lambP = 0\n",
    "E = csr_matrix(Q @ P.T - R)\n",
    "dJ_dQ = E @ P\n",
    "if lambQ != 0:\n",
    "    dJ_dQ += lambQ * Q\n",
    "\n",
    "dJ_dP = E.T @ Q\n",
    "if lambP != 0:\n",
    "    dJ_dP += lambP * P\n",
    "\n",
    "dJ_dTheta = np.concatenate((dJ_dQ, dJ_dP))\n"
   ]
  },
  {
   "cell_type": "code",
   "execution_count": 17,
   "metadata": {},
   "outputs": [],
   "source": [
    "from scipy.sparse import coo_matrix\n"
   ]
  },
  {
   "cell_type": "code",
   "execution_count": 18,
   "metadata": {},
   "outputs": [],
   "source": [
    "lambQ = 0\n",
    "lambP = 0\n",
    "E = coo_matrix(Q @ P.T - R)\n",
    "dJ_dQ = E @ P + lambQ * Q\n",
    "\n",
    "dJ_dP = E.T @ Q + lambP * P\n",
    "\n",
    "dJ_dTheta = np.concatenate((dJ_dQ, dJ_dP))\n"
   ]
  },
  {
   "cell_type": "code",
   "execution_count": 27,
   "metadata": {},
   "outputs": [],
   "source": [
    "lambQ = 0.1\n",
    "lambP = 0.1\n",
    "E = np.nan_to_num(Q @ P.T - R)\n",
    "dJ_dQ = E @ P + lambQ * Q\n",
    "\n",
    "dJ_dP = E.T @ Q + lambP * P\n",
    "\n",
    "dJ_dTheta = np.concatenate((dJ_dQ, dJ_dP))\n"
   ]
  },
  {
   "cell_type": "code",
   "execution_count": 26,
   "metadata": {},
   "outputs": [],
   "source": [
    "lambQ = 0.1\n",
    "lambP = 0.1\n",
    "\n",
    "E = np.nan_to_num(Q @ P.T - R)\n",
    "\n",
    "dJ_dQ = E @ P\n",
    "if lambQ != 0:\n",
    "    dJ_dQ += lambQ * Q\n",
    "\n",
    "dJ_dP = E.T @ Q\n",
    "if lambP != 0:\n",
    "    dJ_dP += lambP * P\n",
    "\n",
    "dJ_dTheta = np.concatenate((dJ_dQ, dJ_dP))\n"
   ]
  }
 ],
 "metadata": {
  "kernelspec": {
   "display_name": "RSThesisEnv",
   "language": "python",
   "name": "python3"
  },
  "language_info": {
   "codemirror_mode": {
    "name": "ipython",
    "version": 3
   },
   "file_extension": ".py",
   "mimetype": "text/x-python",
   "name": "python",
   "nbconvert_exporter": "python",
   "pygments_lexer": "ipython3",
   "version": "3.9.16"
  },
  "orig_nbformat": 4
 },
 "nbformat": 4,
 "nbformat_minor": 2
}
