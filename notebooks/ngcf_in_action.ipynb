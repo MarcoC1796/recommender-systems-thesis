{
 "cells": [
  {
   "cell_type": "code",
   "execution_count": 2,
   "metadata": {},
   "outputs": [
    {
     "name": "stdout",
     "output_type": "stream",
     "text": [
      "The tensorboard extension is already loaded. To reload it, use:\n",
      "  %reload_ext tensorboard\n"
     ]
    }
   ],
   "source": [
    "# Load the TensorBoard notebook extension\n",
    "%load_ext tensorboard"
   ]
  },
  {
   "cell_type": "code",
   "execution_count": 7,
   "metadata": {},
   "outputs": [],
   "source": [
    "from models.ngcf import NGCFModel\n",
    "import tensorflow as tf\n",
    "import os\n",
    "import json\n",
    "import datetime\n",
    "from utils.datahandler import DataHandler"
   ]
  },
  {
   "cell_type": "code",
   "execution_count": 8,
   "metadata": {},
   "outputs": [
    {
     "name": "stdout",
     "output_type": "stream",
     "text": [
      "GPU being used:\n",
      "NVIDIA GeForce RTX 3060 Laptop GPU\n"
     ]
    }
   ],
   "source": [
    "gpu_devices = tf.config.list_physical_devices(\"GPU\")\n",
    "if gpu_devices:\n",
    "    details = tf.config.experimental.get_device_details(gpu_devices[0])\n",
    "    print(\"GPU being used:\")\n",
    "    print(details.get(\"device_name\", \"Unknown GPU\"))"
   ]
  },
  {
   "cell_type": "code",
   "execution_count": 9,
   "metadata": {},
   "outputs": [],
   "source": [
    "data_path = os.path.join(\"..\", \"datasets\", \"preprocessed\", \"movielens\")\n",
    "datahandler_train = DataHandler(\n",
    "    dataset_path=os.path.join(data_path, \"movielens_100k_train.csv\"), batch_size=8192\n",
    ")\n",
    "datahandler_test = DataHandler(\n",
    "    dataset_path=os.path.join(data_path, \"movielens_100k_test.csv\"), batch_size=8192\n",
    ")\n",
    "train_ds, test_ds = datahandler_train.load_data(), datahandler_test.load_data()\n",
    "with open(os.path.join(data_path, \"movielens_100k_metadata.json\"), \"r\") as file:\n",
    "    metadata = json.load(file)"
   ]
  },
  {
   "cell_type": "code",
   "execution_count": 10,
   "metadata": {},
   "outputs": [],
   "source": [
    "train_ds_repeat = train_ds.repeat()\n",
    "test_ds_cache = test_ds.cache()"
   ]
  },
  {
   "cell_type": "code",
   "execution_count": 14,
   "metadata": {},
   "outputs": [
    {
     "name": "stdout",
     "output_type": "stream",
     "text": [
      "Epoch 1/10\n",
      "11/11 [==============================] - 6s 163ms/step - loss: 9.4444 - root_mean_squared_error: 3.0732 - val_loss: 4.1881 - val_root_mean_squared_error: 2.0465\n",
      "Epoch 2/10\n",
      "11/11 [==============================] - 2s 82ms/step - loss: 3.5735 - root_mean_squared_error: 1.8904 - val_loss: 3.2335 - val_root_mean_squared_error: 1.7982\n",
      "Epoch 3/10\n",
      "11/11 [==============================] - 1s 75ms/step - loss: 2.5296 - root_mean_squared_error: 1.5905 - val_loss: 2.3129 - val_root_mean_squared_error: 1.5208\n",
      "Epoch 4/10\n",
      "11/11 [==============================] - 1s 72ms/step - loss: 2.1186 - root_mean_squared_error: 1.4555 - val_loss: 2.1977 - val_root_mean_squared_error: 1.4825\n",
      "Epoch 5/10\n",
      "11/11 [==============================] - 1s 68ms/step - loss: 1.9125 - root_mean_squared_error: 1.3829 - val_loss: 1.9575 - val_root_mean_squared_error: 1.3991\n",
      "Epoch 6/10\n",
      "11/11 [==============================] - 2s 85ms/step - loss: 1.7554 - root_mean_squared_error: 1.3249 - val_loss: 1.8437 - val_root_mean_squared_error: 1.3578\n",
      "Epoch 7/10\n",
      "11/11 [==============================] - 2s 84ms/step - loss: 1.6483 - root_mean_squared_error: 1.2839 - val_loss: 1.7431 - val_root_mean_squared_error: 1.3203\n",
      "Epoch 8/10\n",
      "11/11 [==============================] - 1s 71ms/step - loss: 1.5599 - root_mean_squared_error: 1.2489 - val_loss: 1.6629 - val_root_mean_squared_error: 1.2895\n",
      "Epoch 9/10\n",
      "11/11 [==============================] - 1s 65ms/step - loss: 1.4837 - root_mean_squared_error: 1.2181 - val_loss: 1.5903 - val_root_mean_squared_error: 1.2611\n",
      "Epoch 10/10\n",
      "11/11 [==============================] - 2s 80ms/step - loss: 1.4159 - root_mean_squared_error: 1.1899 - val_loss: 1.5241 - val_root_mean_squared_error: 1.2345\n"
     ]
    }
   ],
   "source": [
    "model = NGCFModel(\n",
    "    num_users=metadata[\"num_users\"],\n",
    "    num_items=metadata[\"num_items\"],\n",
    "    num_layers=2,\n",
    "    embedding_size=128,\n",
    "    n_fold=1,\n",
    "    adj_save_dir=os.path.join(data_path, \"movielens_100k_adj_mat\"),\n",
    ")\n",
    "\n",
    "\n",
    "model.compile(\n",
    "    optimizer=tf.keras.optimizers.Adam(),\n",
    "    loss=\"mean_squared_error\",\n",
    "    metrics=[tf.keras.metrics.RootMeanSquaredError()],\n",
    ")\n",
    "\n",
    "\n",
    "log_dir = os.path.join(\n",
    "    \"..\", \"logs\", \"model_ngcf\", datetime.datetime.now().strftime(\"%Y%m%d-%H%M%S\")\n",
    ")\n",
    "tensorboard_callback = tf.keras.callbacks.TensorBoard(log_dir=log_dir, histogram_freq=1)\n",
    "\n",
    "\n",
    "early_stopping = tf.keras.callbacks.EarlyStopping(\n",
    "    monitor=\"val_loss\", patience=50, verbose=1\n",
    ")\n",
    "\n",
    "\n",
    "history = model.fit(\n",
    "    train_ds_repeat,\n",
    "    epochs=10,\n",
    "    steps_per_epoch=datahandler_train.steps_per_epoch,\n",
    "    validation_data=test_ds_cache,\n",
    "    validation_steps=datahandler_test.steps_per_epoch,\n",
    "    callbacks=[tensorboard_callback, early_stopping],\n",
    "    verbose=1,\n",
    ")"
   ]
  },
  {
   "cell_type": "code",
   "execution_count": 10,
   "metadata": {},
   "outputs": [
    {
     "name": "stdout",
     "output_type": "stream",
     "text": [
      "Model: \"ngcf_model\"\n",
      "_________________________________________________________________\n",
      " Layer (type)                Output Shape              Param #   \n",
      "=================================================================\n",
      " user_embeddings (Embedding)  multiple                 120704    \n",
      "                                                                 \n",
      " item_embeddings (Embedding)  multiple                 212992    \n",
      "                                                                 \n",
      " ngcf_layer (NGCFLayer)      multiple                  32768     \n",
      "                                                                 \n",
      " ngcf_layer_1 (NGCFLayer)    multiple                  32768     \n",
      "                                                                 \n",
      "=================================================================\n",
      "Total params: 399,232\n",
      "Trainable params: 399,232\n",
      "Non-trainable params: 0\n",
      "_________________________________________________________________\n"
     ]
    }
   ],
   "source": [
    "model.summary()"
   ]
  },
  {
   "cell_type": "code",
   "execution_count": 11,
   "metadata": {},
   "outputs": [],
   "source": [
    "import matplotlib.pyplot as plt\n",
    "\n",
    "\n",
    "def plot_loss_curves(history):\n",
    "    \"\"\"\n",
    "    Return separate loss curves for training and validation metrics, displayed side by side.\n",
    "    \"\"\"\n",
    "    loss = history.history[\"loss\"]\n",
    "    val_loss = history.history[\"val_loss\"]\n",
    "\n",
    "    accuracy = history.history[\"root_mean_squared_error\"]\n",
    "    val_accuracy = history.history[\"val_root_mean_squared_error\"]\n",
    "\n",
    "    epochs = range(len(history.history[\"loss\"]))  # how many epochs did we run for?\n",
    "\n",
    "    # Create a figure and a set of subplots\n",
    "    fig, (ax1, ax2) = plt.subplots(1, 2, figsize=(12, 5))  # 1 row, 2 columns\n",
    "\n",
    "    # Plot loss on the first subplot\n",
    "    ax1.plot(epochs, loss, label=\"training_loss\")\n",
    "    ax1.plot(epochs, val_loss, label=\"val_loss\")\n",
    "    # ax1.set_yscale('log')\n",
    "    ax1.set_title(\"Loss\")\n",
    "    ax1.set_xlabel(\"epochs\")\n",
    "    ax1.legend()\n",
    "\n",
    "    # Plot accuracy on the second subplot\n",
    "    ax2.plot(epochs, accuracy, label=\"training_rmse\")\n",
    "    ax2.plot(epochs, val_accuracy, label=\"val_rmse\")\n",
    "    # ax2.set_yscale('log')\n",
    "    ax2.set_title(\"RMSE\")\n",
    "    ax2.set_xlabel(\"epochs\")\n",
    "    ax2.legend()\n",
    "\n",
    "    plt.tight_layout()  # Adjust the layout\n",
    "    plt.show()"
   ]
  },
  {
   "cell_type": "code",
   "execution_count": 12,
   "metadata": {},
   "outputs": [
    {
     "data": {
      "image/png": "[encoded data removed]",
      "text/plain": [
       "<Figure size 1200x500 with 2 Axes>"
      ]
     },
     "metadata": {},
     "output_type": "display_data"
    }
   ],
   "source": [
    "plot_loss_curves(history)"
   ]
  },
  {
   "cell_type": "code",
   "execution_count": 16,
   "metadata": {},
   "outputs": [
    {
     "data": {
      "text/plain": [
       "0.9159125685691833"
      ]
     },
     "execution_count": 16,
     "metadata": {},
     "output_type": "execute_result"
    }
   ],
   "source": [
    "min(history.history[\"val_loss\"])"
   ]
  },
  {
   "cell_type": "code",
   "execution_count": 14,
   "metadata": {},
   "outputs": [
    {
     "data": {
      "text/plain": [
       "<tf.Tensor: shape=(4,), dtype=float32, numpy=array([4.7258883, 2.6220837, 4.016217 , 2.6648955], dtype=float32)>"
      ]
     },
     "execution_count": 14,
     "metadata": {},
     "output_type": "execute_result"
    }
   ],
   "source": [
    "input = {\n",
    "    \"user_index\": tf.constant([0, 4, 9, 3]),\n",
    "    \"item_index\": tf.constant([3, 5, 9, 10]),\n",
    "}\n",
    "model(input)"
   ]
  }
 ],
 "metadata": {
  "kernelspec": {
   "display_name": "rs-thesis",
   "language": "python",
   "name": "python3"
  },
  "language_info": {
   "codemirror_mode": {
    "name": "ipython",
    "version": 3
   },
   "file_extension": ".py",
   "mimetype": "text/x-python",
   "name": "python",
   "nbconvert_exporter": "python",
   "pygments_lexer": "ipython3",
   "version": "3.10.13"
  }
 },
 "nbformat": 4,
 "nbformat_minor": 2
}
