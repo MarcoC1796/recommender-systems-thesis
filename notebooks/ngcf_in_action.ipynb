{
 "cells": [
  {
   "cell_type": "markdown",
   "metadata": {},
   "source": [
    "# NGCF Model Implementation and Experimentation\n",
    "\n",
    "## Introduction\n",
    "\n",
    "Welcome to this Jupyter notebook where we explore the Neural Graph Collaborative Filtering (NGCF) model.\n",
    "In this notebook, we will configure our environment, load the necessary data using a custom `DataHandler`,\n",
    "and execute the NGCF model to recommend items based on user-item interactions.\n",
    "\n",
    "Please refer to the original paper [Neural Graph Collaborative Filtering](https://arxiv.org/abs/1905.08108) by Xiang Wang et al. (2019) for detailed conceptual information.\n"
   ]
  },
  {
   "cell_type": "markdown",
   "metadata": {},
   "source": [
    "## Environment Setup\n",
    "\n",
    "In this section, we set up our Python environment, check for GPU availability, and import necessary modules.\n",
    "\n",
    "### Import Statements\n"
   ]
  },
  {
   "cell_type": "code",
   "execution_count": 2,
   "metadata": {},
   "outputs": [],
   "source": [
    "from models.ngcf import NGCFModel\n",
    "import tensorflow as tf\n",
    "import os\n",
    "import json\n",
    "import datetime\n",
    "from utils.datahandler import DataHandler"
   ]
  },
  {
   "cell_type": "markdown",
   "metadata": {},
   "source": [
    "### GPU Configuration Check\n"
   ]
  },
  {
   "cell_type": "code",
   "execution_count": 3,
   "metadata": {},
   "outputs": [
    {
     "name": "stdout",
     "output_type": "stream",
     "text": [
      "GPU being used:\n",
      "NVIDIA GeForce RTX 3060 Laptop GPU\n"
     ]
    }
   ],
   "source": [
    "gpu_devices = tf.config.list_physical_devices(\"GPU\")\n",
    "if gpu_devices:\n",
    "    details = tf.config.experimental.get_device_details(gpu_devices[0])\n",
    "    print(\"GPU being used:\")\n",
    "    print(details.get(\"device_name\", \"Unknown GPU\"))"
   ]
  },
  {
   "cell_type": "markdown",
   "metadata": {},
   "source": [
    "## Data Preprocessing\n",
    "\n",
    "Here, we will prepare our dataset for training and testing. We use the MovieLens dataset, preprocessed into a suitable format.\n"
   ]
  },
  {
   "cell_type": "code",
   "execution_count": 4,
   "metadata": {},
   "outputs": [],
   "source": [
    "data_path = os.path.join(\"..\", \"datasets\", \"preprocessed\", \"movielens\")\n",
    "datahandler_train = DataHandler(\n",
    "    dataset_path=os.path.join(data_path, \"movielens_100k_train.csv\"), batch_size=8192\n",
    ")\n",
    "datahandler_test = DataHandler(\n",
    "    dataset_path=os.path.join(data_path, \"movielens_100k_test.csv\"), batch_size=8192\n",
    ")\n",
    "train_ds, test_ds = datahandler_train.load_data(), datahandler_test.load_data()\n",
    "with open(os.path.join(data_path, \"movielens_100k_metadata.json\"), \"r\") as file:\n",
    "    metadata = json.load(file)"
   ]
  },
  {
   "cell_type": "code",
   "execution_count": 5,
   "metadata": {},
   "outputs": [],
   "source": [
    "train_ds_repeat = train_ds.repeat()\n",
    "test_ds_cache = test_ds.cache()"
   ]
  },
  {
   "cell_type": "markdown",
   "metadata": {},
   "source": [
    "## Model Initialization, Compilation, and Training\n",
    "\n",
    "Here, we initialize the NGCFModel with the dataset's metadata. The number of users, items, layers, and embedding size are specified, along with the number of folds for the adjacency matrix and the directory where the adjacency matrices are saved. Following initialization, the model is compiled with the Adam optimizer and mean squared error loss function, and we track the root mean squared error as a metric.\n",
    "\n",
    "This cell runs the training process for the NGCFModel. We use the `model.fit()` method, passing in the repeated training dataset and the cached test dataset for validation. The model is trained for 30 epochs, and verbose output is enabled to monitor progress directly within this notebook. The output shows the loss and root mean squared error after each epoch for both the training and validation datasets, providing insight into the model's learning process.\n"
   ]
  },
  {
   "cell_type": "code",
   "execution_count": 6,
   "metadata": {},
   "outputs": [
    {
     "name": "stdout",
     "output_type": "stream",
     "text": [
      "Epoch 1/30\n",
      "11/11 [==============================] - 6s 155ms/step - loss: 9.5278 - root_mean_squared_error: 3.0867 - val_loss: 4.0599 - val_root_mean_squared_error: 2.0149\n",
      "Epoch 2/30\n",
      "11/11 [==============================] - 2s 121ms/step - loss: 3.5639 - root_mean_squared_error: 1.8878 - val_loss: 3.2286 - val_root_mean_squared_error: 1.7968\n",
      "Epoch 3/30\n",
      "11/11 [==============================] - 2s 74ms/step - loss: 2.5264 - root_mean_squared_error: 1.5895 - val_loss: 2.3129 - val_root_mean_squared_error: 1.5208\n",
      "Epoch 4/30\n",
      "11/11 [==============================] - 1s 59ms/step - loss: 2.1215 - root_mean_squared_error: 1.4565 - val_loss: 2.1795 - val_root_mean_squared_error: 1.4763\n",
      "Epoch 5/30\n",
      "11/11 [==============================] - 2s 87ms/step - loss: 1.9077 - root_mean_squared_error: 1.3812 - val_loss: 1.9453 - val_root_mean_squared_error: 1.3948\n",
      "Epoch 6/30\n",
      "11/11 [==============================] - 2s 62ms/step - loss: 1.7499 - root_mean_squared_error: 1.3228 - val_loss: 1.8333 - val_root_mean_squared_error: 1.3540\n",
      "Epoch 7/30\n",
      "11/11 [==============================] - 1s 56ms/step - loss: 1.6360 - root_mean_squared_error: 1.2791 - val_loss: 1.7249 - val_root_mean_squared_error: 1.3134\n",
      "Epoch 8/30\n",
      "11/11 [==============================] - 2s 92ms/step - loss: 1.5423 - root_mean_squared_error: 1.2419 - val_loss: 1.6382 - val_root_mean_squared_error: 1.2799\n",
      "Epoch 9/30\n",
      "11/11 [==============================] - 2s 72ms/step - loss: 1.4583 - root_mean_squared_error: 1.2076 - val_loss: 1.5583 - val_root_mean_squared_error: 1.2483\n",
      "Epoch 10/30\n",
      "11/11 [==============================] - 1s 48ms/step - loss: 1.3815 - root_mean_squared_error: 1.1754 - val_loss: 1.4824 - val_root_mean_squared_error: 1.2175\n",
      "Epoch 11/30\n",
      "11/11 [==============================] - 1s 59ms/step - loss: 1.3086 - root_mean_squared_error: 1.1439 - val_loss: 1.4108 - val_root_mean_squared_error: 1.1878\n",
      "Epoch 12/30\n",
      "11/11 [==============================] - 2s 71ms/step - loss: 1.2386 - root_mean_squared_error: 1.1129 - val_loss: 1.3377 - val_root_mean_squared_error: 1.1566\n",
      "Epoch 13/30\n",
      "11/11 [==============================] - 1s 53ms/step - loss: 1.1685 - root_mean_squared_error: 1.0810 - val_loss: 1.2667 - val_root_mean_squared_error: 1.1255\n",
      "Epoch 14/30\n",
      "11/11 [==============================] - 2s 59ms/step - loss: 1.0974 - root_mean_squared_error: 1.0476 - val_loss: 1.1998 - val_root_mean_squared_error: 1.0954\n",
      "Epoch 15/30\n",
      "11/11 [==============================] - 2s 67ms/step - loss: 1.0322 - root_mean_squared_error: 1.0160 - val_loss: 1.1458 - val_root_mean_squared_error: 1.0704\n",
      "Epoch 16/30\n",
      "11/11 [==============================] - 1s 62ms/step - loss: 0.9834 - root_mean_squared_error: 0.9917 - val_loss: 1.1108 - val_root_mean_squared_error: 1.0540\n",
      "Epoch 17/30\n",
      "11/11 [==============================] - 2s 69ms/step - loss: 0.9448 - root_mean_squared_error: 0.9720 - val_loss: 1.0808 - val_root_mean_squared_error: 1.0396\n",
      "Epoch 18/30\n",
      "11/11 [==============================] - 1s 55ms/step - loss: 0.9180 - root_mean_squared_error: 0.9581 - val_loss: 1.0586 - val_root_mean_squared_error: 1.0289\n",
      "Epoch 19/30\n",
      "11/11 [==============================] - 2s 92ms/step - loss: 0.8978 - root_mean_squared_error: 0.9475 - val_loss: 1.0383 - val_root_mean_squared_error: 1.0190\n",
      "Epoch 20/30\n",
      "11/11 [==============================] - 2s 74ms/step - loss: 0.8818 - root_mean_squared_error: 0.9390 - val_loss: 1.0278 - val_root_mean_squared_error: 1.0138\n",
      "Epoch 21/30\n",
      "11/11 [==============================] - 1s 57ms/step - loss: 0.8694 - root_mean_squared_error: 0.9324 - val_loss: 1.0190 - val_root_mean_squared_error: 1.0095\n",
      "Epoch 22/30\n",
      "11/11 [==============================] - 2s 65ms/step - loss: 0.8591 - root_mean_squared_error: 0.9269 - val_loss: 1.0107 - val_root_mean_squared_error: 1.0053\n",
      "Epoch 23/30\n",
      "11/11 [==============================] - 2s 71ms/step - loss: 0.8507 - root_mean_squared_error: 0.9223 - val_loss: 1.0013 - val_root_mean_squared_error: 1.0007\n",
      "Epoch 24/30\n",
      "11/11 [==============================] - 2s 72ms/step - loss: 0.8421 - root_mean_squared_error: 0.9177 - val_loss: 0.9922 - val_root_mean_squared_error: 0.9961\n",
      "Epoch 25/30\n",
      "11/11 [==============================] - 2s 62ms/step - loss: 0.8338 - root_mean_squared_error: 0.9131 - val_loss: 0.9869 - val_root_mean_squared_error: 0.9935\n",
      "Epoch 26/30\n",
      "11/11 [==============================] - 2s 74ms/step - loss: 0.8261 - root_mean_squared_error: 0.9089 - val_loss: 0.9853 - val_root_mean_squared_error: 0.9926\n",
      "Epoch 27/30\n",
      "11/11 [==============================] - 2s 82ms/step - loss: 0.8198 - root_mean_squared_error: 0.9054 - val_loss: 0.9772 - val_root_mean_squared_error: 0.9886\n",
      "Epoch 28/30\n",
      "11/11 [==============================] - 2s 69ms/step - loss: 0.8148 - root_mean_squared_error: 0.9027 - val_loss: 0.9717 - val_root_mean_squared_error: 0.9858\n",
      "Epoch 29/30\n",
      "11/11 [==============================] - 2s 58ms/step - loss: 0.8070 - root_mean_squared_error: 0.8983 - val_loss: 0.9707 - val_root_mean_squared_error: 0.9852\n",
      "Epoch 30/30\n",
      "11/11 [==============================] - 2s 105ms/step - loss: 0.8015 - root_mean_squared_error: 0.8953 - val_loss: 0.9684 - val_root_mean_squared_error: 0.9840\n"
     ]
    }
   ],
   "source": [
    "# Code to initialize the NGCFModel with parameters from the metadata\n",
    "model = NGCFModel(\n",
    "    num_users=metadata[\"num_users\"],\n",
    "    num_items=metadata[\"num_items\"],\n",
    "    num_layers=2,\n",
    "    embedding_size=128,\n",
    "    n_fold=1,\n",
    "    adj_save_dir=os.path.join(data_path, \"movielens_100k_adj_mat\"),\n",
    ")\n",
    "\n",
    "\n",
    "\n",
    "# Code to compile the NGCFModel\n",
    "\n",
    "\n",
    "model.compile(\n",
    "    optimizer=tf.keras.optimizers.Adam(),\n",
    "    loss=\"mean_squared_error\",\n",
    "    metrics=[tf.keras.metrics.RootMeanSquaredError()],\n",
    ")\n",
    "\n",
    "\n",
    "\n",
    "log_dir = os.path.join(\n",
    "    \"..\", \"logs\", \"model_ngcf\", datetime.datetime.now().strftime(\"%Y%m%d-%H%M%S\")\n",
    ")\n",
    "\n",
    "\n",
    "tensorboard_callback = tf.keras.callbacks.TensorBoard(log_dir=log_dir, histogram_freq=1)\n",
    "\n",
    "\n",
    "\n",
    "early_stopping = tf.keras.callbacks.EarlyStopping(\n",
    "    monitor=\"val_loss\", patience=50, verbose=1\n",
    ")\n",
    "\n",
    "\n",
    "\n",
    "# Code to fit the model to the training data\n",
    "\n",
    "\n",
    "history = model.fit(\n",
    "    train_ds_repeat,\n",
    "\n",
    "    epochs=30,\n",
    "    steps_per_epoch=datahandler_train.steps_per_epoch,\n",
    "\n",
    "    validation_data=test_ds_cache,\n",
    "    validation_steps=datahandler_test.steps_per_epoch,\n",
    "    callbacks=[tensorboard_callback, early_stopping],\n",
    "    verbose=1,\n",
    ")"
   ]
  },
  {
   "cell_type": "markdown",
   "metadata": {},
   "source": [
    "### Model Summary\n",
    "\n",
    "The output of `model.summary()` provides a detailed overview of our NGCFModel's architecture. It lists each layer, including the type of the layer, the output shape, and the number of parameters it has. This summary is crucial for understanding the complexity of the model and ensuring that the architecture is as expected.\n",
    "\n",
    "As we can see, the model has separate embedding layers for users and items, indicating that it learns distinct representations for both entities. Additionally, there are multiple NGCF layers, each presumably responsible for capturing different levels of interactions in the user-item graph. The total number of parameters in the model amounts to over 1 million, all of which are trainable. This gives us an insight into the scale of the model and the computational resources that might be required for training.\n"
   ]
  },
  {
   "cell_type": "code",
   "execution_count": 7,
   "metadata": {},
   "outputs": [
    {
     "name": "stdout",
     "output_type": "stream",
     "text": [
      "Model: \"ngcf_model\"\n",
      "_________________________________________________________________\n",
      " Layer (type)                Output Shape              Param #   \n",
      "=================================================================\n",
      " user_embeddings (Embedding)  multiple                 120704    \n",
      "                                                                 \n",
      " item_embeddings (Embedding)  multiple                 212992    \n",
      "                                                                 \n",
      " ngcf_layer (NGCFLayer)      multiple                  32768     \n",
      "                                                                 \n",
      " ngcf_layer_1 (NGCFLayer)    multiple                  32768     \n",
      "                                                                 \n",
      "=================================================================\n",
      "Total params: 399,232\n",
      "Trainable params: 399,232\n",
      "Non-trainable params: 0\n",
      "_________________________________________________________________\n"
     ]
    }
   ],
   "source": [
    "model.summary()"
   ]
  },
  {
   "cell_type": "markdown",
   "metadata": {},
   "source": [
    "### Visualization of Training Progress\n",
    "\n",
    "Visualizing the training progress is crucial to understand how well our model is learning and generalizing. In the following code cell, we define a function `plot_loss_curves` which takes the training history object as input and generates two plots: one for the loss and one for the RMSE over each epoch of training. These plots are displayed side by side for easy comparison between training and validation metrics.\n"
   ]
  },
  {
   "cell_type": "code",
   "execution_count": 8,
   "metadata": {},
   "outputs": [],
   "source": [
    "import matplotlib.pyplot as plt\n",
    "\n",
    "\n",
    "def plot_loss_curves(history):\n",
    "    \"\"\"\n",
    "    Return separate loss curves for training and validation metrics, displayed side by side.\n",
    "    \"\"\"\n",
    "    loss = history.history[\"loss\"]\n",
    "    val_loss = history.history[\"val_loss\"]\n",
    "\n",
    "    accuracy = history.history[\"root_mean_squared_error\"]\n",
    "    val_accuracy = history.history[\"val_root_mean_squared_error\"]\n",
    "\n",
    "    epochs = range(len(history.history[\"loss\"]))  # how many epochs did we run for?\n",
    "\n",
    "    # Create a figure and a set of subplots\n",
    "    fig, (ax1, ax2) = plt.subplots(1, 2, figsize=(12, 5))  # 1 row, 2 columns\n",
    "\n",
    "    # Plot loss on the first subplot\n",
    "    ax1.plot(epochs, loss, label=\"training_loss\")\n",
    "    ax1.plot(epochs, val_loss, label=\"val_loss\")\n",
    "    # ax1.set_yscale('log')\n",
    "    ax1.set_title(\"Loss\")\n",
    "    ax1.set_xlabel(\"epochs\")\n",
    "    ax1.legend()\n",
    "\n",
    "    # Plot accuracy on the second subplot\n",
    "    ax2.plot(epochs, accuracy, label=\"training_rmse\")\n",
    "    ax2.plot(epochs, val_accuracy, label=\"val_rmse\")\n",
    "    # ax2.set_yscale('log')\n",
    "    ax2.set_title(\"RMSE\")\n",
    "    ax2.set_xlabel(\"epochs\")\n",
    "    ax2.legend()\n",
    "\n",
    "    plt.tight_layout()  # Adjust the layout\n",
    "    plt.show()"
   ]
  },
  {
   "cell_type": "code",
   "execution_count": 9,
   "metadata": {},
   "outputs": [
    {
     "data": {
      "image/png": "[encoded data removed]",
      "text/plain": [
       "<Figure size 1200x500 with 2 Axes>"
      ]
     },
     "metadata": {},
     "output_type": "display_data"
    }
   ],
   "source": [
    "plot_loss_curves(history)"
   ]
  },
  {
   "cell_type": "markdown",
   "metadata": {},
   "source": [
    "## Deeper Interpretation of the Training Graphs\n",
    "\n",
    "### Loss Plot Interpretation\n",
    "\n",
    "- **Rapid Decrease in Initial Epochs:**\n",
    "  Both the training and validation loss show a steep decrease at the beginning of training, indicating that the model is learning effectively from an initial state of random weights.\n",
    "\n",
    "- **Convergence Trend:**\n",
    "  As training progresses, the decline in loss for both training and validation datasets slows down and the curves begin to plateau, which suggests the model is approaching convergence.\n",
    "\n",
    "- **Overfitting Indicator:**\n",
    "  The persistent gap between the training and validation loss suggests a mild overfitting, where the model performs slightly better on the training data compared to the unseen validation data. However, the stability of the validation loss indicates that overfitting is not severe.\n",
    "\n",
    "### RMSE Plot Interpretation\n",
    "\n",
    "- **Sharp Initial Improvement:**\n",
    "  Similar to the loss graph, we see a sharp initial improvement in RMSE for both training and validation, indicating that the model's predictions are rapidly aligning with the actual ratings.\n",
    "\n",
    "- **Signs of Overfitting:**\n",
    "  The RMSE for training and validation decreases and converges initially, but later the validation RMSE shows a slight increase, which might be indicative of the model starting to overfit to the training data.\n",
    "\n",
    "- **Stabilization Phase:**\n",
    "  Both the training and validation RMSE stabilize towards the end of the epochs, suggesting that the model might have reached its learning capacity given the current architecture and hyperparameters.\n",
    "\n",
    "### Overall Insights\n",
    "\n",
    "The training dynamics demonstrated by the decreasing loss and RMSE are indicative of effective learning. The small but noticeable gap between the training and validation metrics suggests a balance between bias and variance, with some room for improvement, possibly by regularization or hyperparameter tuning. The stabilization of the metrics towards the end of training suggests diminishing returns on further training without modifications to the model or training regimen.\n"
   ]
  }
 ],
 "metadata": {
  "kernelspec": {
   "display_name": "rs-thesis",
   "language": "python",
   "name": "python3"
  },
  "language_info": {
   "codemirror_mode": {
    "name": "ipython",
    "version": 3
   },
   "file_extension": ".py",
   "mimetype": "text/x-python",
   "name": "python",
   "nbconvert_exporter": "python",
   "pygments_lexer": "ipython3",
   "version": "3.10.13"
  }
 },
 "nbformat": 4,
 "nbformat_minor": 2
}
