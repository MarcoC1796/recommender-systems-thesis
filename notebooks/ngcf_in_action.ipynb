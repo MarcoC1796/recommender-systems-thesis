{
 "cells": [
  {
   "cell_type": "code",
   "execution_count": 2,
   "metadata": {},
   "outputs": [],
   "source": [
    "from models.ngcf import NGCFModel\n",
    "import tensorflow as tf\n",
    "import os\n",
    "import json\n",
    "from utils.datahandler import DataHandler"
   ]
  },
  {
   "cell_type": "code",
   "execution_count": 16,
   "metadata": {},
   "outputs": [],
   "source": [
    "data_path = os.path.join(\"..\", \"datasets\", \"preprocessed\", \"movielens\")\n",
    "datahandler_train = DataHandler(\n",
    "    dataset_path=os.path.join(data_path, \"movielens_100k_train.csv\"), batch_size=8192\n",
    ")\n",
    "datahandler_test = DataHandler(\n",
    "    dataset_path=os.path.join(data_path, \"movielens_100k_test.csv\"), batch_size=8192\n",
    ")\n",
    "train_ds, test_ds = datahandler_train.load_data(), datahandler_test.load_data()\n",
    "with open(os.path.join(data_path, \"movielens_100k_metadata.json\"), \"r\") as file:\n",
    "    metadata = json.load(file)"
   ]
  },
  {
   "cell_type": "code",
   "execution_count": 18,
   "metadata": {},
   "outputs": [],
   "source": [
    "train_ds_repeat = train_ds.repeat()\n",
    "test_ds_cache = test_ds.cache()"
   ]
  },
  {
   "cell_type": "code",
   "execution_count": 22,
   "metadata": {},
   "outputs": [
    {
     "name": "stdout",
     "output_type": "stream",
     "text": [
      "Epoch 1/100\n",
      "11/11 [==============================] - 9s 189ms/step - loss: 12.4137 - root_mean_squared_error: 3.5233 - val_loss: 9.8015 - val_root_mean_squared_error: 3.1307\n",
      "Epoch 2/100\n",
      "11/11 [==============================] - 2s 59ms/step - loss: 5.8264 - root_mean_squared_error: 2.4138 - val_loss: 4.9754 - val_root_mean_squared_error: 2.2306\n",
      "Epoch 3/100\n",
      "11/11 [==============================] - 1s 46ms/step - loss: 3.5294 - root_mean_squared_error: 1.8787 - val_loss: 3.4623 - val_root_mean_squared_error: 1.8607\n",
      "Epoch 4/100\n",
      "11/11 [==============================] - 1s 58ms/step - loss: 2.9065 - root_mean_squared_error: 1.7048 - val_loss: 2.9559 - val_root_mean_squared_error: 1.7193\n",
      "Epoch 5/100\n",
      "11/11 [==============================] - 1s 60ms/step - loss: 2.5801 - root_mean_squared_error: 1.6063 - val_loss: 2.6206 - val_root_mean_squared_error: 1.6188\n",
      "Epoch 6/100\n",
      "11/11 [==============================] - 1s 58ms/step - loss: 2.3739 - root_mean_squared_error: 1.5407 - val_loss: 2.4392 - val_root_mean_squared_error: 1.5618\n",
      "Epoch 7/100\n",
      "11/11 [==============================] - 2s 58ms/step - loss: 2.2129 - root_mean_squared_error: 1.4876 - val_loss: 2.2784 - val_root_mean_squared_error: 1.5094\n",
      "Epoch 8/100\n",
      "11/11 [==============================] - 1s 58ms/step - loss: 2.0690 - root_mean_squared_error: 1.4384 - val_loss: 2.1348 - val_root_mean_squared_error: 1.4611\n",
      "Epoch 9/100\n",
      "11/11 [==============================] - 1s 58ms/step - loss: 1.9314 - root_mean_squared_error: 1.3897 - val_loss: 1.9954 - val_root_mean_squared_error: 1.4126\n",
      "Epoch 10/100\n",
      "11/11 [==============================] - 1s 55ms/step - loss: 1.7965 - root_mean_squared_error: 1.3403 - val_loss: 1.8557 - val_root_mean_squared_error: 1.3622\n",
      "Epoch 11/100\n",
      "11/11 [==============================] - 1s 54ms/step - loss: 1.6649 - root_mean_squared_error: 1.2903 - val_loss: 1.7221 - val_root_mean_squared_error: 1.3123\n",
      "Epoch 12/100\n",
      "11/11 [==============================] - 1s 54ms/step - loss: 1.5450 - root_mean_squared_error: 1.2430 - val_loss: 1.6066 - val_root_mean_squared_error: 1.2675\n",
      "Epoch 13/100\n",
      "11/11 [==============================] - 1s 55ms/step - loss: 1.4457 - root_mean_squared_error: 1.2024 - val_loss: 1.5155 - val_root_mean_squared_error: 1.2310\n",
      "Epoch 14/100\n",
      "11/11 [==============================] - 1s 56ms/step - loss: 1.3676 - root_mean_squared_error: 1.1694 - val_loss: 1.4461 - val_root_mean_squared_error: 1.2026\n",
      "Epoch 15/100\n",
      "11/11 [==============================] - 2s 59ms/step - loss: 1.3052 - root_mean_squared_error: 1.1425 - val_loss: 1.3873 - val_root_mean_squared_error: 1.1778\n",
      "Epoch 16/100\n",
      "11/11 [==============================] - 2s 58ms/step - loss: 1.2515 - root_mean_squared_error: 1.1187 - val_loss: 1.3378 - val_root_mean_squared_error: 1.1566\n",
      "Epoch 17/100\n",
      "11/11 [==============================] - 1s 57ms/step - loss: 1.2057 - root_mean_squared_error: 1.0981 - val_loss: 1.2960 - val_root_mean_squared_error: 1.1384\n",
      "Epoch 18/100\n",
      "11/11 [==============================] - 1s 56ms/step - loss: 1.1661 - root_mean_squared_error: 1.0799 - val_loss: 1.2598 - val_root_mean_squared_error: 1.1224\n",
      "Epoch 19/100\n",
      "11/11 [==============================] - 1s 57ms/step - loss: 1.1318 - root_mean_squared_error: 1.0639 - val_loss: 1.2292 - val_root_mean_squared_error: 1.1087\n",
      "Epoch 20/100\n",
      "11/11 [==============================] - 1s 51ms/step - loss: 1.1011 - root_mean_squared_error: 1.0494 - val_loss: 1.2016 - val_root_mean_squared_error: 1.0962\n",
      "Epoch 21/100\n",
      "11/11 [==============================] - 1s 52ms/step - loss: 1.0743 - root_mean_squared_error: 1.0365 - val_loss: 1.1773 - val_root_mean_squared_error: 1.0851\n",
      "Epoch 22/100\n",
      "11/11 [==============================] - 1s 56ms/step - loss: 1.0507 - root_mean_squared_error: 1.0250 - val_loss: 1.1556 - val_root_mean_squared_error: 1.0750\n",
      "Epoch 23/100\n",
      "11/11 [==============================] - 1s 57ms/step - loss: 1.0293 - root_mean_squared_error: 1.0146 - val_loss: 1.1371 - val_root_mean_squared_error: 1.0663\n",
      "Epoch 24/100\n",
      "11/11 [==============================] - 1s 56ms/step - loss: 1.0105 - root_mean_squared_error: 1.0052 - val_loss: 1.1207 - val_root_mean_squared_error: 1.0586\n",
      "Epoch 25/100\n",
      "11/11 [==============================] - 2s 59ms/step - loss: 0.9935 - root_mean_squared_error: 0.9968 - val_loss: 1.1054 - val_root_mean_squared_error: 1.0514\n",
      "Epoch 26/100\n",
      "11/11 [==============================] - 1s 58ms/step - loss: 0.9781 - root_mean_squared_error: 0.9890 - val_loss: 1.0925 - val_root_mean_squared_error: 1.0452\n",
      "Epoch 27/100\n",
      " 7/11 [==================>...........] - ETA: 0s - loss: 0.9689 - root_mean_squared_error: 0.9843"
     ]
    }
   ],
   "source": [
    "model = NGCFModel(\n",
    "    num_users=metadata[\"num_users\"],\n",
    "    num_items=metadata[\"num_items\"],\n",
    "    num_layers=3,\n",
    "    embedding_size=32,\n",
    "    n_fold=1,\n",
    "    adj_save_dir=os.path.join(data_path, \"movielens_100k_adj_mat\"),\n",
    ")\n",
    "\n",
    "model.compile(\n",
    "    optimizer=\"adam\",\n",
    "    loss=\"mean_squared_error\",\n",
    "    metrics=[tf.keras.metrics.RootMeanSquaredError()],\n",
    ")\n",
    "\n",
    "\n",
    "history = model.fit(\n",
    "    train_ds_repeat,\n",
    "    epochs=100,\n",
    "    steps_per_epoch=datahandler_train.steps_per_epoch,\n",
    "    validation_data=test_ds_cache,\n",
    "    validation_steps=datahandler_test.steps_per_epoch,\n",
    "    verbose=1,\n",
    ")"
   ]
  },
  {
   "cell_type": "code",
   "execution_count": 21,
   "metadata": {},
   "outputs": [
    {
     "name": "stdout",
     "output_type": "stream",
     "text": [
      "Features: {'user_index': <tf.Tensor: shape=(8192,), dtype=int32, numpy=array([ 13, 270, 302, ..., 425, 707, 296])>, 'item_index': <tf.Tensor: shape=(8192,), dtype=int32, numpy=array([ 433, 1097, 1181, ...,   45, 1018, 1034])>}\n",
      "Labels: tf.Tensor([4. 3. 3. ... 5. 2. 3.], shape=(8192,), dtype=float32)\n",
      "Shapes: {'user_index': TensorShape([8192]), 'item_index': TensorShape([8192])} (8192,)\n",
      "Epoch 1/100\n",
      "10/10 [==============================] - 9s 353ms/step - loss: 4.1886 - root_mean_squared_error: 2.0466 - val_loss: 3.1665 - val_root_mean_squared_error: 1.7795\n",
      "Epoch 2/100\n",
      "10/10 [==============================] - 2s 154ms/step - loss: 3.1337 - root_mean_squared_error: 1.7702 - val_loss: 2.8754 - val_root_mean_squared_error: 1.6957\n",
      "Epoch 3/100\n",
      "10/10 [==============================] - 2s 151ms/step - loss: 2.8376 - root_mean_squared_error: 1.6845 - val_loss: 2.6760 - val_root_mean_squared_error: 1.6358\n",
      "Epoch 4/100\n",
      "10/10 [==============================] - 2s 143ms/step - loss: 2.5966 - root_mean_squared_error: 1.6114 - val_loss: 2.4603 - val_root_mean_squared_error: 1.5685\n",
      "Epoch 5/100\n",
      "10/10 [==============================] - 2s 148ms/step - loss: 2.3615 - root_mean_squared_error: 1.5367 - val_loss: 2.2599 - val_root_mean_squared_error: 1.5033\n",
      "Epoch 6/100\n",
      "10/10 [==============================] - 2s 149ms/step - loss: 2.0972 - root_mean_squared_error: 1.4482 - val_loss: 1.9665 - val_root_mean_squared_error: 1.4023\n",
      "Epoch 7/100\n",
      "10/10 [==============================] - 2s 150ms/step - loss: 1.8982 - root_mean_squared_error: 1.3778 - val_loss: 1.7909 - val_root_mean_squared_error: 1.3382\n",
      "Epoch 8/100\n",
      "10/10 [==============================] - 2s 146ms/step - loss: 1.7206 - root_mean_squared_error: 1.3117 - val_loss: 1.6537 - val_root_mean_squared_error: 1.2860\n",
      "Epoch 9/100\n",
      "10/10 [==============================] - 2s 146ms/step - loss: 1.5846 - root_mean_squared_error: 1.2588 - val_loss: 1.5154 - val_root_mean_squared_error: 1.2310\n",
      "Epoch 10/100\n",
      "10/10 [==============================] - 2s 155ms/step - loss: 1.4681 - root_mean_squared_error: 1.2117 - val_loss: 1.3968 - val_root_mean_squared_error: 1.1819\n",
      "Epoch 11/100\n",
      "10/10 [==============================] - 2s 146ms/step - loss: 1.3617 - root_mean_squared_error: 1.1669 - val_loss: 1.3298 - val_root_mean_squared_error: 1.1532\n",
      "Epoch 12/100\n",
      "10/10 [==============================] - 2s 145ms/step - loss: 1.2775 - root_mean_squared_error: 1.1303 - val_loss: 1.2173 - val_root_mean_squared_error: 1.1033\n",
      "Epoch 13/100\n",
      "10/10 [==============================] - 2s 152ms/step - loss: 1.1931 - root_mean_squared_error: 1.0923 - val_loss: 1.1739 - val_root_mean_squared_error: 1.0835\n",
      "Epoch 14/100\n",
      "10/10 [==============================] - 2s 158ms/step - loss: 1.1337 - root_mean_squared_error: 1.0648 - val_loss: 1.1129 - val_root_mean_squared_error: 1.0549\n",
      "Epoch 15/100\n",
      "10/10 [==============================] - 2s 147ms/step - loss: 1.0811 - root_mean_squared_error: 1.0398 - val_loss: 1.0597 - val_root_mean_squared_error: 1.0294\n",
      "Epoch 16/100\n",
      "10/10 [==============================] - 2s 149ms/step - loss: 1.0394 - root_mean_squared_error: 1.0195 - val_loss: 1.0042 - val_root_mean_squared_error: 1.0021\n",
      "Epoch 17/100\n",
      "10/10 [==============================] - 2s 149ms/step - loss: 0.9885 - root_mean_squared_error: 0.9942 - val_loss: 0.9812 - val_root_mean_squared_error: 0.9905\n",
      "Epoch 18/100\n",
      "10/10 [==============================] - 2s 153ms/step - loss: 0.9629 - root_mean_squared_error: 0.9813 - val_loss: 0.9373 - val_root_mean_squared_error: 0.9681\n",
      "Epoch 19/100\n",
      "10/10 [==============================] - 2s 153ms/step - loss: 0.9520 - root_mean_squared_error: 0.9757 - val_loss: 0.9298 - val_root_mean_squared_error: 0.9642\n",
      "Epoch 20/100\n",
      "10/10 [==============================] - 2s 147ms/step - loss: 0.9306 - root_mean_squared_error: 0.9647 - val_loss: 0.9433 - val_root_mean_squared_error: 0.9712\n",
      "Epoch 21/100\n",
      "10/10 [==============================] - 2s 153ms/step - loss: 0.9529 - root_mean_squared_error: 0.9762 - val_loss: 0.9535 - val_root_mean_squared_error: 0.9765\n",
      "Epoch 22/100\n",
      "10/10 [==============================] - 2s 156ms/step - loss: 0.9333 - root_mean_squared_error: 0.9661 - val_loss: 0.9028 - val_root_mean_squared_error: 0.9502\n",
      "Epoch 23/100\n",
      "10/10 [==============================] - 3s 182ms/step - loss: 0.9033 - root_mean_squared_error: 0.9504 - val_loss: 0.9058 - val_root_mean_squared_error: 0.9517\n",
      "Epoch 24/100\n",
      "10/10 [==============================] - 2s 156ms/step - loss: 0.8957 - root_mean_squared_error: 0.9464 - val_loss: 0.8838 - val_root_mean_squared_error: 0.9401\n",
      "Epoch 25/100\n",
      "10/10 [==============================] - 2s 160ms/step - loss: 0.8844 - root_mean_squared_error: 0.9405 - val_loss: 0.8825 - val_root_mean_squared_error: 0.9394\n",
      "Epoch 26/100\n",
      "10/10 [==============================] - 2s 164ms/step - loss: 0.8704 - root_mean_squared_error: 0.9330 - val_loss: 0.8606 - val_root_mean_squared_error: 0.9277\n",
      "Epoch 27/100\n",
      "10/10 [==============================] - 2s 170ms/step - loss: 0.8787 - root_mean_squared_error: 0.9374 - val_loss: 0.8588 - val_root_mean_squared_error: 0.9267\n",
      "Epoch 28/100\n",
      "10/10 [==============================] - 2s 158ms/step - loss: 0.9296 - root_mean_squared_error: 0.9641 - val_loss: 0.9047 - val_root_mean_squared_error: 0.9511\n",
      "Epoch 29/100\n",
      "10/10 [==============================] - 3s 168ms/step - loss: 0.9125 - root_mean_squared_error: 0.9553 - val_loss: 0.8891 - val_root_mean_squared_error: 0.9429\n",
      "Epoch 30/100\n",
      "10/10 [==============================] - 2s 164ms/step - loss: 0.8812 - root_mean_squared_error: 0.9387 - val_loss: 0.8672 - val_root_mean_squared_error: 0.9312\n",
      "Epoch 31/100\n",
      "10/10 [==============================] - 2s 159ms/step - loss: 0.8640 - root_mean_squared_error: 0.9295 - val_loss: 0.8627 - val_root_mean_squared_error: 0.9288\n",
      "Epoch 32/100\n",
      "10/10 [==============================] - 2s 158ms/step - loss: 0.8517 - root_mean_squared_error: 0.9229 - val_loss: 0.8473 - val_root_mean_squared_error: 0.9205\n",
      "Epoch 33/100\n",
      "10/10 [==============================] - 3s 171ms/step - loss: 0.8476 - root_mean_squared_error: 0.9207 - val_loss: 0.8435 - val_root_mean_squared_error: 0.9184\n",
      "Epoch 34/100\n",
      "10/10 [==============================] - 2s 157ms/step - loss: 0.8378 - root_mean_squared_error: 0.9153 - val_loss: 0.8316 - val_root_mean_squared_error: 0.9119\n",
      "Epoch 35/100\n",
      "10/10 [==============================] - 2s 160ms/step - loss: 0.8390 - root_mean_squared_error: 0.9160 - val_loss: 0.8356 - val_root_mean_squared_error: 0.9141\n",
      "Epoch 36/100\n",
      "10/10 [==============================] - 2s 162ms/step - loss: 0.8286 - root_mean_squared_error: 0.9103 - val_loss: 0.8337 - val_root_mean_squared_error: 0.9131\n",
      "Epoch 37/100\n",
      "10/10 [==============================] - 2s 156ms/step - loss: 0.8264 - root_mean_squared_error: 0.9091 - val_loss: 0.8204 - val_root_mean_squared_error: 0.9058\n",
      "Epoch 38/100\n",
      "10/10 [==============================] - 2s 154ms/step - loss: 0.8305 - root_mean_squared_error: 0.9113 - val_loss: 0.8135 - val_root_mean_squared_error: 0.9019\n",
      "Epoch 39/100\n",
      "10/10 [==============================] - 2s 159ms/step - loss: 0.8154 - root_mean_squared_error: 0.9030 - val_loss: 0.8084 - val_root_mean_squared_error: 0.8991\n",
      "Epoch 40/100\n",
      "10/10 [==============================] - 2s 155ms/step - loss: 0.8177 - root_mean_squared_error: 0.9043 - val_loss: 0.8331 - val_root_mean_squared_error: 0.9127\n",
      "Epoch 41/100\n",
      "10/10 [==============================] - 2s 164ms/step - loss: 0.8111 - root_mean_squared_error: 0.9006 - val_loss: 0.7991 - val_root_mean_squared_error: 0.8939\n",
      "Epoch 42/100\n",
      "10/10 [==============================] - 2s 156ms/step - loss: 0.8053 - root_mean_squared_error: 0.8974 - val_loss: 0.7960 - val_root_mean_squared_error: 0.8922\n",
      "Epoch 43/100\n",
      "10/10 [==============================] - 2s 165ms/step - loss: 0.8017 - root_mean_squared_error: 0.8954 - val_loss: 0.8036 - val_root_mean_squared_error: 0.8965\n",
      "Epoch 44/100\n",
      "10/10 [==============================] - 3s 160ms/step - loss: 0.7924 - root_mean_squared_error: 0.8902 - val_loss: 0.7911 - val_root_mean_squared_error: 0.8894\n",
      "Epoch 45/100\n",
      "10/10 [==============================] - 2s 157ms/step - loss: 0.7897 - root_mean_squared_error: 0.8886 - val_loss: 0.7848 - val_root_mean_squared_error: 0.8859\n",
      "Epoch 46/100\n",
      "10/10 [==============================] - 2s 153ms/step - loss: 0.7875 - root_mean_squared_error: 0.8874 - val_loss: 0.8033 - val_root_mean_squared_error: 0.8963\n",
      "Epoch 47/100\n",
      "10/10 [==============================] - 2s 148ms/step - loss: 0.7888 - root_mean_squared_error: 0.8881 - val_loss: 0.7749 - val_root_mean_squared_error: 0.8803\n",
      "Epoch 48/100\n",
      "10/10 [==============================] - 2s 149ms/step - loss: 0.7778 - root_mean_squared_error: 0.8819 - val_loss: 0.7786 - val_root_mean_squared_error: 0.8824\n",
      "Epoch 49/100\n",
      "10/10 [==============================] - 2s 153ms/step - loss: 0.7819 - root_mean_squared_error: 0.8843 - val_loss: 0.7731 - val_root_mean_squared_error: 0.8793\n",
      "Epoch 50/100\n",
      "10/10 [==============================] - 2s 157ms/step - loss: 0.7672 - root_mean_squared_error: 0.8759 - val_loss: 0.7564 - val_root_mean_squared_error: 0.8697\n",
      "Epoch 51/100\n",
      "10/10 [==============================] - 2s 149ms/step - loss: 0.7683 - root_mean_squared_error: 0.8765 - val_loss: 0.7755 - val_root_mean_squared_error: 0.8806\n",
      "Epoch 52/100\n",
      "10/10 [==============================] - 2s 147ms/step - loss: 0.7704 - root_mean_squared_error: 0.8777 - val_loss: 0.7514 - val_root_mean_squared_error: 0.8669\n",
      "Epoch 53/100\n",
      "10/10 [==============================] - 2s 161ms/step - loss: 0.7559 - root_mean_squared_error: 0.8694 - val_loss: 0.7568 - val_root_mean_squared_error: 0.8699\n",
      "Epoch 54/100\n",
      "10/10 [==============================] - 2s 158ms/step - loss: 0.7578 - root_mean_squared_error: 0.8705 - val_loss: 0.7751 - val_root_mean_squared_error: 0.8804\n",
      "Epoch 55/100\n",
      "10/10 [==============================] - 2s 150ms/step - loss: 0.7588 - root_mean_squared_error: 0.8711 - val_loss: 0.7527 - val_root_mean_squared_error: 0.8676\n",
      "Epoch 56/100\n",
      "10/10 [==============================] - 2s 145ms/step - loss: 0.7520 - root_mean_squared_error: 0.8672 - val_loss: 0.7347 - val_root_mean_squared_error: 0.8572\n",
      "Epoch 57/100\n",
      "10/10 [==============================] - 2s 156ms/step - loss: 0.7590 - root_mean_squared_error: 0.8712 - val_loss: 0.7565 - val_root_mean_squared_error: 0.8698\n",
      "Epoch 58/100\n",
      "10/10 [==============================] - 2s 152ms/step - loss: 0.7546 - root_mean_squared_error: 0.8687 - val_loss: 0.7480 - val_root_mean_squared_error: 0.8649\n",
      "Epoch 59/100\n",
      "10/10 [==============================] - 2s 153ms/step - loss: 0.7375 - root_mean_squared_error: 0.8588 - val_loss: 0.7502 - val_root_mean_squared_error: 0.8661\n",
      "Epoch 60/100\n",
      "10/10 [==============================] - 3s 174ms/step - loss: 0.7444 - root_mean_squared_error: 0.8628 - val_loss: 0.7422 - val_root_mean_squared_error: 0.8615\n",
      "Epoch 61/100\n",
      "10/10 [==============================] - 3s 166ms/step - loss: 0.7391 - root_mean_squared_error: 0.8597 - val_loss: 0.7367 - val_root_mean_squared_error: 0.8583\n",
      "Epoch 62/100\n",
      "10/10 [==============================] - 3s 182ms/step - loss: 0.7299 - root_mean_squared_error: 0.8543 - val_loss: 0.7241 - val_root_mean_squared_error: 0.8509\n",
      "Epoch 63/100\n",
      "10/10 [==============================] - 3s 180ms/step - loss: 0.7272 - root_mean_squared_error: 0.8527 - val_loss: 0.7194 - val_root_mean_squared_error: 0.8482\n",
      "Epoch 64/100\n",
      "10/10 [==============================] - 3s 184ms/step - loss: 0.7214 - root_mean_squared_error: 0.8494 - val_loss: 0.7362 - val_root_mean_squared_error: 0.8580\n",
      "Epoch 65/100\n",
      "10/10 [==============================] - 3s 189ms/step - loss: 0.7320 - root_mean_squared_error: 0.8556 - val_loss: 0.7428 - val_root_mean_squared_error: 0.8619\n",
      "Epoch 66/100\n",
      "10/10 [==============================] - 3s 170ms/step - loss: 0.7805 - root_mean_squared_error: 0.8835 - val_loss: 0.7500 - val_root_mean_squared_error: 0.8660\n",
      "Epoch 67/100\n",
      "10/10 [==============================] - 3s 167ms/step - loss: 0.7622 - root_mean_squared_error: 0.8730 - val_loss: 0.7203 - val_root_mean_squared_error: 0.8487\n",
      "Epoch 68/100\n",
      "10/10 [==============================] - 2s 163ms/step - loss: 0.7306 - root_mean_squared_error: 0.8548 - val_loss: 0.7184 - val_root_mean_squared_error: 0.8476\n",
      "Epoch 69/100\n",
      "10/10 [==============================] - 2s 160ms/step - loss: 0.7194 - root_mean_squared_error: 0.8482 - val_loss: 0.7065 - val_root_mean_squared_error: 0.8405\n",
      "Epoch 70/100\n",
      "10/10 [==============================] - 2s 163ms/step - loss: 0.7181 - root_mean_squared_error: 0.8474 - val_loss: 0.7010 - val_root_mean_squared_error: 0.8373\n",
      "Epoch 71/100\n",
      "10/10 [==============================] - 2s 154ms/step - loss: 0.7111 - root_mean_squared_error: 0.8433 - val_loss: 0.7131 - val_root_mean_squared_error: 0.8445\n",
      "Epoch 72/100\n",
      "10/10 [==============================] - 2s 153ms/step - loss: 0.7024 - root_mean_squared_error: 0.8381 - val_loss: 0.7020 - val_root_mean_squared_error: 0.8379\n",
      "Epoch 73/100\n",
      "10/10 [==============================] - 2s 164ms/step - loss: 0.7017 - root_mean_squared_error: 0.8377 - val_loss: 0.6909 - val_root_mean_squared_error: 0.8312\n",
      "Epoch 74/100\n",
      "10/10 [==============================] - 3s 168ms/step - loss: 0.6971 - root_mean_squared_error: 0.8349 - val_loss: 0.6857 - val_root_mean_squared_error: 0.8281\n",
      "Epoch 75/100\n",
      "10/10 [==============================] - 2s 164ms/step - loss: 0.6968 - root_mean_squared_error: 0.8347 - val_loss: 0.6916 - val_root_mean_squared_error: 0.8317\n",
      "Epoch 76/100\n",
      "10/10 [==============================] - 3s 167ms/step - loss: 0.6908 - root_mean_squared_error: 0.8311 - val_loss: 0.6796 - val_root_mean_squared_error: 0.8244\n",
      "Epoch 77/100\n",
      "10/10 [==============================] - 2s 164ms/step - loss: 0.6880 - root_mean_squared_error: 0.8295 - val_loss: 0.6808 - val_root_mean_squared_error: 0.8251\n",
      "Epoch 78/100\n",
      "10/10 [==============================] - 2s 162ms/step - loss: 0.6831 - root_mean_squared_error: 0.8265 - val_loss: 0.6830 - val_root_mean_squared_error: 0.8264\n",
      "Epoch 79/100\n",
      "10/10 [==============================] - 3s 168ms/step - loss: 0.6858 - root_mean_squared_error: 0.8281 - val_loss: 0.6790 - val_root_mean_squared_error: 0.8240\n",
      "Epoch 80/100\n",
      "10/10 [==============================] - 3s 199ms/step - loss: 0.6807 - root_mean_squared_error: 0.8251 - val_loss: 0.6846 - val_root_mean_squared_error: 0.8274\n",
      "Epoch 81/100\n",
      "10/10 [==============================] - 3s 183ms/step - loss: 0.6787 - root_mean_squared_error: 0.8238 - val_loss: 0.6770 - val_root_mean_squared_error: 0.8228\n",
      "Epoch 82/100\n",
      "10/10 [==============================] - 3s 166ms/step - loss: 0.6906 - root_mean_squared_error: 0.8310 - val_loss: 0.7129 - val_root_mean_squared_error: 0.8443\n",
      "Epoch 83/100\n",
      "10/10 [==============================] - 3s 168ms/step - loss: 0.6916 - root_mean_squared_error: 0.8316 - val_loss: 0.6804 - val_root_mean_squared_error: 0.8249\n",
      "Epoch 84/100\n",
      "10/10 [==============================] - 2s 159ms/step - loss: 0.6732 - root_mean_squared_error: 0.8205 - val_loss: 0.6597 - val_root_mean_squared_error: 0.8122\n",
      "Epoch 85/100\n",
      "10/10 [==============================] - 2s 157ms/step - loss: 0.6662 - root_mean_squared_error: 0.8162 - val_loss: 0.6585 - val_root_mean_squared_error: 0.8115\n",
      "Epoch 86/100\n",
      "10/10 [==============================] - 3s 168ms/step - loss: 0.6633 - root_mean_squared_error: 0.8144 - val_loss: 0.6638 - val_root_mean_squared_error: 0.8147\n",
      "Epoch 87/100\n",
      "10/10 [==============================] - 3s 165ms/step - loss: 0.6583 - root_mean_squared_error: 0.8113 - val_loss: 0.6535 - val_root_mean_squared_error: 0.8084\n",
      "Epoch 88/100\n",
      "10/10 [==============================] - 2s 154ms/step - loss: 0.6563 - root_mean_squared_error: 0.8101 - val_loss: 0.6485 - val_root_mean_squared_error: 0.8053\n",
      "Epoch 89/100\n",
      "10/10 [==============================] - 2s 156ms/step - loss: 0.6605 - root_mean_squared_error: 0.8127 - val_loss: 0.6507 - val_root_mean_squared_error: 0.8067\n",
      "Epoch 90/100\n",
      "10/10 [==============================] - 2s 153ms/step - loss: 0.6677 - root_mean_squared_error: 0.8171 - val_loss: 0.6528 - val_root_mean_squared_error: 0.8080\n",
      "Epoch 91/100\n",
      "10/10 [==============================] - 2s 158ms/step - loss: 0.6504 - root_mean_squared_error: 0.8065 - val_loss: 0.6444 - val_root_mean_squared_error: 0.8027\n",
      "Epoch 92/100\n",
      "10/10 [==============================] - 2s 157ms/step - loss: 0.6479 - root_mean_squared_error: 0.8049 - val_loss: 0.6344 - val_root_mean_squared_error: 0.7965\n",
      "Epoch 93/100\n",
      "10/10 [==============================] - 3s 171ms/step - loss: 0.6410 - root_mean_squared_error: 0.8006 - val_loss: 0.6490 - val_root_mean_squared_error: 0.8056\n",
      "Epoch 94/100\n",
      "10/10 [==============================] - 3s 176ms/step - loss: 0.6399 - root_mean_squared_error: 0.8000 - val_loss: 0.6289 - val_root_mean_squared_error: 0.7931\n",
      "Epoch 95/100\n",
      "10/10 [==============================] - 2s 153ms/step - loss: 0.6468 - root_mean_squared_error: 0.8042 - val_loss: 0.6292 - val_root_mean_squared_error: 0.7932\n",
      "Epoch 96/100\n",
      "10/10 [==============================] - 2s 157ms/step - loss: 0.6360 - root_mean_squared_error: 0.7975 - val_loss: 0.6242 - val_root_mean_squared_error: 0.7901\n",
      "Epoch 97/100\n",
      "10/10 [==============================] - 2s 149ms/step - loss: 0.6380 - root_mean_squared_error: 0.7988 - val_loss: 0.6383 - val_root_mean_squared_error: 0.7989\n",
      "Epoch 98/100\n",
      "10/10 [==============================] - 2s 136ms/step - loss: 0.6428 - root_mean_squared_error: 0.8017 - val_loss: 0.6285 - val_root_mean_squared_error: 0.7928\n",
      "Epoch 99/100\n",
      "10/10 [==============================] - 2s 143ms/step - loss: 0.6249 - root_mean_squared_error: 0.7905 - val_loss: 0.6309 - val_root_mean_squared_error: 0.7943\n",
      "Epoch 100/100\n",
      "10/10 [==============================] - 2s 140ms/step - loss: 0.6250 - root_mean_squared_error: 0.7906 - val_loss: 0.6285 - val_root_mean_squared_error: 0.7927\n"
     ]
    }
   ],
   "source": [
    "import os\n",
    "from utils.datahandler import DataHandler\n",
    "\n",
    "dummy_train = (\n",
    "    {\n",
    "        \"user_index\": tf.constant([0, 1, 3, 1, 3, 2], dtype=tf.int64),\n",
    "        \"item_index\": tf.constant([2, 3, 5, 0, 3, 2], dtype=tf.int64),\n",
    "    },\n",
    "    tf.constant([1, 4, 9, 6, 6, 7], dtype=tf.int64),\n",
    ")\n",
    "\n",
    "datahandler = DataHandler(\n",
    "    dataset_path=os.path.join(\n",
    "        \"..\", \"datasets\", \"preprocessed\", \"movielens\", \"p_movielens_100k.csv\"\n",
    "    ),\n",
    "    test_split=0.2,\n",
    ")\n",
    "\n",
    "# After you call get_train_test_datasets\n",
    "train_dataset, test_dataset = datahandler.get_train_test_datasets()\n",
    "\n",
    "# Take a single batch from the train dataset and inspect its structure\n",
    "for features, labels in train_dataset.take(1):\n",
    "    print(\"Features:\", features)\n",
    "    print(\"Labels:\", labels)\n",
    "    print(\n",
    "        \"Shapes:\",\n",
    "        {key: value.shape for key, value in features.items()},\n",
    "        labels.shape,\n",
    "    )\n",
    "\n",
    "users, items = (943, 1664)\n",
    "\n",
    "save_dir = os.path.join(\n",
    "    \"..\", \"datasets\", \"preprocessed\", \"movielens\", \"p_movielens_100k_norm_adj_mat\"\n",
    ")\n",
    "\n",
    "model = NGCFModel(\n",
    "    num_users=users,\n",
    "    num_items=items,\n",
    "    num_layers=5,\n",
    "    embedding_size=128,\n",
    "    n_fold=1,\n",
    "    adj_save_dir=save_dir,\n",
    ")\n",
    "\n",
    "# Compile the model\n",
    "model.compile(\n",
    "    optimizer=\"adam\",\n",
    "    loss=\"mean_squared_error\",\n",
    "    metrics=[tf.keras.metrics.RootMeanSquaredError()],\n",
    ")\n",
    "\n",
    "# result = model(dummy_train[0])\n",
    "\n",
    "# print(\"\\nRESULT:\", result, \"\\n\")\n",
    "\n",
    "history = model.fit(\n",
    "    train_dataset,\n",
    "    epochs=100,\n",
    "    steps_per_epoch=datahandler.train_steps_per_epoch,\n",
    "    validation_data=test_dataset,\n",
    "    validation_steps=datahandler.test_steps_per_epoch,\n",
    "    verbose=1,\n",
    ")"
   ]
  },
  {
   "cell_type": "code",
   "execution_count": 22,
   "metadata": {},
   "outputs": [],
   "source": [
    "import matplotlib.pyplot as plt\n",
    "\n",
    "\n",
    "# Plot the validation and training curves separately\n",
    "def plot_loss_curves(history):\n",
    "    \"\"\"\n",
    "    Return separate loss curves for training and validation metrics.\n",
    "    \"\"\"\n",
    "    loss = history.history[\"loss\"]\n",
    "    val_loss = history.history[\"val_loss\"]\n",
    "\n",
    "    accuracy = history.history[\"root_mean_squared_error\"]\n",
    "    val_accuracy = history.history[\"val_root_mean_squared_error\"]\n",
    "\n",
    "    epochs = range(len(history.history[\"loss\"]))  # how many epochs did we run for?\n",
    "\n",
    "    # Plot loss\n",
    "    plt.plot(epochs, loss, label=\"training_loss\")\n",
    "    plt.plot(epochs, val_loss, label=\"val_loss\")\n",
    "    plt.title(\"Loss\")\n",
    "    plt.xlabel(\"epochs\")\n",
    "    plt.legend()\n",
    "\n",
    "    # Plot accuracy\n",
    "    plt.figure()\n",
    "    plt.plot(epochs, accuracy, label=\"traning_rmse\")\n",
    "    plt.plot(epochs, val_accuracy, label=\"val_rmse\")\n",
    "    plt.title(\"RMSE\")\n",
    "    plt.xlabel(\"epochs\")\n",
    "    plt.legend()"
   ]
  },
  {
   "cell_type": "code",
   "execution_count": 23,
   "metadata": {},
   "outputs": [
    {
     "data": {
      "image/png": "[encoded data removed]",
      "text/plain": [
       "<Figure size 640x480 with 1 Axes>"
      ]
     },
     "metadata": {},
     "output_type": "display_data"
    },
    {
     "data": {
      "image/png": "[encoded data removed]",
      "text/plain": [
       "<Figure size 640x480 with 1 Axes>"
      ]
     },
     "metadata": {},
     "output_type": "display_data"
    }
   ],
   "source": [
    "plot_loss_curves(history)"
   ]
  },
  {
   "cell_type": "code",
   "execution_count": 32,
   "metadata": {},
   "outputs": [
    {
     "data": {
      "text/plain": [
       "10"
      ]
     },
     "execution_count": 32,
     "metadata": {},
     "output_type": "execute_result"
    }
   ],
   "source": [
    "datahandler.train_steps_per_epoch"
   ]
  },
  {
   "cell_type": "code",
   "execution_count": 33,
   "metadata": {},
   "outputs": [
    {
     "data": {
      "text/plain": [
       "3"
      ]
     },
     "execution_count": 33,
     "metadata": {},
     "output_type": "execute_result"
    }
   ],
   "source": [
    "datahandler.test_steps_per_epoch"
   ]
  },
  {
   "cell_type": "code",
   "execution_count": 7,
   "metadata": {},
   "outputs": [
    {
     "name": "stdout",
     "output_type": "stream",
     "text": [
      "Model: \"ngcf_model\"\n",
      "_________________________________________________________________\n",
      " Layer (type)                Output Shape              Param #   \n",
      "=================================================================\n",
      " user_embeddings (Embedding)  multiple                 241408    \n",
      "                                                                 \n",
      " item_embeddings (Embedding)  multiple                 425984    \n",
      "                                                                 \n",
      " ngcf_layer (NGCFLayer)      multiple                  131072    \n",
      "                                                                 \n",
      " ngcf_layer_1 (NGCFLayer)    multiple                  131072    \n",
      "                                                                 \n",
      " ngcf_layer_2 (NGCFLayer)    multiple                  131072    \n",
      "                                                                 \n",
      " ngcf_layer_3 (NGCFLayer)    multiple                  131072    \n",
      "                                                                 \n",
      "=================================================================\n",
      "Total params: 1,191,680\n",
      "Trainable params: 1,191,680\n",
      "Non-trainable params: 0\n",
      "_________________________________________________________________\n"
     ]
    }
   ],
   "source": [
    "model.summary()"
   ]
  },
  {
   "cell_type": "code",
   "execution_count": 9,
   "metadata": {},
   "outputs": [
    {
     "data": {
      "text/plain": [
       "241408"
      ]
     },
     "execution_count": 9,
     "metadata": {},
     "output_type": "execute_result"
    }
   ],
   "source": [
    "users * 256"
   ]
  },
  {
   "cell_type": "code",
   "execution_count": 14,
   "metadata": {},
   "outputs": [
    {
     "data": {
      "text/plain": [
       "[<tf.Variable 'W1:0' shape=(256, 256) dtype=float32, numpy=\n",
       " array([[-0.02381365, -0.06333484,  0.05390237, ..., -0.00934806,\n",
       "          0.03633124,  0.06322516],\n",
       "        [-0.10280971, -0.00351223, -0.05579541, ..., -0.08929774,\n",
       "         -0.10733709,  0.00855567],\n",
       "        [ 0.00099425,  0.08217365,  0.02951336, ..., -0.01764023,\n",
       "         -0.0242143 ,  0.04056758],\n",
       "        ...,\n",
       "        [-0.10100131,  0.00392398, -0.05091558, ...,  0.05484069,\n",
       "         -0.02931533, -0.00652715],\n",
       "        [-0.08714195, -0.04526706, -0.07973477, ...,  0.01380862,\n",
       "         -0.0441304 ,  0.00906649],\n",
       "        [-0.03784003, -0.0530493 , -0.06862675, ...,  0.01037571,\n",
       "         -0.09293465, -0.02971027]], dtype=float32)>,\n",
       " <tf.Variable 'W2:0' shape=(256, 256) dtype=float32, numpy=\n",
       " array([[ 8.37165713e-02, -9.11681801e-02, -6.28606901e-02, ...,\n",
       "          1.04502909e-01, -5.29747740e-05,  7.75967538e-02],\n",
       "        [-7.70965684e-03,  6.58849776e-02, -1.04667675e-02, ...,\n",
       "          6.19736426e-02,  6.02370948e-02,  5.87781146e-02],\n",
       "        [ 1.04956403e-02,  4.12362628e-03,  5.72799100e-03, ...,\n",
       "         -5.85465282e-02,  1.14492014e-01,  7.59944320e-02],\n",
       "        ...,\n",
       "        [-8.68476182e-02,  1.27736460e-02,  5.10824583e-02, ...,\n",
       "          3.34832370e-02, -3.75141874e-02, -6.72307089e-02],\n",
       "        [-4.29867506e-02, -6.71488345e-02,  4.33050580e-02, ...,\n",
       "          9.13947001e-02,  1.91566739e-02,  4.77530435e-02],\n",
       "        [-8.65765139e-02, -5.43596223e-02, -1.38528515e-02, ...,\n",
       "          3.26559618e-02,  2.47132350e-02, -8.53439122e-02]], dtype=float32)>]"
      ]
     },
     "execution_count": 14,
     "metadata": {},
     "output_type": "execute_result"
    }
   ],
   "source": [
    "model.ngcf_layers[0].weights"
   ]
  },
  {
   "cell_type": "code",
   "execution_count": 15,
   "metadata": {},
   "outputs": [
    {
     "data": {
      "text/plain": [
       "131072"
      ]
     },
     "execution_count": 15,
     "metadata": {},
     "output_type": "execute_result"
    }
   ],
   "source": [
    "2 * 256 * 256"
   ]
  },
  {
   "cell_type": "code",
   "execution_count": 2,
   "metadata": {},
   "outputs": [
    {
     "name": "stdout",
     "output_type": "stream",
     "text": [
      "Num GPUs Available:  1\n",
      "Name: /physical_device:GPU:0   Type: GPU\n"
     ]
    }
   ],
   "source": [
    "import tensorflow as tf\n",
    "\n",
    "# Lists the available GPUs\n",
    "gpus = tf.config.list_physical_devices(\"GPU\")\n",
    "print(\"Num GPUs Available: \", len(gpus))\n",
    "\n",
    "# Checking GPU utilization\n",
    "for gpu in gpus:\n",
    "    print(\"Name:\", gpu.name, \"  Type:\", gpu.device_type)"
   ]
  }
 ],
 "metadata": {
  "kernelspec": {
   "display_name": "rs-thesis",
   "language": "python",
   "name": "python3"
  },
  "language_info": {
   "codemirror_mode": {
    "name": "ipython",
    "version": 3
   },
   "file_extension": ".py",
   "mimetype": "text/x-python",
   "name": "python",
   "nbconvert_exporter": "python",
   "pygments_lexer": "ipython3",
   "version": "3.10.13"
  }
 },
 "nbformat": 4,
 "nbformat_minor": 2
}
