{
 "cells": [
  {
   "cell_type": "code",
   "execution_count": 1,
   "metadata": {},
   "outputs": [
    {
     "name": "stdout",
     "output_type": "stream",
     "text": [
      "Current directory: c:\\Users\\marco\\Documents\\ITAM\\Thesis\\Code\\notebooks\n"
     ]
    }
   ],
   "source": [
    "import os\n",
    "from utils.preprocessor import DataPreprocessor\n",
    "\n",
    "current_dir = os.getcwd()\n",
    "print(\"Current directory:\", current_dir)"
   ]
  },
  {
   "cell_type": "code",
   "execution_count": 8,
   "metadata": {},
   "outputs": [],
   "source": [
    "file_path = os.path.join(\n",
    "    \"..\", \"datasets\", \"preprocessed\", \"movielens\", \"p_movielens_100k.csv\"\n",
    ")\n",
    "preprocessor = DataPreprocessor(file_path)\n",
    "preprocessor.load_data()\n",
    "preprocessor.calculate_unique_counts()\n",
    "save_dir = os.path.join(\n",
    "    \"..\", \"datasets\", \"preprocessed\", \"movielens\", \"p_movielens_100k_norm_adj_mat\"\n",
    ")"
   ]
  },
  {
   "cell_type": "code",
   "execution_count": 1,
   "metadata": {},
   "outputs": [],
   "source": [
    "import os\n",
    "from utils.datahandler import DataHandler"
   ]
  },
  {
   "cell_type": "code",
   "execution_count": 2,
   "metadata": {},
   "outputs": [],
   "source": [
    "datahandler = DataHandler(\n",
    "    dataset_path=os.path.join(\n",
    "        \"..\", \"datasets\", \"preprocessed\", \"movielens\", \"p_movielens_100k.csv\"\n",
    "    ),\n",
    "    test_split=0.2,\n",
    "    batch_size=5,\n",
    ")"
   ]
  },
  {
   "cell_type": "code",
   "execution_count": 3,
   "metadata": {},
   "outputs": [],
   "source": [
    "train, test = datahandler.get_train_test_datasets()"
   ]
  },
  {
   "cell_type": "code",
   "execution_count": 4,
   "metadata": {},
   "outputs": [
    {
     "data": {
      "text/plain": [
       "99693"
      ]
     },
     "execution_count": 4,
     "metadata": {},
     "output_type": "execute_result"
    }
   ],
   "source": [
    "datahandler.dataset_size"
   ]
  },
  {
   "cell_type": "code",
   "execution_count": 6,
   "metadata": {},
   "outputs": [
    {
     "data": {
      "text/plain": [
       "99693"
      ]
     },
     "execution_count": 6,
     "metadata": {},
     "output_type": "execute_result"
    }
   ],
   "source": [
    "datahandler.test_size + datahandler.train_size"
   ]
  },
  {
   "cell_type": "code",
   "execution_count": 7,
   "metadata": {},
   "outputs": [
    {
     "data": {
      "text/plain": [
       "15951"
      ]
     },
     "execution_count": 7,
     "metadata": {},
     "output_type": "execute_result"
    }
   ],
   "source": [
    "datahandler.train"
   ]
  },
  {
   "cell_type": "code",
   "execution_count": null,
   "metadata": {},
   "outputs": [],
   "source": []
  },
  {
   "cell_type": "code",
   "execution_count": 10,
   "metadata": {},
   "outputs": [
    {
     "data": {
      "text/plain": [
       "99693"
      ]
     },
     "execution_count": 10,
     "metadata": {},
     "output_type": "execute_result"
    }
   ],
   "source": [
    "sum(1 for i in dataset)"
   ]
  },
  {
   "cell_type": "code",
   "execution_count": 9,
   "metadata": {},
   "outputs": [],
   "source": [
    "dataset = datahandler.load_data()"
   ]
  },
  {
   "cell_type": "code",
   "execution_count": 10,
   "metadata": {},
   "outputs": [
    {
     "data": {
      "text/plain": [
       "<tf.Tensor: shape=(), dtype=int64, numpy=-2>"
      ]
     },
     "execution_count": 10,
     "metadata": {},
     "output_type": "execute_result"
    }
   ],
   "source": [
    "dataset.cardinality()"
   ]
  },
  {
   "cell_type": "code",
   "execution_count": 7,
   "metadata": {},
   "outputs": [
    {
     "name": "stdout",
     "output_type": "stream",
     "text": [
      "({'user_index': <tf.Tensor: shape=(5, 1), dtype=int32, numpy=\n",
      "array([[813],\n",
      "       [795],\n",
      "       [715],\n",
      "       [695],\n",
      "       [822]])>, 'item_index': <tf.Tensor: shape=(5, 1), dtype=int32, numpy=\n",
      "array([[ 498],\n",
      "       [1398],\n",
      "       [ 441],\n",
      "       [ 411],\n",
      "       [ 245]])>}, <tf.Tensor: shape=(5, 1), dtype=float32, numpy=\n",
      "array([[4.],\n",
      "       [5.],\n",
      "       [5.],\n",
      "       [4.],\n",
      "       [3.]], dtype=float32)>)\n"
     ]
    }
   ],
   "source": [
    "for t in test.take(1):\n",
    "    print(t)"
   ]
  },
  {
   "cell_type": "code",
   "execution_count": 2,
   "metadata": {},
   "outputs": [],
   "source": [
    "from models.ngcf4 import NGCFModel\n",
    "import tensorflow as tf"
   ]
  },
  {
   "cell_type": "code",
   "execution_count": 12,
   "metadata": {},
   "outputs": [
    {
     "data": {
      "text/plain": [
       "(943, 1664)"
      ]
     },
     "execution_count": 12,
     "metadata": {},
     "output_type": "execute_result"
    }
   ],
   "source": [
    "preprocessor.num_users, preprocessor.num_items"
   ]
  },
  {
   "cell_type": "code",
   "execution_count": 7,
   "metadata": {},
   "outputs": [],
   "source": [
    "save_dir = os.path.join(\n",
    "    \"..\", \"datasets\", \"preprocessed\", \"movielens\", \"p_movielens_100k_norm_adj_mat\"\n",
    ")\n",
    "model = NGCFModel(\n",
    "    num_users=preprocessor.num_users,\n",
    "    num_items=preprocessor.num_items,\n",
    "    num_layers=2,\n",
    "    embedding_size=32,\n",
    "    n_fold=1,\n",
    "    adj_save_dir=save_dir,\n",
    ")"
   ]
  },
  {
   "cell_type": "code",
   "execution_count": 8,
   "metadata": {},
   "outputs": [],
   "source": [
    "# Compile the model\n",
    "model.compile(\n",
    "    optimizer=\"adam\",  # Adjust the optimizer and learning rate as needed\n",
    "    loss=\"mean_squared_error\",  # You can also use a custom loss function here\n",
    "    metrics=[\n",
    "        tf.keras.metrics.RootMeanSquaredError()\n",
    "    ],  # Add any additional metrics you want to track\n",
    ")"
   ]
  },
  {
   "cell_type": "code",
   "execution_count": 9,
   "metadata": {},
   "outputs": [
    {
     "name": "stdout",
     "output_type": "stream",
     "text": [
      "Epoch 1/5\n"
     ]
    },
    {
     "name": "stdout",
     "output_type": "stream",
     "text": [
      "WARNING:tensorflow:AutoGraph could not transform <bound method NGCFLayer.call of <models.ngcf4.NGCFLayer object at 0x000001E88A1105B0>> and will run it as-is.\n",
      "Please report this to the TensorFlow team. When filing the bug, set the verbosity to 10 (on Linux, `export AUTOGRAPH_VERBOSITY=10`) and attach the full output.\n",
      "Cause: annotated name 'embeddings_updated' can't be nonlocal (__autograph_generated_fileis90gb3j.py, line 20)\n",
      "To silence this warning, decorate the function with @tf.autograph.experimental.do_not_convert\n",
      "WARNING: AutoGraph could not transform <bound method NGCFLayer.call of <models.ngcf4.NGCFLayer object at 0x000001E88A1105B0>> and will run it as-is.\n",
      "Please report this to the TensorFlow team. When filing the bug, set the verbosity to 10 (on Linux, `export AUTOGRAPH_VERBOSITY=10`) and attach the full output.\n",
      "Cause: annotated name 'embeddings_updated' can't be nonlocal (__autograph_generated_fileis90gb3j.py, line 20)\n",
      "To silence this warning, decorate the function with @tf.autograph.experimental.do_not_convert\n",
      "(2607, 2607) (0,)\n"
     ]
    },
    {
     "ename": "ValueError",
     "evalue": "in user code:\n\n    File \"c:\\Users\\marco\\miniconda3\\envs\\rs-thesis\\lib\\site-packages\\keras\\engine\\training.py\", line 1160, in train_function  *\n        return step_function(self, iterator)\n    File \"c:\\Users\\marco\\miniconda3\\envs\\rs-thesis\\lib\\site-packages\\keras\\engine\\training.py\", line 1146, in step_function  **\n        outputs = model.distribute_strategy.run(run_step, args=(data,))\n    File \"c:\\Users\\marco\\miniconda3\\envs\\rs-thesis\\lib\\site-packages\\keras\\engine\\training.py\", line 1135, in run_step  **\n        outputs = model.train_step(data)\n    File \"c:\\Users\\marco\\miniconda3\\envs\\rs-thesis\\lib\\site-packages\\keras\\engine\\training.py\", line 993, in train_step\n        y_pred = self(x, training=True)\n    File \"c:\\Users\\marco\\miniconda3\\envs\\rs-thesis\\lib\\site-packages\\keras\\utils\\traceback_utils.py\", line 70, in error_handler\n        raise e.with_traceback(filtered_tb) from None\n    File \"C:\\Users\\marco\\AppData\\Local\\Temp\\__autograph_generated_file6w3kq1gl.py\", line 11, in tf__call\n        (final_u_embeddings, final_i_embeddings) = ag__.converted_call(ag__.ld(self).compute_final_embeddings, (ag__.ld(user_indices), ag__.ld(item_indices)), None, fscope)\n    File \"C:\\Users\\marco\\AppData\\Local\\Temp\\__autograph_generated_fileyx5txio5.py\", line 48, in tf__compute_final_embeddings\n        ag__.for_stmt(ag__.ld(self).ngcf_layers, None, loop_body_1, get_state_1, set_state_1, ('concat_embeddings',), {'iterate_names': 'layer'})\n    File \"C:\\Users\\marco\\AppData\\Local\\Temp\\__autograph_generated_fileyx5txio5.py\", line 40, in loop_body_1\n        ag__.for_stmt(ag__.converted_call(ag__.ld(range), (ag__.ld(self).n_fold,), None, fscope), None, loop_body, get_state, set_state, ('layer_embeddings',), {'iterate_names': 'i_fold'})\n    File \"C:\\Users\\marco\\AppData\\Local\\Temp\\__autograph_generated_fileyx5txio5.py\", line 39, in loop_body\n        layer_embeddings += ag__.converted_call(layer, (concat_embeddings, adj_submatrix), None, fscope)\n    File \"c:\\users\\marco\\documents\\itam\\thesis\\code\\models\\ngcf4.py\", line 36, in call\n        relevant_embeddings: tf.Tensor = tf.sparse.sparse_dense_matmul(\n\n    ValueError: Exception encountered when calling layer \"ngcf_model\" \"                 f\"(type NGCFModel).\n    \n    in user code:\n    \n        File \"c:\\users\\marco\\documents\\itam\\thesis\\code\\models\\ngcf4.py\", line 95, in call  *\n            final_u_embeddings, final_i_embeddings = self.compute_final_embeddings(\n        File \"c:\\users\\marco\\documents\\itam\\thesis\\code\\models\\ngcf4.py\", line 122, in compute_final_embeddings  *\n            layer_embeddings += layer(concat_embeddings, adj_submatrix)\n        File \"c:\\Users\\marco\\miniconda3\\envs\\rs-thesis\\lib\\site-packages\\keras\\utils\\traceback_utils.py\", line 70, in error_handler  **\n            raise e.with_traceback(filtered_tb) from None\n        File \"c:\\users\\marco\\documents\\itam\\thesis\\code\\models\\ngcf4.py\", line 36, in call\n            relevant_embeddings: tf.Tensor = tf.sparse.sparse_dense_matmul(\n    \n        ValueError: Exception encountered when calling layer \"ngcf_layer\" \"                 f\"(type NGCFLayer).\n        \n        Shape must be rank 2 but is rank 1 for '{{node ngcf_model/ngcf_layer/SparseTensorDenseMatMul/SparseTensorDenseMatMul}} = SparseTensorDenseMatMul[T=DT_FLOAT, Tindices=DT_INT64, adjoint_a=false, adjoint_b=false](ngcf_model/SparseTensor/indices, ngcf_model/Cast, ngcf_model/SparseTensor/dense_shape, ngcf_model/concat)' with input shapes: [199386,2], [199386], [2], [0].\n        \n        Call arguments received by layer \"ngcf_layer\" \"                 f\"(type NGCFLayer):\n          • embeddings=tf.Tensor(shape=(0,), dtype=float32)\n          • adj_submatrix=<tensorflow.python.framework.sparse_tensor.SparseTensor object at 0x000001E88AACC9D0>\n          • self_messages=False\n    \n    \n    Call arguments received by layer \"ngcf_model\" \"                 f\"(type NGCFModel):\n      • inputs=('tf.Tensor(shape=(None, None), dtype=int32)', 'tf.Tensor(shape=(None, None), dtype=int32)')\n",
     "output_type": "error",
     "traceback": [
      "\u001b[1;31m---------------------------------------------------------------------------\u001b[0m",
      "\u001b[1;31mValueError\u001b[0m                                Traceback (most recent call last)",
      "\u001b[1;32mc:\\Users\\marco\\Documents\\ITAM\\Thesis\\Code\\notebooks\\test.ipynb Cell 9\u001b[0m line \u001b[0;36m1\n\u001b[1;32m----> <a href='vscode-notebook-cell:/c%3A/Users/marco/Documents/ITAM/Thesis/Code/notebooks/test.ipynb#X26sZmlsZQ%3D%3D?line=0'>1</a>\u001b[0m history \u001b[39m=\u001b[39m model\u001b[39m.\u001b[39;49mfit(train,\n\u001b[0;32m      <a href='vscode-notebook-cell:/c%3A/Users/marco/Documents/ITAM/Thesis/Code/notebooks/test.ipynb#X26sZmlsZQ%3D%3D?line=1'>2</a>\u001b[0m                     epochs\u001b[39m=\u001b[39;49m\u001b[39m5\u001b[39;49m,\n\u001b[0;32m      <a href='vscode-notebook-cell:/c%3A/Users/marco/Documents/ITAM/Thesis/Code/notebooks/test.ipynb#X26sZmlsZQ%3D%3D?line=2'>3</a>\u001b[0m                     validation_data\u001b[39m=\u001b[39;49mtest,\n\u001b[0;32m      <a href='vscode-notebook-cell:/c%3A/Users/marco/Documents/ITAM/Thesis/Code/notebooks/test.ipynb#X26sZmlsZQ%3D%3D?line=3'>4</a>\u001b[0m                     verbose\u001b[39m=\u001b[39;49m\u001b[39m1\u001b[39;49m)\n",
      "File \u001b[1;32mc:\\Users\\marco\\miniconda3\\envs\\rs-thesis\\lib\\site-packages\\keras\\utils\\traceback_utils.py:70\u001b[0m, in \u001b[0;36mfilter_traceback.<locals>.error_handler\u001b[1;34m(*args, **kwargs)\u001b[0m\n\u001b[0;32m     67\u001b[0m     filtered_tb \u001b[39m=\u001b[39m _process_traceback_frames(e\u001b[39m.\u001b[39m__traceback__)\n\u001b[0;32m     68\u001b[0m     \u001b[39m# To get the full stack trace, call:\u001b[39;00m\n\u001b[0;32m     69\u001b[0m     \u001b[39m# `tf.debugging.disable_traceback_filtering()`\u001b[39;00m\n\u001b[1;32m---> 70\u001b[0m     \u001b[39mraise\u001b[39;00m e\u001b[39m.\u001b[39mwith_traceback(filtered_tb) \u001b[39mfrom\u001b[39;00m \u001b[39mNone\u001b[39;00m\n\u001b[0;32m     71\u001b[0m \u001b[39mfinally\u001b[39;00m:\n\u001b[0;32m     72\u001b[0m     \u001b[39mdel\u001b[39;00m filtered_tb\n",
      "File \u001b[1;32m~\\AppData\\Local\\Temp\\__autograph_generated_filewddmmlu_.py:15\u001b[0m, in \u001b[0;36mouter_factory.<locals>.inner_factory.<locals>.tf__train_function\u001b[1;34m(iterator)\u001b[0m\n\u001b[0;32m     13\u001b[0m \u001b[39mtry\u001b[39;00m:\n\u001b[0;32m     14\u001b[0m     do_return \u001b[39m=\u001b[39m \u001b[39mTrue\u001b[39;00m\n\u001b[1;32m---> 15\u001b[0m     retval_ \u001b[39m=\u001b[39m ag__\u001b[39m.\u001b[39mconverted_call(ag__\u001b[39m.\u001b[39mld(step_function), (ag__\u001b[39m.\u001b[39mld(\u001b[39mself\u001b[39m), ag__\u001b[39m.\u001b[39mld(iterator)), \u001b[39mNone\u001b[39;00m, fscope)\n\u001b[0;32m     16\u001b[0m \u001b[39mexcept\u001b[39;00m:\n\u001b[0;32m     17\u001b[0m     do_return \u001b[39m=\u001b[39m \u001b[39mFalse\u001b[39;00m\n",
      "File \u001b[1;32m~\\AppData\\Local\\Temp\\__autograph_generated_file6w3kq1gl.py:11\u001b[0m, in \u001b[0;36mouter_factory.<locals>.inner_factory.<locals>.tf__call\u001b[1;34m(self, inputs)\u001b[0m\n\u001b[0;32m      9\u001b[0m retval_ \u001b[39m=\u001b[39m ag__\u001b[39m.\u001b[39mUndefinedReturnValue()\n\u001b[0;32m     10\u001b[0m (user_indices, item_indices) \u001b[39m=\u001b[39m ag__\u001b[39m.\u001b[39mld(inputs)\n\u001b[1;32m---> 11\u001b[0m (final_u_embeddings, final_i_embeddings) \u001b[39m=\u001b[39m ag__\u001b[39m.\u001b[39;49mconverted_call(ag__\u001b[39m.\u001b[39;49mld(\u001b[39mself\u001b[39;49m)\u001b[39m.\u001b[39;49mcompute_final_embeddings, (ag__\u001b[39m.\u001b[39;49mld(user_indices), ag__\u001b[39m.\u001b[39;49mld(item_indices)), \u001b[39mNone\u001b[39;49;00m, fscope)\n\u001b[0;32m     12\u001b[0m user_item_scores: ag__\u001b[39m.\u001b[39mld(tf)\u001b[39m.\u001b[39mTensor \u001b[39m=\u001b[39m ag__\u001b[39m.\u001b[39mconverted_call(ag__\u001b[39m.\u001b[39mld(tf)\u001b[39m.\u001b[39mreduce_sum, (ag__\u001b[39m.\u001b[39mld(final_u_embeddings) \u001b[39m*\u001b[39m ag__\u001b[39m.\u001b[39mld(final_i_embeddings),), \u001b[39mdict\u001b[39m(axis\u001b[39m=\u001b[39m\u001b[39m1\u001b[39m), fscope)\n\u001b[0;32m     13\u001b[0m \u001b[39mtry\u001b[39;00m:\n",
      "File \u001b[1;32m~\\AppData\\Local\\Temp\\__autograph_generated_fileyx5txio5.py:48\u001b[0m, in \u001b[0;36mouter_factory.<locals>.inner_factory.<locals>.tf__compute_final_embeddings\u001b[1;34m(self, user_indices, item_indices)\u001b[0m\n\u001b[0;32m     46\u001b[0m layer_embeddings \u001b[39m=\u001b[39m ag__\u001b[39m.\u001b[39mUndefined(\u001b[39m'\u001b[39m\u001b[39mlayer_embeddings\u001b[39m\u001b[39m'\u001b[39m)\n\u001b[0;32m     47\u001b[0m layer \u001b[39m=\u001b[39m ag__\u001b[39m.\u001b[39mUndefined(\u001b[39m'\u001b[39m\u001b[39mlayer\u001b[39m\u001b[39m'\u001b[39m)\n\u001b[1;32m---> 48\u001b[0m ag__\u001b[39m.\u001b[39;49mfor_stmt(ag__\u001b[39m.\u001b[39;49mld(\u001b[39mself\u001b[39;49m)\u001b[39m.\u001b[39;49mngcf_layers, \u001b[39mNone\u001b[39;49;00m, loop_body_1, get_state_1, set_state_1, (\u001b[39m'\u001b[39;49m\u001b[39mconcat_embeddings\u001b[39;49m\u001b[39m'\u001b[39;49m,), {\u001b[39m'\u001b[39;49m\u001b[39miterate_names\u001b[39;49m\u001b[39m'\u001b[39;49m: \u001b[39m'\u001b[39;49m\u001b[39mlayer\u001b[39;49m\u001b[39m'\u001b[39;49m})\n\u001b[0;32m     49\u001b[0m final_embeddings \u001b[39m=\u001b[39m ag__\u001b[39m.\u001b[39mconverted_call(ag__\u001b[39m.\u001b[39mld(tf)\u001b[39m.\u001b[39mconcat, (ag__\u001b[39m.\u001b[39mld(all_embeddings),), \u001b[39mdict\u001b[39m(axis\u001b[39m=\u001b[39m\u001b[39m1\u001b[39m), fscope)\n\u001b[0;32m     50\u001b[0m (final_u_embeddings, final_i_embeddings) \u001b[39m=\u001b[39m ag__\u001b[39m.\u001b[39mconverted_call(ag__\u001b[39m.\u001b[39mld(tf)\u001b[39m.\u001b[39msplit, (ag__\u001b[39m.\u001b[39mld(final_embeddings), [ag__\u001b[39m.\u001b[39mld(\u001b[39mself\u001b[39m)\u001b[39m.\u001b[39mnum_users, ag__\u001b[39m.\u001b[39mld(\u001b[39mself\u001b[39m)\u001b[39m.\u001b[39mnum_items]), \u001b[39mdict\u001b[39m(axis\u001b[39m=\u001b[39m\u001b[39m0\u001b[39m), fscope)\n",
      "File \u001b[1;32m~\\AppData\\Local\\Temp\\__autograph_generated_fileyx5txio5.py:40\u001b[0m, in \u001b[0;36mouter_factory.<locals>.inner_factory.<locals>.tf__compute_final_embeddings.<locals>.loop_body_1\u001b[1;34m(itr_1)\u001b[0m\n\u001b[0;32m     38\u001b[0m     layer_embeddings \u001b[39m=\u001b[39m ag__\u001b[39m.\u001b[39mld(layer_embeddings)\n\u001b[0;32m     39\u001b[0m     layer_embeddings \u001b[39m+\u001b[39m\u001b[39m=\u001b[39m ag__\u001b[39m.\u001b[39mconverted_call(layer, (concat_embeddings, adj_submatrix), \u001b[39mNone\u001b[39;00m, fscope)\n\u001b[1;32m---> 40\u001b[0m ag__\u001b[39m.\u001b[39;49mfor_stmt(ag__\u001b[39m.\u001b[39;49mconverted_call(ag__\u001b[39m.\u001b[39;49mld(\u001b[39mrange\u001b[39;49m), (ag__\u001b[39m.\u001b[39;49mld(\u001b[39mself\u001b[39;49m)\u001b[39m.\u001b[39;49mn_fold,), \u001b[39mNone\u001b[39;49;00m, fscope), \u001b[39mNone\u001b[39;49;00m, loop_body, get_state, set_state, (\u001b[39m'\u001b[39;49m\u001b[39mlayer_embeddings\u001b[39;49m\u001b[39m'\u001b[39;49m,), {\u001b[39m'\u001b[39;49m\u001b[39miterate_names\u001b[39;49m\u001b[39m'\u001b[39;49m: \u001b[39m'\u001b[39;49m\u001b[39mi_fold\u001b[39;49m\u001b[39m'\u001b[39;49m})\n\u001b[0;32m     41\u001b[0m concat_embeddings \u001b[39m=\u001b[39m ag__\u001b[39m.\u001b[39mconverted_call(ag__\u001b[39m.\u001b[39mld(tf)\u001b[39m.\u001b[39mnn\u001b[39m.\u001b[39mleaky_relu, (ag__\u001b[39m.\u001b[39mld(layer_embeddings),), \u001b[39mNone\u001b[39;00m, fscope)\n\u001b[0;32m     42\u001b[0m ag__\u001b[39m.\u001b[39mld(\u001b[39mprint\u001b[39m)(ag__\u001b[39m.\u001b[39mld(concat_embeddings))\n",
      "File \u001b[1;32m~\\AppData\\Local\\Temp\\__autograph_generated_fileyx5txio5.py:39\u001b[0m, in \u001b[0;36mouter_factory.<locals>.inner_factory.<locals>.tf__compute_final_embeddings.<locals>.loop_body_1.<locals>.loop_body\u001b[1;34m(itr)\u001b[0m\n\u001b[0;32m     37\u001b[0m adj_submatrix: ag__\u001b[39m.\u001b[39mld(tf)\u001b[39m.\u001b[39mSparseTensor \u001b[39m=\u001b[39m ag__\u001b[39m.\u001b[39mconverted_call(ag__\u001b[39m.\u001b[39mld(\u001b[39mself\u001b[39m)\u001b[39m.\u001b[39mload_adjacency_submatrix, (ag__\u001b[39m.\u001b[39mld(i_fold),), \u001b[39mNone\u001b[39;00m, fscope)\n\u001b[0;32m     38\u001b[0m layer_embeddings \u001b[39m=\u001b[39m ag__\u001b[39m.\u001b[39mld(layer_embeddings)\n\u001b[1;32m---> 39\u001b[0m layer_embeddings \u001b[39m+\u001b[39m\u001b[39m=\u001b[39m ag__\u001b[39m.\u001b[39;49mconverted_call(layer, (concat_embeddings, adj_submatrix), \u001b[39mNone\u001b[39;49;00m, fscope)\n",
      "File \u001b[1;32mc:\\users\\marco\\documents\\itam\\thesis\\code\\models\\ngcf4.py:36\u001b[0m, in \u001b[0;36mNGCFLayer.call\u001b[1;34m(self, embeddings, adj_submatrix, self_messages)\u001b[0m\n\u001b[0;32m     34\u001b[0m \u001b[39melif\u001b[39;00m adj_submatrix \u001b[39mis\u001b[39;00m \u001b[39mnot\u001b[39;00m \u001b[39mNone\u001b[39;00m:\n\u001b[0;32m     35\u001b[0m     \u001b[39mprint\u001b[39m(adj_submatrix\u001b[39m.\u001b[39mshape, embeddings\u001b[39m.\u001b[39mshape)\n\u001b[1;32m---> 36\u001b[0m     relevant_embeddings: tf\u001b[39m.\u001b[39mTensor \u001b[39m=\u001b[39m tf\u001b[39m.\u001b[39;49msparse\u001b[39m.\u001b[39;49msparse_dense_matmul(\n\u001b[0;32m     37\u001b[0m         adj_submatrix, embeddings\n\u001b[0;32m     38\u001b[0m     )\n\u001b[0;32m     39\u001b[0m     non_interactive_messages: tf\u001b[39m.\u001b[39mTensor \u001b[39m=\u001b[39m tf\u001b[39m.\u001b[39mmatmul(\n\u001b[0;32m     40\u001b[0m         relevant_embeddings, \u001b[39mself\u001b[39m\u001b[39m.\u001b[39mW1\n\u001b[0;32m     41\u001b[0m     )\n\u001b[0;32m     42\u001b[0m     interactive_messages: tf\u001b[39m.\u001b[39mTensor \u001b[39m=\u001b[39m tf\u001b[39m.\u001b[39mmatmul(\n\u001b[0;32m     43\u001b[0m         relevant_embeddings \u001b[39m*\u001b[39m embeddings, \u001b[39mself\u001b[39m\u001b[39m.\u001b[39mW2\n\u001b[0;32m     44\u001b[0m     )\n",
      "\u001b[1;31mValueError\u001b[0m: in user code:\n\n    File \"c:\\Users\\marco\\miniconda3\\envs\\rs-thesis\\lib\\site-packages\\keras\\engine\\training.py\", line 1160, in train_function  *\n        return step_function(self, iterator)\n    File \"c:\\Users\\marco\\miniconda3\\envs\\rs-thesis\\lib\\site-packages\\keras\\engine\\training.py\", line 1146, in step_function  **\n        outputs = model.distribute_strategy.run(run_step, args=(data,))\n    File \"c:\\Users\\marco\\miniconda3\\envs\\rs-thesis\\lib\\site-packages\\keras\\engine\\training.py\", line 1135, in run_step  **\n        outputs = model.train_step(data)\n    File \"c:\\Users\\marco\\miniconda3\\envs\\rs-thesis\\lib\\site-packages\\keras\\engine\\training.py\", line 993, in train_step\n        y_pred = self(x, training=True)\n    File \"c:\\Users\\marco\\miniconda3\\envs\\rs-thesis\\lib\\site-packages\\keras\\utils\\traceback_utils.py\", line 70, in error_handler\n        raise e.with_traceback(filtered_tb) from None\n    File \"C:\\Users\\marco\\AppData\\Local\\Temp\\__autograph_generated_file6w3kq1gl.py\", line 11, in tf__call\n        (final_u_embeddings, final_i_embeddings) = ag__.converted_call(ag__.ld(self).compute_final_embeddings, (ag__.ld(user_indices), ag__.ld(item_indices)), None, fscope)\n    File \"C:\\Users\\marco\\AppData\\Local\\Temp\\__autograph_generated_fileyx5txio5.py\", line 48, in tf__compute_final_embeddings\n        ag__.for_stmt(ag__.ld(self).ngcf_layers, None, loop_body_1, get_state_1, set_state_1, ('concat_embeddings',), {'iterate_names': 'layer'})\n    File \"C:\\Users\\marco\\AppData\\Local\\Temp\\__autograph_generated_fileyx5txio5.py\", line 40, in loop_body_1\n        ag__.for_stmt(ag__.converted_call(ag__.ld(range), (ag__.ld(self).n_fold,), None, fscope), None, loop_body, get_state, set_state, ('layer_embeddings',), {'iterate_names': 'i_fold'})\n    File \"C:\\Users\\marco\\AppData\\Local\\Temp\\__autograph_generated_fileyx5txio5.py\", line 39, in loop_body\n        layer_embeddings += ag__.converted_call(layer, (concat_embeddings, adj_submatrix), None, fscope)\n    File \"c:\\users\\marco\\documents\\itam\\thesis\\code\\models\\ngcf4.py\", line 36, in call\n        relevant_embeddings: tf.Tensor = tf.sparse.sparse_dense_matmul(\n\n    ValueError: Exception encountered when calling layer \"ngcf_model\" \"                 f\"(type NGCFModel).\n    \n    in user code:\n    \n        File \"c:\\users\\marco\\documents\\itam\\thesis\\code\\models\\ngcf4.py\", line 95, in call  *\n            final_u_embeddings, final_i_embeddings = self.compute_final_embeddings(\n        File \"c:\\users\\marco\\documents\\itam\\thesis\\code\\models\\ngcf4.py\", line 122, in compute_final_embeddings  *\n            layer_embeddings += layer(concat_embeddings, adj_submatrix)\n        File \"c:\\Users\\marco\\miniconda3\\envs\\rs-thesis\\lib\\site-packages\\keras\\utils\\traceback_utils.py\", line 70, in error_handler  **\n            raise e.with_traceback(filtered_tb) from None\n        File \"c:\\users\\marco\\documents\\itam\\thesis\\code\\models\\ngcf4.py\", line 36, in call\n            relevant_embeddings: tf.Tensor = tf.sparse.sparse_dense_matmul(\n    \n        ValueError: Exception encountered when calling layer \"ngcf_layer\" \"                 f\"(type NGCFLayer).\n        \n        Shape must be rank 2 but is rank 1 for '{{node ngcf_model/ngcf_layer/SparseTensorDenseMatMul/SparseTensorDenseMatMul}} = SparseTensorDenseMatMul[T=DT_FLOAT, Tindices=DT_INT64, adjoint_a=false, adjoint_b=false](ngcf_model/SparseTensor/indices, ngcf_model/Cast, ngcf_model/SparseTensor/dense_shape, ngcf_model/concat)' with input shapes: [199386,2], [199386], [2], [0].\n        \n        Call arguments received by layer \"ngcf_layer\" \"                 f\"(type NGCFLayer):\n          • embeddings=tf.Tensor(shape=(0,), dtype=float32)\n          • adj_submatrix=<tensorflow.python.framework.sparse_tensor.SparseTensor object at 0x000001E88AACC9D0>\n          • self_messages=False\n    \n    \n    Call arguments received by layer \"ngcf_model\" \"                 f\"(type NGCFModel):\n      • inputs=('tf.Tensor(shape=(None, None), dtype=int32)', 'tf.Tensor(shape=(None, None), dtype=int32)')\n"
     ]
    }
   ],
   "source": [
    "history = model.fit(train, epochs=5, validation_data=test, verbose=1)"
   ]
  },
  {
   "cell_type": "code",
   "execution_count": null,
   "metadata": {},
   "outputs": [
    {
     "name": "stdout",
     "output_type": "stream",
     "text": [
      "((<tf.Tensor: shape=(8192, 1), dtype=int32, numpy=\n",
      "array([[464],\n",
      "       [207],\n",
      "       [274],\n",
      "       ...,\n",
      "       [607],\n",
      "       [ 96],\n",
      "       [404]])>, <tf.Tensor: shape=(8192, 1), dtype=int32, numpy=\n",
      "array([[ 908],\n",
      "       [ 554],\n",
      "       [1395],\n",
      "       ...,\n",
      "       [1206],\n",
      "       [ 661],\n",
      "       [ 778]])>), <tf.Tensor: shape=(8192, 1), dtype=float32, numpy=\n",
      "array([[3.],\n",
      "       [3.],\n",
      "       [3.],\n",
      "       ...,\n",
      "       [1.],\n",
      "       [5.],\n",
      "       [1.]], dtype=float32)>)\n"
     ]
    }
   ],
   "source": [
    "for t in train.take(1):\n",
    "    print(t)"
   ]
  },
  {
   "cell_type": "code",
   "execution_count": 3,
   "metadata": {},
   "outputs": [],
   "source": [
    "embedding = tf.keras.layers.Embedding(\n",
    "    input_dim=3,\n",
    "    output_dim=5,\n",
    "    embeddings_initializer=\"glorot_uniform\",\n",
    "    name=\"user_embeddings\",\n",
    ")"
   ]
  },
  {
   "cell_type": "code",
   "execution_count": 6,
   "metadata": {},
   "outputs": [
    {
     "data": {
      "text/plain": [
       "<tf.Tensor: shape=(3, 5), dtype=float32, numpy=\n",
       "array([[-0.07547277, -0.31001997, -0.07312572,  0.70299417,  0.0081802 ],\n",
       "       [-0.06452125,  0.3566932 ,  0.32417625, -0.7915747 ,  0.06304514],\n",
       "       [-0.07547277, -0.31001997, -0.07312572,  0.70299417,  0.0081802 ]],\n",
       "      dtype=float32)>"
      ]
     },
     "execution_count": 6,
     "metadata": {},
     "output_type": "execute_result"
    }
   ],
   "source": [
    "embedding(tf.constant([1, 2, 1], dtype=tf.int64))"
   ]
  },
  {
   "cell_type": "code",
   "execution_count": 13,
   "metadata": {},
   "outputs": [],
   "source": [
    "import tensorflow as tf\n",
    "\n",
    "# Assuming tensor1 has shape (3, 4) and tensor2 has shape (5, 4)\n",
    "tensor1 = tf.random.normal((3, 4))\n",
    "tensor2 = tf.random.normal((5, 4))\n",
    "\n",
    "# Combine the tensors vertically to get a tensor of shape (8, 4)\n",
    "combined_tensor = tf.concat([tensor1, tensor2], axis=0)"
   ]
  },
  {
   "cell_type": "code",
   "execution_count": 14,
   "metadata": {},
   "outputs": [
    {
     "data": {
      "text/plain": [
       "<tf.Tensor: shape=(8, 4), dtype=float32, numpy=\n",
       "array([[ 0.48940158,  2.383477  , -1.0404491 , -0.54409355],\n",
       "       [ 1.0170258 , -0.17847705,  0.9201864 , -0.7359506 ],\n",
       "       [ 1.240829  , -0.10877343, -0.48835427, -0.9066484 ],\n",
       "       [-0.43524253,  1.4310521 ,  0.15435778,  1.3330446 ],\n",
       "       [-1.7806327 ,  0.08148877, -0.00600956, -0.25840324],\n",
       "       [-1.3189485 ,  0.97985804, -0.5623187 , -0.9498832 ],\n",
       "       [ 0.5326377 , -0.41229564, -0.8957077 , -1.236353  ],\n",
       "       [ 2.4029365 , -0.9349132 ,  1.8310658 ,  0.9607314 ]],\n",
       "      dtype=float32)>"
      ]
     },
     "execution_count": 14,
     "metadata": {},
     "output_type": "execute_result"
    }
   ],
   "source": [
    "combined_tensor"
   ]
  },
  {
   "cell_type": "code",
   "execution_count": null,
   "metadata": {},
   "outputs": [],
   "source": []
  }
 ],
 "metadata": {
  "kernelspec": {
   "display_name": "RSThesisEnv",
   "language": "python",
   "name": "python3"
  },
  "language_info": {
   "codemirror_mode": {
    "name": "ipython",
    "version": 3
   },
   "file_extension": ".py",
   "mimetype": "text/x-python",
   "name": "python",
   "nbconvert_exporter": "python",
   "pygments_lexer": "ipython3",
   "version": "3.10.13"
  },
  "orig_nbformat": 4
 },
 "nbformat": 4,
 "nbformat_minor": 2
}
