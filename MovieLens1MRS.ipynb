{
  "cells": [
    {
      "cell_type": "code",
      "source": [
        "import os, sys, importlib\n",
        "\n",
        "user = \"MarcoC1796\"\n",
        "repo = \"recommender-systems-thesis\"\n",
        "src_dir = \"src\"\n",
        "\n",
        "if os.path.isdir(repo):\n",
        "    !rm -rf {repo}\n",
        "\n",
        "!git clone https://github.com/{user}/{repo}.git\n",
        "\n",
        "path = f\"{repo}\"\n",
        "if not path in sys.path:\n",
        "    sys.path.append(path)\n",
        "\n",
        "# list all directories in the Python path\n",
        "print(\"\\n\".join([\"'\" + path + \"'\" for path in sys.path]))"
      ],
      "metadata": {
        "id": "K6RpjABHUVxV",
        "outputId": "8d8ae41e-7bb7-442e-8344-9adb2757d423",
        "colab": {
          "base_uri": "https://localhost:8080/"
        }
      },
      "execution_count": 1,
      "outputs": [
        {
          "output_type": "stream",
          "name": "stdout",
          "text": [
            "Cloning into 'recommender-systems-thesis'...\n",
            "remote: Enumerating objects: 111, done.\u001b[K\n",
            "remote: Counting objects: 100% (1/1), done.\u001b[K\n",
            "remote: Total 111 (delta 0), reused 0 (delta 0), pack-reused 110\u001b[K\n",
            "Receiving objects: 100% (111/111), 96.61 MiB | 6.78 MiB/s, done.\n",
            "Resolving deltas: 100% (50/50), done.\n",
            "Updating files: 100% (23/23), done.\n",
            "'/content'\n",
            "'/env/python'\n",
            "'/usr/lib/python310.zip'\n",
            "'/usr/lib/python3.10'\n",
            "'/usr/lib/python3.10/lib-dynload'\n",
            "''\n",
            "'/usr/local/lib/python3.10/dist-packages'\n",
            "'/usr/lib/python3/dist-packages'\n",
            "'/usr/local/lib/python3.10/dist-packages/IPython/extensions'\n",
            "'/root/.ipython'\n",
            "'recommender-systems-thesis'\n"
          ]
        }
      ]
    },
    {
      "cell_type": "code",
      "execution_count": 2,
      "metadata": {
        "id": "rKzKyfClHKmE"
      },
      "outputs": [],
      "source": [
        "import numpy as np\n",
        "import pandas as pd\n",
        "\n",
        "import matplotlib.pyplot as plt\n",
        "import seaborn as sns\n",
        "import matplotlib.ticker as ticker\n",
        "import matplotlib.patches as mpatches\n",
        "\n",
        "plt.style.use(\"ggplot\")\n",
        "\n",
        "from src.alternatingLeastSquares import ALS\n",
        "from src.gradientDescent import gradientDescent\n",
        "from src.cost_functions import get_Jsim_and_DJsim\n",
        "\n",
        "from src.aux_functions import initializeQ, initializeP\n",
        "\n",
        "from src.plottingFunctions import plotALSResults"
      ]
    },
    {
      "cell_type": "code",
      "source": [
        "from google.colab import drive\n",
        "drive.mount('/content/drive')\n"
      ],
      "metadata": {
        "id": "ZQ56GyPkfaV7",
        "outputId": "ad29b7eb-f189-4a97-df91-6a082b20debf",
        "colab": {
          "base_uri": "https://localhost:8080/"
        }
      },
      "execution_count": 3,
      "outputs": [
        {
          "output_type": "stream",
          "name": "stdout",
          "text": [
            "Drive already mounted at /content/drive; to attempt to forcibly remount, call drive.mount(\"/content/drive\", force_remount=True).\n"
          ]
        }
      ]
    },
    {
      "cell_type": "code",
      "execution_count": 42,
      "metadata": {
        "id": "RyUbjlICHKmG",
        "outputId": "d5d449ca-19cc-4416-d588-1511753fcbe6",
        "colab": {
          "base_uri": "https://localhost:8080/",
          "height": 270
        }
      },
      "outputs": [
        {
          "output_type": "stream",
          "name": "stdout",
          "text": [
            "(1000209, 4)\n",
            "(6040, 3706)\n"
          ]
        },
        {
          "output_type": "execute_result",
          "data": {
            "text/plain": [
              "   0     1     2     3     4     5     6     7     8     9     ...  3696  \\\n",
              "0   5.0   NaN   NaN   NaN   NaN   NaN   NaN   NaN   NaN   NaN  ...   NaN   \n",
              "1   NaN   NaN   NaN   NaN   NaN   NaN   NaN   NaN   NaN   NaN  ...   NaN   \n",
              "2   NaN   NaN   NaN   NaN   NaN   NaN   NaN   NaN   NaN   NaN  ...   NaN   \n",
              "3   NaN   NaN   NaN   NaN   NaN   NaN   NaN   NaN   NaN   NaN  ...   NaN   \n",
              "4   NaN   NaN   NaN   NaN   NaN   2.0   NaN   NaN   NaN   NaN  ...   NaN   \n",
              "\n",
              "   3697  3698  3699  3700  3701  3702  3703  3704  3705  \n",
              "0   NaN   NaN   NaN   NaN   NaN   NaN   NaN   NaN   NaN  \n",
              "1   NaN   NaN   NaN   NaN   NaN   NaN   NaN   NaN   NaN  \n",
              "2   NaN   NaN   NaN   NaN   NaN   NaN   NaN   NaN   NaN  \n",
              "3   NaN   NaN   NaN   NaN   NaN   NaN   NaN   NaN   NaN  \n",
              "4   NaN   NaN   NaN   NaN   NaN   NaN   NaN   NaN   NaN  \n",
              "\n",
              "[5 rows x 3706 columns]"
            ],
            "text/html": [
              "\n",
              "  <div id=\"df-f2189a4d-25da-4b66-b057-2001f86ce455\">\n",
              "    <div class=\"colab-df-container\">\n",
              "      <div>\n",
              "<style scoped>\n",
              "    .dataframe tbody tr th:only-of-type {\n",
              "        vertical-align: middle;\n",
              "    }\n",
              "\n",
              "    .dataframe tbody tr th {\n",
              "        vertical-align: top;\n",
              "    }\n",
              "\n",
              "    .dataframe thead th {\n",
              "        text-align: right;\n",
              "    }\n",
              "</style>\n",
              "<table border=\"1\" class=\"dataframe\">\n",
              "  <thead>\n",
              "    <tr style=\"text-align: right;\">\n",
              "      <th></th>\n",
              "      <th>0</th>\n",
              "      <th>1</th>\n",
              "      <th>2</th>\n",
              "      <th>3</th>\n",
              "      <th>4</th>\n",
              "      <th>5</th>\n",
              "      <th>6</th>\n",
              "      <th>7</th>\n",
              "      <th>8</th>\n",
              "      <th>9</th>\n",
              "      <th>...</th>\n",
              "      <th>3696</th>\n",
              "      <th>3697</th>\n",
              "      <th>3698</th>\n",
              "      <th>3699</th>\n",
              "      <th>3700</th>\n",
              "      <th>3701</th>\n",
              "      <th>3702</th>\n",
              "      <th>3703</th>\n",
              "      <th>3704</th>\n",
              "      <th>3705</th>\n",
              "    </tr>\n",
              "  </thead>\n",
              "  <tbody>\n",
              "    <tr>\n",
              "      <th>0</th>\n",
              "      <td>5.0</td>\n",
              "      <td>NaN</td>\n",
              "      <td>NaN</td>\n",
              "      <td>NaN</td>\n",
              "      <td>NaN</td>\n",
              "      <td>NaN</td>\n",
              "      <td>NaN</td>\n",
              "      <td>NaN</td>\n",
              "      <td>NaN</td>\n",
              "      <td>NaN</td>\n",
              "      <td>...</td>\n",
              "      <td>NaN</td>\n",
              "      <td>NaN</td>\n",
              "      <td>NaN</td>\n",
              "      <td>NaN</td>\n",
              "      <td>NaN</td>\n",
              "      <td>NaN</td>\n",
              "      <td>NaN</td>\n",
              "      <td>NaN</td>\n",
              "      <td>NaN</td>\n",
              "      <td>NaN</td>\n",
              "    </tr>\n",
              "    <tr>\n",
              "      <th>1</th>\n",
              "      <td>NaN</td>\n",
              "      <td>NaN</td>\n",
              "      <td>NaN</td>\n",
              "      <td>NaN</td>\n",
              "      <td>NaN</td>\n",
              "      <td>NaN</td>\n",
              "      <td>NaN</td>\n",
              "      <td>NaN</td>\n",
              "      <td>NaN</td>\n",
              "      <td>NaN</td>\n",
              "      <td>...</td>\n",
              "      <td>NaN</td>\n",
              "      <td>NaN</td>\n",
              "      <td>NaN</td>\n",
              "      <td>NaN</td>\n",
              "      <td>NaN</td>\n",
              "      <td>NaN</td>\n",
              "      <td>NaN</td>\n",
              "      <td>NaN</td>\n",
              "      <td>NaN</td>\n",
              "      <td>NaN</td>\n",
              "    </tr>\n",
              "    <tr>\n",
              "      <th>2</th>\n",
              "      <td>NaN</td>\n",
              "      <td>NaN</td>\n",
              "      <td>NaN</td>\n",
              "      <td>NaN</td>\n",
              "      <td>NaN</td>\n",
              "      <td>NaN</td>\n",
              "      <td>NaN</td>\n",
              "      <td>NaN</td>\n",
              "      <td>NaN</td>\n",
              "      <td>NaN</td>\n",
              "      <td>...</td>\n",
              "      <td>NaN</td>\n",
              "      <td>NaN</td>\n",
              "      <td>NaN</td>\n",
              "      <td>NaN</td>\n",
              "      <td>NaN</td>\n",
              "      <td>NaN</td>\n",
              "      <td>NaN</td>\n",
              "      <td>NaN</td>\n",
              "      <td>NaN</td>\n",
              "      <td>NaN</td>\n",
              "    </tr>\n",
              "    <tr>\n",
              "      <th>3</th>\n",
              "      <td>NaN</td>\n",
              "      <td>NaN</td>\n",
              "      <td>NaN</td>\n",
              "      <td>NaN</td>\n",
              "      <td>NaN</td>\n",
              "      <td>NaN</td>\n",
              "      <td>NaN</td>\n",
              "      <td>NaN</td>\n",
              "      <td>NaN</td>\n",
              "      <td>NaN</td>\n",
              "      <td>...</td>\n",
              "      <td>NaN</td>\n",
              "      <td>NaN</td>\n",
              "      <td>NaN</td>\n",
              "      <td>NaN</td>\n",
              "      <td>NaN</td>\n",
              "      <td>NaN</td>\n",
              "      <td>NaN</td>\n",
              "      <td>NaN</td>\n",
              "      <td>NaN</td>\n",
              "      <td>NaN</td>\n",
              "    </tr>\n",
              "    <tr>\n",
              "      <th>4</th>\n",
              "      <td>NaN</td>\n",
              "      <td>NaN</td>\n",
              "      <td>NaN</td>\n",
              "      <td>NaN</td>\n",
              "      <td>NaN</td>\n",
              "      <td>2.0</td>\n",
              "      <td>NaN</td>\n",
              "      <td>NaN</td>\n",
              "      <td>NaN</td>\n",
              "      <td>NaN</td>\n",
              "      <td>...</td>\n",
              "      <td>NaN</td>\n",
              "      <td>NaN</td>\n",
              "      <td>NaN</td>\n",
              "      <td>NaN</td>\n",
              "      <td>NaN</td>\n",
              "      <td>NaN</td>\n",
              "      <td>NaN</td>\n",
              "      <td>NaN</td>\n",
              "      <td>NaN</td>\n",
              "      <td>NaN</td>\n",
              "    </tr>\n",
              "  </tbody>\n",
              "</table>\n",
              "<p>5 rows × 3706 columns</p>\n",
              "</div>\n",
              "      <button class=\"colab-df-convert\" onclick=\"convertToInteractive('df-f2189a4d-25da-4b66-b057-2001f86ce455')\"\n",
              "              title=\"Convert this dataframe to an interactive table.\"\n",
              "              style=\"display:none;\">\n",
              "        \n",
              "  <svg xmlns=\"http://www.w3.org/2000/svg\" height=\"24px\"viewBox=\"0 0 24 24\"\n",
              "       width=\"24px\">\n",
              "    <path d=\"M0 0h24v24H0V0z\" fill=\"none\"/>\n",
              "    <path d=\"M18.56 5.44l.94 2.06.94-2.06 2.06-.94-2.06-.94-.94-2.06-.94 2.06-2.06.94zm-11 1L8.5 8.5l.94-2.06 2.06-.94-2.06-.94L8.5 2.5l-.94 2.06-2.06.94zm10 10l.94 2.06.94-2.06 2.06-.94-2.06-.94-.94-2.06-.94 2.06-2.06.94z\"/><path d=\"M17.41 7.96l-1.37-1.37c-.4-.4-.92-.59-1.43-.59-.52 0-1.04.2-1.43.59L10.3 9.45l-7.72 7.72c-.78.78-.78 2.05 0 2.83L4 21.41c.39.39.9.59 1.41.59.51 0 1.02-.2 1.41-.59l7.78-7.78 2.81-2.81c.8-.78.8-2.07 0-2.86zM5.41 20L4 18.59l7.72-7.72 1.47 1.35L5.41 20z\"/>\n",
              "  </svg>\n",
              "      </button>\n",
              "      \n",
              "  <style>\n",
              "    .colab-df-container {\n",
              "      display:flex;\n",
              "      flex-wrap:wrap;\n",
              "      gap: 12px;\n",
              "    }\n",
              "\n",
              "    .colab-df-convert {\n",
              "      background-color: #E8F0FE;\n",
              "      border: none;\n",
              "      border-radius: 50%;\n",
              "      cursor: pointer;\n",
              "      display: none;\n",
              "      fill: #1967D2;\n",
              "      height: 32px;\n",
              "      padding: 0 0 0 0;\n",
              "      width: 32px;\n",
              "    }\n",
              "\n",
              "    .colab-df-convert:hover {\n",
              "      background-color: #E2EBFA;\n",
              "      box-shadow: 0px 1px 2px rgba(60, 64, 67, 0.3), 0px 1px 3px 1px rgba(60, 64, 67, 0.15);\n",
              "      fill: #174EA6;\n",
              "    }\n",
              "\n",
              "    [theme=dark] .colab-df-convert {\n",
              "      background-color: #3B4455;\n",
              "      fill: #D2E3FC;\n",
              "    }\n",
              "\n",
              "    [theme=dark] .colab-df-convert:hover {\n",
              "      background-color: #434B5C;\n",
              "      box-shadow: 0px 1px 3px 1px rgba(0, 0, 0, 0.15);\n",
              "      filter: drop-shadow(0px 1px 2px rgba(0, 0, 0, 0.3));\n",
              "      fill: #FFFFFF;\n",
              "    }\n",
              "  </style>\n",
              "\n",
              "      <script>\n",
              "        const buttonEl =\n",
              "          document.querySelector('#df-f2189a4d-25da-4b66-b057-2001f86ce455 button.colab-df-convert');\n",
              "        buttonEl.style.display =\n",
              "          google.colab.kernel.accessAllowed ? 'block' : 'none';\n",
              "\n",
              "        async function convertToInteractive(key) {\n",
              "          const element = document.querySelector('#df-f2189a4d-25da-4b66-b057-2001f86ce455');\n",
              "          const dataTable =\n",
              "            await google.colab.kernel.invokeFunction('convertToInteractive',\n",
              "                                                     [key], {});\n",
              "          if (!dataTable) return;\n",
              "\n",
              "          const docLinkHtml = 'Like what you see? Visit the ' +\n",
              "            '<a target=\"_blank\" href=https://colab.research.google.com/notebooks/data_table.ipynb>data table notebook</a>'\n",
              "            + ' to learn more about interactive tables.';\n",
              "          element.innerHTML = '';\n",
              "          dataTable['output_type'] = 'display_data';\n",
              "          await google.colab.output.renderOutput(dataTable, element);\n",
              "          const docLink = document.createElement('div');\n",
              "          docLink.innerHTML = docLinkHtml;\n",
              "          element.appendChild(docLink);\n",
              "        }\n",
              "      </script>\n",
              "    </div>\n",
              "  </div>\n",
              "  "
            ]
          },
          "metadata": {},
          "execution_count": 42
        }
      ],
      "source": [
        "path = \"\"\n",
        "path = \"/content/drive/MyDrive/Thesis/Data/\"\n",
        "path += \"ml-1m/ratings.dat\"\n",
        "\n",
        "rnames = [\"user_id\", \"movie_id\", \"rating\", \"timestamp\"]\n",
        "movies = pd.read_table(path, sep=\"::\", header=None, names=rnames, engine=\"python\")\n",
        "print(movies.shape)\n",
        "movies = movies.drop('timestamp', axis=1)\n",
        "\n",
        "\n",
        "movies_im = pd.pivot_table(movies, values=\"rating\", index=\"user_id\", columns=\"movie_id\")\n",
        "movies_im.reset_index(drop=True, inplace=True)\n",
        "movies_im.columns = range(movies_im.shape[1])\n",
        "print(movies_im.shape)\n",
        "movies_im.head()\n"
      ]
    },
    {
      "cell_type": "code",
      "source": [
        "# Use the melt function to transform the dataframe\n",
        "movies_tr = pd.melt(movies_im.reset_index(), id_vars=['index'], var_name='movie_id', value_name='rating')\n",
        "\n",
        "# Rename the columns\n",
        "movies_tr.columns = ['user_id', 'movie_id', 'rating']\n"
      ],
      "metadata": {
        "id": "rmomckI6F_d0",
        "outputId": "aac786d8-3f2b-4da5-acdc-811f3e50cee5",
        "colab": {
          "base_uri": "https://localhost:8080/",
          "height": 206
        }
      },
      "execution_count": 38,
      "outputs": [
        {
          "output_type": "execute_result",
          "data": {
            "text/plain": [
              "   user_id movie_id  rating\n",
              "0        0        0     5.0\n",
              "1        1        0     NaN\n",
              "2        2        0     NaN\n",
              "3        3        0     NaN\n",
              "4        4        0     NaN"
            ],
            "text/html": [
              "\n",
              "  <div id=\"df-0f8b93bd-f8d3-47d3-a64d-3ad27cd007cf\">\n",
              "    <div class=\"colab-df-container\">\n",
              "      <div>\n",
              "<style scoped>\n",
              "    .dataframe tbody tr th:only-of-type {\n",
              "        vertical-align: middle;\n",
              "    }\n",
              "\n",
              "    .dataframe tbody tr th {\n",
              "        vertical-align: top;\n",
              "    }\n",
              "\n",
              "    .dataframe thead th {\n",
              "        text-align: right;\n",
              "    }\n",
              "</style>\n",
              "<table border=\"1\" class=\"dataframe\">\n",
              "  <thead>\n",
              "    <tr style=\"text-align: right;\">\n",
              "      <th></th>\n",
              "      <th>user_id</th>\n",
              "      <th>movie_id</th>\n",
              "      <th>rating</th>\n",
              "    </tr>\n",
              "  </thead>\n",
              "  <tbody>\n",
              "    <tr>\n",
              "      <th>0</th>\n",
              "      <td>0</td>\n",
              "      <td>0</td>\n",
              "      <td>5.0</td>\n",
              "    </tr>\n",
              "    <tr>\n",
              "      <th>1</th>\n",
              "      <td>1</td>\n",
              "      <td>0</td>\n",
              "      <td>NaN</td>\n",
              "    </tr>\n",
              "    <tr>\n",
              "      <th>2</th>\n",
              "      <td>2</td>\n",
              "      <td>0</td>\n",
              "      <td>NaN</td>\n",
              "    </tr>\n",
              "    <tr>\n",
              "      <th>3</th>\n",
              "      <td>3</td>\n",
              "      <td>0</td>\n",
              "      <td>NaN</td>\n",
              "    </tr>\n",
              "    <tr>\n",
              "      <th>4</th>\n",
              "      <td>4</td>\n",
              "      <td>0</td>\n",
              "      <td>NaN</td>\n",
              "    </tr>\n",
              "  </tbody>\n",
              "</table>\n",
              "</div>\n",
              "      <button class=\"colab-df-convert\" onclick=\"convertToInteractive('df-0f8b93bd-f8d3-47d3-a64d-3ad27cd007cf')\"\n",
              "              title=\"Convert this dataframe to an interactive table.\"\n",
              "              style=\"display:none;\">\n",
              "        \n",
              "  <svg xmlns=\"http://www.w3.org/2000/svg\" height=\"24px\"viewBox=\"0 0 24 24\"\n",
              "       width=\"24px\">\n",
              "    <path d=\"M0 0h24v24H0V0z\" fill=\"none\"/>\n",
              "    <path d=\"M18.56 5.44l.94 2.06.94-2.06 2.06-.94-2.06-.94-.94-2.06-.94 2.06-2.06.94zm-11 1L8.5 8.5l.94-2.06 2.06-.94-2.06-.94L8.5 2.5l-.94 2.06-2.06.94zm10 10l.94 2.06.94-2.06 2.06-.94-2.06-.94-.94-2.06-.94 2.06-2.06.94z\"/><path d=\"M17.41 7.96l-1.37-1.37c-.4-.4-.92-.59-1.43-.59-.52 0-1.04.2-1.43.59L10.3 9.45l-7.72 7.72c-.78.78-.78 2.05 0 2.83L4 21.41c.39.39.9.59 1.41.59.51 0 1.02-.2 1.41-.59l7.78-7.78 2.81-2.81c.8-.78.8-2.07 0-2.86zM5.41 20L4 18.59l7.72-7.72 1.47 1.35L5.41 20z\"/>\n",
              "  </svg>\n",
              "      </button>\n",
              "      \n",
              "  <style>\n",
              "    .colab-df-container {\n",
              "      display:flex;\n",
              "      flex-wrap:wrap;\n",
              "      gap: 12px;\n",
              "    }\n",
              "\n",
              "    .colab-df-convert {\n",
              "      background-color: #E8F0FE;\n",
              "      border: none;\n",
              "      border-radius: 50%;\n",
              "      cursor: pointer;\n",
              "      display: none;\n",
              "      fill: #1967D2;\n",
              "      height: 32px;\n",
              "      padding: 0 0 0 0;\n",
              "      width: 32px;\n",
              "    }\n",
              "\n",
              "    .colab-df-convert:hover {\n",
              "      background-color: #E2EBFA;\n",
              "      box-shadow: 0px 1px 2px rgba(60, 64, 67, 0.3), 0px 1px 3px 1px rgba(60, 64, 67, 0.15);\n",
              "      fill: #174EA6;\n",
              "    }\n",
              "\n",
              "    [theme=dark] .colab-df-convert {\n",
              "      background-color: #3B4455;\n",
              "      fill: #D2E3FC;\n",
              "    }\n",
              "\n",
              "    [theme=dark] .colab-df-convert:hover {\n",
              "      background-color: #434B5C;\n",
              "      box-shadow: 0px 1px 3px 1px rgba(0, 0, 0, 0.15);\n",
              "      filter: drop-shadow(0px 1px 2px rgba(0, 0, 0, 0.3));\n",
              "      fill: #FFFFFF;\n",
              "    }\n",
              "  </style>\n",
              "\n",
              "      <script>\n",
              "        const buttonEl =\n",
              "          document.querySelector('#df-0f8b93bd-f8d3-47d3-a64d-3ad27cd007cf button.colab-df-convert');\n",
              "        buttonEl.style.display =\n",
              "          google.colab.kernel.accessAllowed ? 'block' : 'none';\n",
              "\n",
              "        async function convertToInteractive(key) {\n",
              "          const element = document.querySelector('#df-0f8b93bd-f8d3-47d3-a64d-3ad27cd007cf');\n",
              "          const dataTable =\n",
              "            await google.colab.kernel.invokeFunction('convertToInteractive',\n",
              "                                                     [key], {});\n",
              "          if (!dataTable) return;\n",
              "\n",
              "          const docLinkHtml = 'Like what you see? Visit the ' +\n",
              "            '<a target=\"_blank\" href=https://colab.research.google.com/notebooks/data_table.ipynb>data table notebook</a>'\n",
              "            + ' to learn more about interactive tables.';\n",
              "          element.innerHTML = '';\n",
              "          dataTable['output_type'] = 'display_data';\n",
              "          await google.colab.output.renderOutput(dataTable, element);\n",
              "          const docLink = document.createElement('div');\n",
              "          docLink.innerHTML = docLinkHtml;\n",
              "          element.appendChild(docLink);\n",
              "        }\n",
              "      </script>\n",
              "    </div>\n",
              "  </div>\n",
              "  "
            ]
          },
          "metadata": {},
          "execution_count": 38
        }
      ]
    },
    {
      "cell_type": "code",
      "source": [
        "movies_tr.shape"
      ],
      "metadata": {
        "id": "k9wplSHjHf3X",
        "outputId": "8e923e97-23a1-466d-d8bd-d52be967c4d7",
        "colab": {
          "base_uri": "https://localhost:8080/"
        }
      },
      "execution_count": 41,
      "outputs": [
        {
          "output_type": "execute_result",
          "data": {
            "text/plain": [
              "(22384240, 3)"
            ]
          },
          "metadata": {},
          "execution_count": 41
        }
      ]
    },
    {
      "cell_type": "code",
      "execution_count": 25,
      "metadata": {
        "id": "VpawiS26HKmH",
        "outputId": "9b92d662-12d1-4f24-a667-cd6ea0b1483b",
        "colab": {
          "base_uri": "https://localhost:8080/"
        }
      },
      "outputs": [
        {
          "output_type": "stream",
          "name": "stdout",
          "text": [
            "4.47% of full entries\n",
            "(6040, 3706)\n"
          ]
        }
      ],
      "source": [
        "R = movies_im.to_numpy()\n",
        "print(f\"{round((np.count_nonzero(~np.isnan(R))/R.size)*100, 2)}% of full entries\")\n",
        "print(R.shape)"
      ]
    },
    {
      "cell_type": "code",
      "execution_count": null,
      "metadata": {
        "id": "j4IV9MOlHKmI",
        "outputId": "7351371d-489e-41dd-eb22-d6dbda1e1280",
        "colab": {
          "base_uri": "https://localhost:8080/",
          "height": 578
        }
      },
      "outputs": [
        {
          "output_type": "display_data",
          "data": {
            "text/plain": [
              "<Figure size 800x600 with 1 Axes>"
            ],
            "image/png": "[encoded data removed]"
          },
          "metadata": {}
        }
      ],
      "source": [
        "# Create DataFrame with some missing values\n",
        "df = movies_im\n",
        "# Create a boolean mask for missing values\n",
        "missing = df.notna()\n",
        "\n",
        "# Create colormap\n",
        "cmap = sns.light_palette(\"steelblue\", as_cmap=True)\n",
        "\n",
        "# Set figure size\n",
        "plt.figure(figsize=(8, 6))  # width, height in inches\n",
        "\n",
        "# Use Seaborn to visualize missingness\n",
        "sns.heatmap(missing, cbar=False, cmap=cmap)\n",
        "\n",
        "# Create legend\n",
        "missing_patch = mpatches.Patch(color=cmap(0.99), label=\"Present\")\n",
        "not_missing_patch = mpatches.Patch(color=cmap(1), label=\"Missing\")\n",
        "plt.legend(handles=[missing_patch, not_missing_patch], loc=\"upper right\")\n",
        "\n",
        "# Add labels\n",
        "plt.xlabel(\"Jokes\")\n",
        "plt.ylabel(\"Users\")\n",
        "\n",
        "# Format y-axis labels\n",
        "formatter = ticker.FuncFormatter(lambda x, pos: \"{:,.0f}\".format(x))\n",
        "plt.gca().yaxis.set_major_formatter(formatter)\n",
        "\n",
        "# Limit the number of ticks on the y-axis\n",
        "plt.gca().yaxis.set_major_locator(ticker.MaxNLocator(10))\n",
        "plt.gca().yaxis.set_major_formatter(formatter)\n",
        "\n",
        "# Limit the number of ticks on the x-axis\n",
        "plt.gca().xaxis.set_major_locator(ticker.MaxNLocator(10))\n",
        "plt.gca().xaxis.set_major_formatter(formatter)\n",
        "\n",
        "plt.show()"
      ]
    },
    {
      "cell_type": "code",
      "execution_count": null,
      "metadata": {
        "id": "r-DCn9yJHKmJ",
        "outputId": "d9a708d8-d695-4631-fbb9-7dc7971ad0e9"
      },
      "outputs": [
        {
          "data": {
            "image/png": "[encoded data removed]",
            "text/plain": [
              "<Figure size 800x600 with 1 Axes>"
            ]
          },
          "metadata": {},
          "output_type": "display_data"
        }
      ],
      "source": [
        "df = pd.DataFrame(R)\n",
        "rating_percentage = df.count(axis=1) / len(df.columns)\n",
        "\n",
        "# Sort jokes by rating percentage in descending order\n",
        "rating_percentage_sorted = rating_percentage.sort_values(ascending=False)\n",
        "\n",
        "plt.figure(figsize=(8, 6))\n",
        "rating_percentage_sorted.plot(kind=\"bar\")\n",
        "plt.ylabel(\"Rating Percentage\")\n",
        "plt.xlabel(\"Joke ID\")\n",
        "plt.title(\"Rating Percentage for Each Joke\")\n",
        "\n",
        "# Modify x-ticks\n",
        "n = 200  # Show every nth x-tick, adjust as needed\n",
        "plt.xticks(\n",
        "    range(0, len(rating_percentage_sorted), n),\n",
        "    rating_percentage_sorted.index[::n],\n",
        "    rotation=45,\n",
        ")  # Rotate labels for better readability\n",
        "\n",
        "# Modify y-ticks to show percentage\n",
        "plt.gca().yaxis.set_major_formatter(ticker.PercentFormatter(1))\n",
        "\n",
        "plt.show()"
      ]
    },
    {
      "cell_type": "code",
      "source": [
        "import numpy as np\n",
        "from sklearn.model_selection import train_test_split\n",
        "\n",
        "def train_test_split_interactions(interactions, random_state = 43):\n",
        "\n",
        "  # Create a binary mask with the same shape as your interaction matrix, excluding missing values\n",
        "  mask = ~np.isnan(interactions)\n",
        "\n",
        "  # Get the indices of the cells where there's a non-missing interaction\n",
        "  interaction_indices = np.transpose(np.nonzero(mask))\n",
        "\n",
        "  # Split the indices into training and testing sets\n",
        "  train_indices, test_indices = train_test_split(interaction_indices, test_size=0.2, random_state=random_state)\n",
        "\n",
        "  # Create empty matrices for train and test interactions\n",
        "  train_interactions = np.full(interactions.shape, np.nan)\n",
        "  test_interactions = np.full(interactions.shape, np.nan)\n",
        "\n",
        "  # Assign training interactions\n",
        "  for row, col in train_indices:\n",
        "      train_interactions[row, col] = interactions[row, col]\n",
        "\n",
        "  # Assign testing interactions\n",
        "  for row, col in test_indices:\n",
        "      test_interactions[row, col] = interactions[row, col]\n",
        "\n",
        "  return train_interactions, test_interactions\n"
      ],
      "metadata": {
        "id": "QBrGcUGgiccy"
      },
      "execution_count": 40,
      "outputs": []
    },
    {
      "cell_type": "code",
      "source": [],
      "metadata": {
        "id": "AsB0EZpntTHs"
      },
      "execution_count": null,
      "outputs": []
    },
    {
      "cell_type": "code",
      "source": [
        "R_train_val, R_test = train_test_split_interactions(R)"
      ],
      "metadata": {
        "id": "Vd5I3d2rqdO2"
      },
      "execution_count": 41,
      "outputs": []
    },
    {
      "cell_type": "code",
      "source": [
        "mean_train_val = np.nanmean(R_train_val)\n",
        "std_train_val = np.nanstd(R_train_val)\n",
        "print(f\"Global mean of matrix R: {mean_train_val}\")\n",
        "print(f\" Global standard deviation of matrix R: {std_train_val}\")\n",
        "R_train_val_norm = (R_train_val - mean_train_val) / std_train_val\n",
        "\n",
        "# Seed\n",
        "np.random.seed(43)\n",
        "\n",
        "f = 50\n",
        "tol = 1e-5\n",
        "max_iter = 1000\n",
        "\n",
        "Jsim, DJsim = get_Jsim_and_DJsim(R_train_val_norm, f)\n",
        "\n",
        "# Q and P initilization\n",
        "Q = initializeQ(R.shape[0], f)\n",
        "P = initializeP(R.shape[1], f)\n",
        "\n",
        "Theta = np.concatenate((Q.flatten(), P.flatten()))\n",
        "\n",
        "gradientDescentResults = gradientDescent(\n",
        "    Jsim, Theta, DJsim, tol, max_iter, alpha0=0.0001\n",
        ")\n",
        "newThetas = gradientDescentResults[\"x_values\"]\n",
        "J_values = gradientDescentResults[\"func_values\"]\n",
        "newQs = gradientDescentResults[\"x_values\"]"
      ],
      "metadata": {
        "id": "QUL5o11DtWJi",
        "outputId": "b5d10780-3f64-410a-bba2-25b63c1f3029",
        "colab": {
          "base_uri": "https://localhost:8080/"
        }
      },
      "execution_count": 42,
      "outputs": [
        {
          "output_type": "stream",
          "name": "stdout",
          "text": [
            "Global mean of matrix R: 3.5821922173746232\n",
            " Global standard deviation of matrix R: 1.1170484497129594\n",
            "Iteration    0: Cost 16584802.54   \n",
            "Iteration  100: Cost 647097.90   \n",
            "Iteration  200: Cost 406610.31   \n",
            "Iteration  300: Cost 331774.91   \n",
            "Iteration  400: Cost 293568.64   \n",
            "Iteration  500: Cost 269550.08   \n",
            "Iteration  600: Cost 252547.64   \n",
            "Iteration  700: Cost 239745.85   \n",
            "Iteration  800: Cost 229768.32   \n",
            "Iteration  900: Cost 221804.02   \n",
            "Iteration  999: Cost 215378.29   \n"
          ]
        }
      ]
    },
    {
      "cell_type": "code",
      "source": [],
      "metadata": {
        "id": "y-gZ989KzO2n"
      },
      "execution_count": null,
      "outputs": []
    },
    {
      "cell_type": "code",
      "source": [
        "import numpy as np\n",
        "import pandas as pd\n",
        "from scipy.sparse import csr_matrix\n",
        "from sklearn.model_selection import train_test_split\n",
        "\n",
        "# Assuming df is your DataFrame with 'user_id', 'movie_id' and 'rating' columns\n",
        "df = movies\n",
        "\n",
        "# Create an ID mapping for users and movies to convert their IDs into integer indices\n",
        "user_id_mapping = {id:i for i, id in enumerate(df['user_id'].unique())}\n",
        "movie_id_mapping = {id:i for i, id in enumerate(df['movie_id'].unique())}\n",
        "\n",
        "# Apply the mapping to the user_id and movie_id columns\n",
        "df['user_id'] = df['user_id'].map(user_id_mapping)\n",
        "df['movie_id'] = df['movie_id'].map(movie_id_mapping)\n",
        "\n",
        "# Split the DataFrame into training+validation and testing sets\n",
        "train_val_df, test_df = train_test_split(df, test_size=0.2, random_state=42)\n",
        "\n",
        "# Convert the training+validation and testing DataFrames into sparse CSR matrices\n",
        "R_train_val = csr_matrix((train_val_df['rating'], (train_val_df['user_id'], train_val_df['movie_id'])))\n",
        "R_test = csr_matrix((test_df['rating'], (test_df['user_id'], test_df['movie_id'])), shape=R_train_val.shape)\n",
        "\n",
        "\n"
      ],
      "metadata": {
        "id": "6lD9bS4CWE1t"
      },
      "execution_count": 24,
      "outputs": []
    },
    {
      "cell_type": "code",
      "source": [
        "R_test.count_nonzero() + R_train_val.count_nonzero() == np.count_nonzero(~np.isnan(R))"
      ],
      "metadata": {
        "id": "svugH_oXdGaC",
        "outputId": "57aa25f1-64d1-441f-b5ab-8357a027b855",
        "colab": {
          "base_uri": "https://localhost:8080/"
        }
      },
      "execution_count": 30,
      "outputs": [
        {
          "output_type": "execute_result",
          "data": {
            "text/plain": [
              "True"
            ]
          },
          "metadata": {},
          "execution_count": 30
        }
      ]
    },
    {
      "cell_type": "code",
      "source": [
        "import numpy as np\n",
        "import pandas as pd\n",
        "\n",
        "# Assuming df is your DataFrame with 'user_id', 'movie_id' and 'rating' columns\n",
        "\n",
        "# First, let's create a pivot table (full interaction matrix)\n",
        "full_matrix = movies.pivot(index='user_id', columns='movie_id', values='rating')\n",
        "\n",
        "# Then, we split ratings into training and testing sets\n",
        "# Generate a mask where approximately 80% of values are True (will go to training set) and 20% are False (testing set)\n",
        "mask = np.random.rand(*full_matrix.shape) < 0.8\n",
        "\n",
        "# Apply the mask to the full_matrix to get the training matrix\n",
        "train_matrix = full_matrix.where(mask)\n",
        "\n",
        "# Apply the inverse of the mask to the full_matrix to get the testing matrix\n",
        "test_matrix = full_matrix.where(~mask)\n",
        "\n",
        "# Finally, we can convert these back to numpy arrays, replacing missing values with np.nan\n",
        "R_train = train_matrix.values\n",
        "R_test = test_matrix.values"
      ],
      "metadata": {
        "id": "J9EhvPxmXq7G"
      },
      "execution_count": 19,
      "outputs": []
    },
    {
      "cell_type": "code",
      "source": [
        "print(R_train.shape)\n",
        "print(R_test.shape)"
      ],
      "metadata": {
        "id": "9hXR5lfDXAQy",
        "outputId": "39f6b623-4958-49b7-efc1-b186108e72e3",
        "colab": {
          "base_uri": "https://localhost:8080/"
        }
      },
      "execution_count": 20,
      "outputs": [
        {
          "output_type": "stream",
          "name": "stdout",
          "text": [
            "(6040, 3706)\n",
            "(6040, 3706)\n"
          ]
        }
      ]
    },
    {
      "cell_type": "code",
      "source": [
        "np.count_nonzero(~np.isnan(R_train))"
      ],
      "metadata": {
        "id": "IOzR7YJFXLV-",
        "outputId": "573bb2ff-3b1a-428e-b52c-41f424c7cded",
        "colab": {
          "base_uri": "https://localhost:8080/"
        }
      },
      "execution_count": 21,
      "outputs": [
        {
          "output_type": "execute_result",
          "data": {
            "text/plain": [
              "799895"
            ]
          },
          "metadata": {},
          "execution_count": 21
        }
      ]
    },
    {
      "cell_type": "code",
      "source": [
        "np.count_nonzero(~np.isnan(R_test))"
      ],
      "metadata": {
        "id": "CA5MqmaJXceM",
        "outputId": "b56f7167-beec-45d2-f8c2-0ac816781182",
        "colab": {
          "base_uri": "https://localhost:8080/"
        }
      },
      "execution_count": 22,
      "outputs": [
        {
          "output_type": "execute_result",
          "data": {
            "text/plain": [
              "200314"
            ]
          },
          "metadata": {},
          "execution_count": 22
        }
      ]
    },
    {
      "cell_type": "code",
      "source": [
        "np.count_nonzero(~np.isnan(R)) == np.count_nonzero(~np.isnan(R_test)) + np.count_nonzero(~np.isnan(R_train))"
      ],
      "metadata": {
        "id": "CvGlPrHRXic4",
        "outputId": "da5f74a4-3945-41c9-b1f6-6328e2ab7342",
        "colab": {
          "base_uri": "https://localhost:8080/"
        }
      },
      "execution_count": 23,
      "outputs": [
        {
          "output_type": "execute_result",
          "data": {
            "text/plain": [
              "True"
            ]
          },
          "metadata": {},
          "execution_count": 23
        }
      ]
    },
    {
      "cell_type": "code",
      "source": [
        "from sklearn.model_selection import train_test_split\n",
        "\n",
        "# Split the DataFrame into training + validation and testing sets\n",
        "train_val_df, test_df = train_test_split(movies, test_size=0.2, random_state=42)\n",
        "R_train = train_val_df.pivot(index='user_id', columns='movie_id', values='rating').values\n",
        "R_test = test_df.pivot(index='user_id', columns='movie_id', values='rating').values\n",
        "print(R_train.shape)\n",
        "print(R_test.shape)"
      ],
      "metadata": {
        "id": "VG9CQcXIjupM",
        "outputId": "26ba3b79-192f-4ca6-d695-27596e1936b6",
        "colab": {
          "base_uri": "https://localhost:8080/"
        }
      },
      "execution_count": 9,
      "outputs": [
        {
          "output_type": "stream",
          "name": "stdout",
          "text": [
            "(6040, 3683)\n",
            "(6038, 3444)\n"
          ]
        }
      ]
    },
    {
      "cell_type": "code",
      "source": [
        "train_val_df.shape"
      ],
      "metadata": {
        "id": "7qstKW2vVQbY",
        "outputId": "a85ebe76-22aa-4bde-9f81-317571e8394d",
        "colab": {
          "base_uri": "https://localhost:8080/"
        }
      },
      "execution_count": 10,
      "outputs": [
        {
          "output_type": "execute_result",
          "data": {
            "text/plain": [
              "(800167, 3)"
            ]
          },
          "metadata": {},
          "execution_count": 10
        }
      ]
    },
    {
      "cell_type": "code",
      "source": [
        "test_df.shape"
      ],
      "metadata": {
        "id": "lgZKsVqoVUnB",
        "outputId": "23e018e0-dc5c-44ff-f36d-1d7582b70ac7",
        "colab": {
          "base_uri": "https://localhost:8080/"
        }
      },
      "execution_count": 12,
      "outputs": [
        {
          "output_type": "execute_result",
          "data": {
            "text/plain": [
              "(200042, 3)"
            ]
          },
          "metadata": {},
          "execution_count": 12
        }
      ]
    },
    {
      "cell_type": "code",
      "source": [
        "mean = np.nanmean(R_train)\n",
        "std = np.nanstd(R_train)\n",
        "print(f\"Global mean of matrix R: {mean}\")\n",
        "print(f\" Global standard deviation of matrix R: {std}\")\n",
        "R_train_norm = (R_train - mean) / std\n",
        "\n",
        "# Seed\n",
        "np.random.seed(43)\n",
        "\n",
        "f = 50\n",
        "tol = 1e-5\n",
        "max_iter = 1000\n",
        "\n",
        "Jsim, DJsim = get_Jsim_and_DJsim(R_norm, f)\n",
        "\n",
        "# Q and P initilization\n",
        "Q = initializeQ(R.shape[0], f)\n",
        "P = initializeP(R.shape[1], f)\n",
        "\n",
        "Theta = np.concatenate((Q.flatten(), P.flatten()))\n",
        "\n",
        "gradientDescentResults = gradientDescent(\n",
        "    Jsim, Theta, DJsim, tol, max_iter, alpha0=0.0001\n",
        ")\n",
        "newThetas = gradientDescentResults[\"x_values\"]\n",
        "J_values = gradientDescentResults[\"func_values\"]\n",
        "newQs = gradientDescentResults[\"x_values\"]"
      ],
      "metadata": {
        "id": "jZ5iGDBrTb3f",
        "outputId": "8767deb2-8f0c-4eb6-f3b5-75e87584a607",
        "colab": {
          "base_uri": "https://localhost:8080/",
          "height": 235
        }
      },
      "execution_count": 7,
      "outputs": [
        {
          "output_type": "error",
          "ename": "NameError",
          "evalue": "ignored",
          "traceback": [
            "\u001b[0;31m---------------------------------------------------------------------------\u001b[0m",
            "\u001b[0;31mNameError\u001b[0m                                 Traceback (most recent call last)",
            "\u001b[0;32m<ipython-input-7-8a3fec370cdb>\u001b[0m in \u001b[0;36m<cell line: 1>\u001b[0;34m()\u001b[0m\n\u001b[0;32m----> 1\u001b[0;31m \u001b[0mmean\u001b[0m \u001b[0;34m=\u001b[0m \u001b[0mnp\u001b[0m\u001b[0;34m.\u001b[0m\u001b[0mnanmean\u001b[0m\u001b[0;34m(\u001b[0m\u001b[0mR_train\u001b[0m\u001b[0;34m)\u001b[0m\u001b[0;34m\u001b[0m\u001b[0;34m\u001b[0m\u001b[0m\n\u001b[0m\u001b[1;32m      2\u001b[0m \u001b[0mstd\u001b[0m \u001b[0;34m=\u001b[0m \u001b[0mnp\u001b[0m\u001b[0;34m.\u001b[0m\u001b[0mnanstd\u001b[0m\u001b[0;34m(\u001b[0m\u001b[0mR_train\u001b[0m\u001b[0;34m)\u001b[0m\u001b[0;34m\u001b[0m\u001b[0;34m\u001b[0m\u001b[0m\n\u001b[1;32m      3\u001b[0m \u001b[0mprint\u001b[0m\u001b[0;34m(\u001b[0m\u001b[0;34mf\"Global mean of matrix R: {mean}\"\u001b[0m\u001b[0;34m)\u001b[0m\u001b[0;34m\u001b[0m\u001b[0;34m\u001b[0m\u001b[0m\n\u001b[1;32m      4\u001b[0m \u001b[0mprint\u001b[0m\u001b[0;34m(\u001b[0m\u001b[0;34mf\" Global standard deviation of matrix R: {std}\"\u001b[0m\u001b[0;34m)\u001b[0m\u001b[0;34m\u001b[0m\u001b[0;34m\u001b[0m\u001b[0m\n\u001b[1;32m      5\u001b[0m \u001b[0mR_train_norm\u001b[0m \u001b[0;34m=\u001b[0m \u001b[0;34m(\u001b[0m\u001b[0mR_train\u001b[0m \u001b[0;34m-\u001b[0m \u001b[0mmean\u001b[0m\u001b[0;34m)\u001b[0m \u001b[0;34m/\u001b[0m \u001b[0mstd\u001b[0m\u001b[0;34m\u001b[0m\u001b[0;34m\u001b[0m\u001b[0m\n",
            "\u001b[0;31mNameError\u001b[0m: name 'R_train' is not defined"
          ]
        }
      ]
    },
    {
      "cell_type": "code",
      "source": [
        "import itertools\n",
        "import logging\n",
        "from sklearn.model_selection import KFold\n",
        "\n",
        "# Configure logging\n",
        "logging.basicConfig(level=logging.INFO, format='%(asctime)s - %(levelname)s - %(message)s')\n",
        "\n",
        "# Define your hyperparameters grid as a dictionary\n",
        "params_grid = {\n",
        "    'hyperparam1': [value1, value2, value3],\n",
        "    'hyperparam2': [value4, value5, value6],\n",
        "    # Add more hyperparameters as needed\n",
        "}\n",
        "\n",
        "# Generate all combinations of hyperparameters\n",
        "params_combinations = list(itertools.product(*params_grid.values()))\n",
        "\n",
        "# Create a KFold object for splitting the data into training and validation folds\n",
        "kf = KFold(n_splits=5)\n",
        "\n",
        "# Initialize best validation performance and best hyperparameters\n",
        "best_val_performance = float('-inf')\n",
        "best_hyperparams = None\n",
        "\n",
        "# Iterate over all combinations of hyperparameters\n",
        "for i, params_values in enumerate(params_combinations):\n",
        "    params = dict(zip(params_grid.keys(), params_values))\n",
        "    \n",
        "    # Initialize average validation performance for this set of hyperparameters\n",
        "    avg_val_performance = 0\n",
        "\n",
        "    # Use the KFold object to generate the sets of train and validation indices\n",
        "    for train_indices, val_indices in kf.split(train_val_df):\n",
        "        train_fold_df = train_val_df.iloc[train_indices]\n",
        "        val_fold_df = train_val_df.iloc[val_indices]\n",
        "        \n",
        "        # You can now convert these dataframes into interaction matrices as before\n",
        "        train_fold_matrix = train_fold_df.pivot(index='user_id', columns='movie_id', values='rating').values\n",
        "        val_fold_matrix = val_fold_df.pivot(index='user_id', columns='movie_id', values='rating').values\n",
        "        \n",
        "        # Train your model using train_fold_matrix and validate it using val_fold_matrix\n",
        "        # The train_model function should return the validation performance\n",
        "        val_performance = train_model(train_fold_matrix, val_fold_matrix, **params)\n",
        "        \n",
        "        # Add the validation performance to the average\n",
        "        avg_val_performance += val_performance\n",
        "\n",
        "    # Divide by the number of folds to get the average validation performance\n",
        "    avg_val_performance /= kf.get_n_splits()\n",
        "    \n",
        "    # Log the current progress\n",
        "    logging.info(f\"Combination {i+1}/{len(params_combinations)}: {params} => avg_val_performance: {avg_val_performance}\")\n",
        "    \n",
        "    # If this is the best set of hyperparameters so far, update best_val_performance and best_hyperparams\n",
        "    if avg_val_performance > best_val_performance:\n",
        "        best_val_performance = avg_val_performance\n",
        "        best_hyperparams = params\n",
        "\n",
        "# At this point, best_hyperparams is the set of hyperparameters that gave the best average validation performance\n",
        "logging.info(f\"Best hyperparameters: {best_hyperparams} => best_val_performance: {best_val_performance}\")\n"
      ],
      "metadata": {
        "id": "rXQIpGxmlKpN",
        "outputId": "ac477cae-ee0a-4f67-afd9-39fa7c57ea72",
        "colab": {
          "base_uri": "https://localhost:8080/"
        }
      },
      "execution_count": null,
      "outputs": [
        {
          "output_type": "execute_result",
          "data": {
            "text/plain": [
              "(1208, 3706)"
            ]
          },
          "metadata": {},
          "execution_count": 23
        }
      ]
    },
    {
      "cell_type": "code",
      "execution_count": null,
      "metadata": {
        "id": "-WKeSK-3HKmJ",
        "outputId": "32849499-b84d-4c1e-ccbd-746ae3051b6b"
      },
      "outputs": [
        {
          "name": "stdout",
          "output_type": "stream",
          "text": [
            "3.581564453029317\n",
            "1.1171012869389085\n",
            " Optimizing Q\n",
            "Time to calculate alpha: 8.924907684326172. Alpha: 0.001953125\n",
            "Time to calculate alpha: 9.637166261672974. Alpha: 0.0009765625\n",
            "Time to calculate alpha: 10.349188804626465. Alpha: 0.00048828125\n",
            "Time to calculate alpha: 8.761430740356445. Alpha: 0.001953125\n",
            "Time to calculate alpha: 10.256907224655151. Alpha: 0.00048828125\n",
            "Time to calculate alpha: 8.727467775344849. Alpha: 0.001953125\n",
            "Time to calculate alpha: 10.267544746398926. Alpha: 0.00048828125\n",
            "Time to calculate alpha: 9.564652442932129. Alpha: 0.0009765625\n",
            "Time to calculate alpha: 10.361522912979126. Alpha: 0.00048828125\n",
            "Time to calculate alpha: 8.732603788375854. Alpha: 0.001953125\n",
            " Oprimizing P\n",
            "Time to calculate alpha: 7.12593936920166. Alpha: 0.0078125\n",
            "Time to calculate alpha: 8.125593185424805. Alpha: 0.00390625\n",
            "Time to calculate alpha: 8.732739210128784. Alpha: 0.001953125\n",
            "Time to calculate alpha: 7.021819829940796. Alpha: 0.0078125\n",
            "Time to calculate alpha: 8.90816330909729. Alpha: 0.001953125\n",
            "Time to calculate alpha: 8.245940208435059. Alpha: 0.00390625\n",
            "Time to calculate alpha: 8.158613204956055. Alpha: 0.00390625\n",
            "Alternations Completed: 1\n",
            " Optimizing Q\n",
            "Time to calculate alpha: 8.692179679870605. Alpha: 0.001953125\n",
            "Time to calculate alpha: 7.834901332855225. Alpha: 0.00390625\n",
            "Time to calculate alpha: 9.667667865753174. Alpha: 0.0009765625\n",
            "Time to calculate alpha: 9.547989130020142. Alpha: 0.0009765625\n",
            " Oprimizing P\n",
            "Time to calculate alpha: 8.359525203704834. Alpha: 0.00390625\n",
            "Time to calculate alpha: 7.916539907455444. Alpha: 0.00390625\n",
            "Time to calculate alpha: 8.587624311447144. Alpha: 0.001953125\n",
            "Time to calculate alpha: 6.556165456771851. Alpha: 0.015625\n",
            "Time to calculate alpha: 8.795938491821289. Alpha: 0.001953125\n",
            "Time to calculate alpha: 8.111067295074463. Alpha: 0.00390625\n",
            "Alternations Completed: 2\n",
            " Optimizing Q\n",
            "Time to calculate alpha: 8.450921773910522. Alpha: 0.001953125\n",
            "Time to calculate alpha: 9.303173780441284. Alpha: 0.0009765625\n",
            "Time to calculate alpha: 9.218181610107422. Alpha: 0.001953125\n",
            "Time to calculate alpha: 9.687641143798828. Alpha: 0.0009765625\n",
            "Time to calculate alpha: 9.334475994110107. Alpha: 0.0009765625\n",
            " Oprimizing P\n",
            "Time to calculate alpha: 8.849053382873535. Alpha: 0.001953125\n",
            "Time to calculate alpha: 7.811269760131836. Alpha: 0.00390625\n",
            "Time to calculate alpha: 8.490899085998535. Alpha: 0.001953125\n",
            "Alternations Completed: 3\n",
            " Optimizing Q\n",
            "Time to calculate alpha: 9.458191871643066. Alpha: 0.0009765625\n",
            " Oprimizing P\n",
            "Time to calculate alpha: 8.076563358306885. Alpha: 0.00390625\n",
            "Alternations Completed: 4\n",
            " Optimizing Q\n",
            "Time to calculate alpha: 9.218029737472534. Alpha: 0.001953125\n",
            " Oprimizing P\n",
            "Time to calculate alpha: 9.10952377319336. Alpha: 0.001953125\n",
            "Alternations Completed: 5\n",
            " Optimizing Q\n",
            "Time to calculate alpha: 10.055058717727661. Alpha: 0.00048828125\n",
            " Oprimizing P\n",
            "Time to calculate alpha: 8.086035251617432. Alpha: 0.00390625\n",
            "Alternations Completed: 6\n",
            " Optimizing Q\n",
            "Time to calculate alpha: 7.354792833328247. Alpha: 0.0078125\n",
            "Time to calculate alpha: 10.478538036346436. Alpha: 0.00048828125\n",
            "Time to calculate alpha: 9.008612871170044. Alpha: 0.001953125\n",
            " Oprimizing P\n",
            "Time to calculate alpha: 8.79819107055664. Alpha: 0.001953125\n",
            "Alternations Completed: 7\n",
            " Optimizing Q\n",
            "Time to calculate alpha: 9.469046115875244. Alpha: 0.0009765625\n",
            " Oprimizing P\n",
            "Time to calculate alpha: 9.039929151535034. Alpha: 0.001953125\n",
            "Alternations Completed: 8\n"
          ]
        }
      ],
      "source": [
        "mean = np.nanmean(R)\n",
        "std = np.nanstd(R)\n",
        "print(mean)\n",
        "print(std)\n",
        "normR = (R - mean) / std\n",
        "\n",
        "np.random.seed(43)\n",
        "f = 10\n",
        "alternations = 10\n",
        "tol = 1e-2\n",
        "max_iter = 10\n",
        "lambQ = 0\n",
        "lambP = lambQ\n",
        "\n",
        "als_result = ALS(\n",
        "    normR,\n",
        "    f,\n",
        "    alternations=alternations,\n",
        "    tol=tol,\n",
        "    max_iter=max_iter,\n",
        "    lambQ=lambQ,\n",
        "    lambP=lambP,\n",
        ")\n"
      ]
    },
    {
      "cell_type": "code",
      "execution_count": null,
      "metadata": {
        "id": "3zrME4HzHKmJ"
      },
      "outputs": [],
      "source": [
        "Ju_values = als_result[\"Ju_values\"]\n",
        "Ja_values = als_result[\"Ja_values\"]\n",
        "RMSEu_values = als_result[\"RMSEu_values\"]\n",
        "RMSEa_values = als_result[\"RMSEa_values\"]\n",
        "newQ = als_result[\"Q\"]\n",
        "newP = als_result[\"P\"]"
      ]
    },
    {
      "cell_type": "code",
      "execution_count": null,
      "metadata": {
        "id": "bZHlmOxpHKmK",
        "outputId": "fba9fad6-6cc2-4d00-adce-2db3028bb96d"
      },
      "outputs": [
        {
          "data": {
            "image/png": "[encoded data removed]",
            "text/plain": [
              "<Figure size 1500x500 with 2 Axes>"
            ]
          },
          "metadata": {},
          "output_type": "display_data"
        },
        {
          "data": {
            "image/png": "[encoded data removed]",
            "text/plain": [
              "<Figure size 1500x500 with 2 Axes>"
            ]
          },
          "metadata": {},
          "output_type": "display_data"
        }
      ],
      "source": [
        "plotALSResults(Ju_values, Ja_values, \"ALS - Cost Function Plot\")\n",
        "plotALSResults(RMSEu_values, RMSEa_values, \"ALS - RMSE Plot\")\n"
      ]
    },
    {
      "cell_type": "code",
      "execution_count": null,
      "metadata": {
        "id": "mCN46C-vHKmK",
        "outputId": "5cbab1ce-b552-4f42-e8c8-e3826569a88f"
      },
      "outputs": [
        {
          "name": "stdout",
          "output_type": "stream",
          "text": [
            "3.581564453029317\n",
            "1.1171012869389085\n",
            "Iteration    0: Cost 158128858.92   \n",
            "Iteration  100: Cost 447661.16   \n",
            "Iteration  200: Cost 174254.18   \n",
            "Iteration  300: Cost 119615.38   \n",
            "Iteration  400: Cost 98509.41   \n",
            "Iteration  500: Cost 87149.00   \n",
            "Iteration  600: Cost 79699.47   \n",
            "Iteration  700: Cost 74205.43   \n",
            "Iteration  800: Cost 69862.51   \n",
            "Iteration  900: Cost 66281.07   \n",
            "Iteration  999: Cost 63272.52   \n"
          ]
        }
      ],
      "source": [
        "mean = np.nanmean(R)\n",
        "std = np.nanstd(R)\n",
        "print(f\"Global mean of matrix R: {mean}\")\n",
        "print(f\" Global standard deviation of matrix R: {std}\")\n",
        "normR = (R - mean) / std\n",
        "\n",
        "# Seed\n",
        "np.random.seed(43)\n",
        "\n",
        "f = 500\n",
        "tol = 1e-5\n",
        "max_iter = 1000\n",
        "\n",
        "Jsim, DJsim = get_Jsim_and_DJsim(normR, f)\n",
        "\n",
        "# Q and P initilization\n",
        "Q = initializeQ(R.shape[0], f)\n",
        "P = initializeP(R.shape[1], f)\n",
        "\n",
        "Theta = np.concatenate((Q.flatten(), P.flatten()))\n",
        "\n",
        "gradientDescentResults = gradientDescent(\n",
        "    Jsim, Theta, DJsim, tol, max_iter, alpha0=0.0001\n",
        ")\n",
        "newThetas = gradientDescentResults[\"x_values\"]\n",
        "J_values = gradientDescentResults[\"func_values\"]\n",
        "newQs = gradientDescentResults[\"x_values\"]"
      ]
    },
    {
      "cell_type": "code",
      "execution_count": null,
      "metadata": {
        "id": "8-3ZyhrJHKmK",
        "outputId": "7980c1fc-4cc8-473c-b9be-f4285baf241d"
      },
      "outputs": [
        {
          "data": {
            "image/png": "[encoded data removed]",
            "text/plain": [
              "<Figure size 640x480 with 1 Axes>"
            ]
          },
          "metadata": {},
          "output_type": "display_data"
        }
      ],
      "source": [
        "plt.plot(J_values)\n",
        "plt.yscale(\"log\")"
      ]
    },
    {
      "cell_type": "code",
      "execution_count": null,
      "metadata": {
        "id": "3pqLdv2OHKmK"
      },
      "outputs": [],
      "source": [
        "m, n = R.shape\n",
        "Q = newThetas[-1][: m * f].reshape(m, f)\n",
        "P = newThetas[-1][m * f :].reshape(n, f)\n"
      ]
    },
    {
      "cell_type": "code",
      "execution_count": null,
      "metadata": {
        "id": "CXQyFCwsHKmK",
        "outputId": "e24a3f17-7cf9-4b67-e937-f95c646dbf56"
      },
      "outputs": [
        {
          "data": {
            "text/plain": [
              "19.90407110920024"
            ]
          },
          "execution_count": 27,
          "metadata": {},
          "output_type": "execute_result"
        }
      ],
      "source": [
        "np.min((Q @ P.T) * std + mean)\n",
        "np.mean((Q @ P.T) * std + mean)\n",
        "np.std((Q @ P.T) * std + mean)\n"
      ]
    },
    {
      "cell_type": "code",
      "execution_count": null,
      "metadata": {
        "id": "n53bvMvAHKmL",
        "outputId": "d9ba4f3b-b8be-4943-a532-d7f610bbc5e9"
      },
      "outputs": [
        {
          "data": {
            "text/plain": [
              "3.581564453029317"
            ]
          },
          "execution_count": 26,
          "metadata": {},
          "output_type": "execute_result"
        }
      ],
      "source": [
        "mean\n"
      ]
    },
    {
      "cell_type": "code",
      "execution_count": null,
      "metadata": {
        "id": "rsEXTn_KHKmL",
        "outputId": "e4994e7e-d634-411f-d50d-1f3930d43b4c"
      },
      "outputs": [
        {
          "data": {
            "text/plain": [
              "1.0"
            ]
          },
          "execution_count": 29,
          "metadata": {},
          "output_type": "execute_result"
        }
      ],
      "source": [
        "np.nanmin(R)\n"
      ]
    },
    {
      "cell_type": "code",
      "execution_count": null,
      "metadata": {
        "id": "WdGTCjNNHKmL",
        "outputId": "e9ce90eb-3d8f-4461-a6fe-dc914e4ef65d"
      },
      "outputs": [
        {
          "data": {
            "text/plain": [
              "5.0"
            ]
          },
          "execution_count": 30,
          "metadata": {},
          "output_type": "execute_result"
        }
      ],
      "source": [
        "np.nanmax(R)\n"
      ]
    },
    {
      "cell_type": "code",
      "execution_count": 27,
      "metadata": {
        "id": "LgJhWATXHKmL"
      },
      "outputs": [],
      "source": [
        "import numpy as np\n",
        "from tqdm import tqdm\n",
        "\n",
        "class CollaborativeFiltering:\n",
        "    def __init__(self, num_users, num_items):\n",
        "        self.num_users = num_users\n",
        "        self.num_items = num_items\n",
        "        self.user_embeddings = None\n",
        "        self.item_embeddings = None\n",
        "\n",
        "    def fit(self, interactions, num_factors=10, num_iterations=10, learning_rate=0.01):\n",
        "        # Create user and item embeddings\n",
        "        self.user_embeddings = np.random.normal(scale=1.0 / num_factors, size=(self.num_users, num_factors))\n",
        "        self.item_embeddings = np.random.normal(scale=1.0 / num_factors, size=(self.num_items, num_factors))\n",
        "\n",
        "        train_errors = []\n",
        "\n",
        "        for iteration in tqdm(range(num_iterations), desc=\"Training Progress\", position=0, leave=True):\n",
        "            iteration_train_error = 0.0\n",
        "\n",
        "            progress_bar = tqdm(total=len(interactions), desc=f\"Iteration {iteration+1}/{num_iterations}, RMSE: \", position=0, leave=True)\n",
        "\n",
        "            for user, item, rating in interactions:\n",
        "                # Compute prediction error\n",
        "                error = rating - self.predict(user, item)\n",
        "\n",
        "                # Update user and item embeddings\n",
        "                user_embedding = self.user_embeddings[user, :]\n",
        "                item_embedding = self.item_embeddings[item, :]\n",
        "                self.user_embeddings[user, :] += learning_rate * (error * item_embedding)\n",
        "                self.item_embeddings[item, :] += learning_rate * (error * user_embedding)\n",
        "\n",
        "                iteration_train_error += error ** 2\n",
        "                progress_bar.update()\n",
        "\n",
        "            iteration_train_rmse = np.sqrt(iteration_train_error / len(interactions))\n",
        "            train_errors.append(iteration_train_rmse)\n",
        "\n",
        "            progress_bar.set_description(f\"Iteration {iteration+1}/{num_iterations}, RMSE: {iteration_train_rmse:.4f}\")\n",
        "            progress_bar.close()\n",
        "\n",
        "        return train_errors\n",
        "\n",
        "    def predict(self, user, item):\n",
        "        # Compute the predicted rating for a user-item pair\n",
        "        user_embedding = self.user_embeddings[user, :]\n",
        "        item_embedding = self.item_embeddings[item, :]\n",
        "        return np.dot(user_embedding, item_embedding)\n",
        "\n",
        "    def recommend_items(self, user, top_k=5):\n",
        "        # Recommend the top-k items for a given user\n",
        "        user_embedding = self.user_embeddings[user, :]\n",
        "        scores = np.dot(self.item_embeddings, user_embedding)\n",
        "        top_item_indices = np.argsort(scores)[::-1][:top_k]\n",
        "        return top_item_indices\n"
      ]
    },
    {
      "cell_type": "code",
      "source": [
        "model = CollaborativeFiltering(*R_train_val.shape)"
      ],
      "metadata": {
        "id": "1fUBMWsYzfPz"
      },
      "execution_count": 58,
      "outputs": []
    },
    {
      "cell_type": "code",
      "source": [
        "import numpy as np\n",
        "\n",
        "# Assuming your interaction matrix is represented as a NumPy array 'R'\n",
        "num_users, num_movies = R.shape\n",
        "\n",
        "# Create an empty list to store the tuples\n",
        "tuples_list = []\n",
        "\n",
        "# Iterate over the indices and values of the interaction matrix\n",
        "for (user_id, movie_id), rating in np.ndenumerate(R):\n",
        "    if not np.isnan(rating):  # Exclude entries with np.nan\n",
        "        tuples_list.append((user_id, movie_id, rating))\n",
        "\n",
        "print(len(tuples_list))"
      ],
      "metadata": {
        "id": "BWCBy_TZ0F21",
        "outputId": "90356380-85b1-4195-83e3-ad9d73388f64",
        "colab": {
          "base_uri": "https://localhost:8080/"
        }
      },
      "execution_count": 46,
      "outputs": [
        {
          "output_type": "stream",
          "name": "stdout",
          "text": [
            "1000209\n"
          ]
        }
      ]
    },
    {
      "cell_type": "code",
      "source": [
        "# Example usage of the interactions list\n",
        "cf_model = CollaborativeFiltering(R.shape[0], R.shape[1])\n",
        "errors = cf_model.fit(tuples_list, num_factors=10, num_iterations=10, learning_rate=0.001)"
      ],
      "metadata": {
        "id": "H0gP9DwU4iUW",
        "outputId": "17980658-5d8e-4ecd-8d79-934210f61608",
        "colab": {
          "base_uri": "https://localhost:8080/"
        }
      },
      "execution_count": 47,
      "outputs": [
        {
          "output_type": "stream",
          "name": "stderr",
          "text": [
            "Iteration 1/10, RMSE: 3.7510: 100%|██████████| 1000209/1000209 [00:24<00:00, 40741.27it/s]\n",
            "Iteration 2/10, RMSE: 3.7090: 100%|██████████| 1000209/1000209 [00:36<00:00, 27505.56it/s]\n",
            "Iteration 3/10, RMSE: 3.1640: 100%|██████████| 1000209/1000209 [00:23<00:00, 41934.32it/s]\n",
            "Iteration 4/10, RMSE: 2.0949: 100%|██████████| 1000209/1000209 [00:24<00:00, 40527.78it/s]\n",
            "Iteration 5/10, RMSE: 1.5440: 100%|██████████| 1000209/1000209 [00:24<00:00, 40871.19it/s]\n",
            "Iteration 6/10, RMSE: 1.2990: 100%|██████████| 1000209/1000209 [00:25<00:00, 39936.67it/s]\n",
            "Iteration 7/10, RMSE: 1.1698: 100%|██████████| 1000209/1000209 [00:34<00:00, 28753.35it/s]\n",
            "Iteration 8/10, RMSE: 1.0935: 100%|██████████| 1000209/1000209 [00:24<00:00, 41188.59it/s]\n",
            "Iteration 9/10, RMSE: 1.0449: 100%|██████████| 1000209/1000209 [00:25<00:00, 39465.06it/s]\n",
            "Iteration 10/10, RMSE: 1.0121: 100%|██████████| 1000209/1000209 [00:23<00:00, 42003.28it/s]\n",
            "Training Progress: 100%|██████████| 10/10 [04:27<00:00, 26.73s/it]\n"
          ]
        }
      ]
    },
    {
      "cell_type": "code",
      "source": [
        "plt.plot(errors)"
      ],
      "metadata": {
        "id": "CfifI3bKBMlv",
        "outputId": "e686fb83-9740-46a0-d3c9-926da52b0040",
        "colab": {
          "base_uri": "https://localhost:8080/",
          "height": 465
        }
      },
      "execution_count": 48,
      "outputs": [
        {
          "output_type": "execute_result",
          "data": {
            "text/plain": [
              "[<matplotlib.lines.Line2D at 0x7fbe6f953820>]"
            ]
          },
          "metadata": {},
          "execution_count": 48
        },
        {
          "output_type": "display_data",
          "data": {
            "text/plain": [
              "<Figure size 640x480 with 1 Axes>"
            ],
            "image/png": "[encoded data removed]"
          },
          "metadata": {}
        }
      ]
    },
    {
      "cell_type": "code",
      "source": [],
      "metadata": {
        "id": "NL_wVFB1BNz1"
      },
      "execution_count": null,
      "outputs": []
    }
  ],
  "metadata": {
    "kernelspec": {
      "display_name": "RSThesisEnv",
      "language": "python",
      "name": "python3"
    },
    "language_info": {
      "codemirror_mode": {
        "name": "ipython",
        "version": 3
      },
      "file_extension": ".py",
      "mimetype": "text/x-python",
      "name": "python",
      "nbconvert_exporter": "python",
      "pygments_lexer": "ipython3",
      "version": "3.9.16"
    },
    "orig_nbformat": 4,
    "colab": {
      "provenance": []
    }
  },
  "nbformat": 4,
  "nbformat_minor": 0
}