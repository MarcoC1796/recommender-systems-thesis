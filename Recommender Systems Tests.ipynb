{
 "cells": [
  {
   "cell_type": "markdown",
   "id": "80c46504",
   "metadata": {},
   "source": [
    "# Collaborative Filtering Methods\n",
    "In this notebook we will tests various algorithms that will help us implement **Latent Factors - Collaborative Fileting**. We will test the methods of **Alternating Least Squares Matrix Factorization (ALS)** and **Simultaneous Least Squares Matrix Factorization (SLS)**. Along with these methods, we will also test **Gradient Descent** and **Line Search**, two algorithms that will help us implement ALS and SLS.\n",
    "\n",
    "For ALS we use two objective functions $J_u$ and $J_a$ which we define as.\n",
    "$$\n",
    " J_u(\\Theta) = \\frac{1}{2} \\sum_{i=1}^{m} \\left[ \\sum_{\\{j\\:|\\:1 \\le j \\le n,\\: r(i,j) = 1\\}} ((\\theta^{(i)})^\\mathsf{T}x^{(j)} - y(i,j))^2 \\right] \\text{. }\n",
    "$$ and\n"
   ]
  },
  {
   "cell_type": "code",
   "execution_count": 1,
   "id": "5c117c3f",
   "metadata": {},
   "outputs": [],
   "source": [
    "# data analysis and wrangling\n",
    "import numpy as np\n",
    "import pandas as pd\n",
    "\n",
    "# visualization\n",
    "import matplotlib.pyplot as plt\n",
    "\n",
    "# functions to test\n",
    "from gradientDescent import gradientDescent\n",
    "from alternatingLeastSquares import ALS\n",
    "from lineSearchAlgorithm import lineSearch\n",
    "from cost_functions import get_Ju_and_DJu, get_Ja_and_DJa\n",
    "from aux_functions import initializeTheta, initializeX"
   ]
  },
  {
   "cell_type": "code",
   "execution_count": 2,
   "id": "f4aea809",
   "metadata": {},
   "outputs": [],
   "source": [
    "tol = 1e-3\n",
    "max_iter = 100"
   ]
  },
  {
   "cell_type": "markdown",
   "id": "03b4c813",
   "metadata": {},
   "source": [
    "## Sample Data\n",
    "We create a simple $5\\times4$ interactions matrix to test our algorithms."
   ]
  },
  {
   "cell_type": "code",
   "execution_count": 8,
   "id": "7b833e3b",
   "metadata": {},
   "outputs": [],
   "source": [
    "R = np.array(\n",
    "    [\n",
    "        [5, 1, np.NAN, 4],\n",
    "        [np.NAN, 9, np.NAN, 2],\n",
    "        [9, 2, 1, np.NAN],\n",
    "        [6, np.NAN, 7, 4],\n",
    "        [np.NAN, 4, 7, 5],\n",
    "    ]\n",
    ")\n",
    "\n",
    "m, n = R.shape"
   ]
  },
  {
   "cell_type": "markdown",
   "id": "04def54b",
   "metadata": {},
   "source": [
    "We define the range $f$ for the matrices $Q$ and $P$ that will approximate $R$."
   ]
  },
  {
   "cell_type": "code",
   "execution_count": 9,
   "id": "a81516c2",
   "metadata": {},
   "outputs": [],
   "source": [
    "f = 4"
   ]
  },
  {
   "cell_type": "markdown",
   "id": "78477359",
   "metadata": {},
   "source": [
    "We initialize $Q$ and $P$ with values from a standard normal random variable keeping a constant seed for consistent results."
   ]
  },
  {
   "cell_type": "code",
   "execution_count": null,
   "id": "f69f1655",
   "metadata": {},
   "outputs": [],
   "source": [
    "# Seed\n",
    "np.random.seed(43)\n",
    "\n",
    "# Q and P initilization\n",
    "Q = initializeTheta(R.shape[0], f)\n",
    "P = initializeX(R.shape[1], f)"
   ]
  },
  {
   "cell_type": "markdown",
   "id": "95295a10",
   "metadata": {},
   "source": [
    "## Line Search Test\n",
    "The **Line Search** algorithm return a step that meets the **Wolfe** conditions. Here, we test if the implmentation is correct.\n",
    "\n",
    "First, we define $Ju$, our objective function to  given $R$, $P$, and $f$."
   ]
  },
  {
   "cell_type": "code",
   "execution_count": 6,
   "id": "0c92ae6e",
   "metadata": {},
   "outputs": [
    {
     "data": {
      "text/plain": [
       "0.25"
      ]
     },
     "execution_count": 6,
     "metadata": {},
     "output_type": "execute_result"
    }
   ],
   "source": [
    "Ju, DJu = get_Ju_and_DJu(R, P, p)\n",
    "Theta = Theta.flatten()\n",
    "p_k = -DJu(Theta)\n",
    "alpha = lineSearch(Ju, DJu, Theta, p_k)\n",
    "alpha"
   ]
  },
  {
   "cell_type": "code",
   "execution_count": null,
   "id": "ccc5244a",
   "metadata": {},
   "outputs": [],
   "source": [
    "Ju, DJu = get_Ju_and_DJu(R, X, p)\n",
    "\n",
    "Theta = Theta.flatten()\n",
    "newThetaResults = gradientDescent(Ju, Theta, DJu, tol, max_iter)\n",
    "newTheta = newThetaResults[\"parameters\"].reshape(R.shape[0], p)\n",
    "Ju_values = newThetaResults[\"func_values\"]\n",
    "\n",
    "plt.plot(Ju_values)\n",
    "plt.yscale(\"log\")\n",
    "plt.show()"
   ]
  },
  {
   "cell_type": "code",
   "execution_count": null,
   "id": "c89f9c12",
   "metadata": {},
   "outputs": [],
   "source": [
    "alpha_values = newThetaResults[\"alpha_values\"]\n",
    "alpha_values"
   ]
  },
  {
   "cell_type": "code",
   "execution_count": null,
   "id": "d7409ee4",
   "metadata": {},
   "outputs": [],
   "source": [
    "newR = newTheta @ X.T"
   ]
  },
  {
   "cell_type": "code",
   "execution_count": null,
   "id": "16978149",
   "metadata": {},
   "outputs": [],
   "source": [
    "pd.DataFrame(np.around(newR, 2))"
   ]
  },
  {
   "cell_type": "code",
   "execution_count": null,
   "id": "820d230a",
   "metadata": {},
   "outputs": [],
   "source": [
    "pd.DataFrame(R)"
   ]
  },
  {
   "cell_type": "code",
   "execution_count": null,
   "id": "4224f60e",
   "metadata": {},
   "outputs": [],
   "source": [
    "np.random.seed(0)\n",
    "Theta = initializeTheta(R.shape[0], p)\n",
    "X = initializeX(R.shape[1], p)"
   ]
  },
  {
   "cell_type": "code",
   "execution_count": null,
   "id": "f973243f",
   "metadata": {},
   "outputs": [],
   "source": [
    "Ja, DJa = get_Ja_and_DJa(R, Theta, p)\n",
    "X = X.flatten()\n",
    "p_k = -DJa(X)\n",
    "alpha = lineSearch(Ja, DJa, X, p_k)\n",
    "alpha"
   ]
  },
  {
   "cell_type": "code",
   "execution_count": null,
   "id": "3bed8e8c",
   "metadata": {},
   "outputs": [],
   "source": [
    "Ja, DJa = get_Ja_and_DJa(R, Theta, p)\n",
    "\n",
    "X = X.flatten()\n",
    "newXResults = gradientDescent(Ja, X, DJa,tol, max_iter)\n",
    "newX = newXResults[\"parameters\"].reshape(R.shape[1], p)\n",
    "Ja_values = newXResults[\"func_values\"]\n",
    "\n",
    "plt.plot(Ja_values)\n",
    "plt.yscale(\"log\")\n",
    "plt.show()"
   ]
  },
  {
   "cell_type": "code",
   "execution_count": null,
   "id": "162ddddc",
   "metadata": {},
   "outputs": [],
   "source": [
    "alpha_values = newXResults[\"alpha_values\"]\n",
    "alpha_values"
   ]
  },
  {
   "cell_type": "code",
   "execution_count": null,
   "id": "60e11dc4",
   "metadata": {},
   "outputs": [],
   "source": [
    "Ja_values"
   ]
  },
  {
   "cell_type": "code",
   "execution_count": null,
   "id": "8759a231",
   "metadata": {},
   "outputs": [],
   "source": [
    "newR = Theta @ newX.T"
   ]
  },
  {
   "cell_type": "code",
   "execution_count": null,
   "id": "3b2d2b85",
   "metadata": {},
   "outputs": [],
   "source": [
    "pd.DataFrame(np.around(newR, 2))"
   ]
  },
  {
   "cell_type": "code",
   "execution_count": null,
   "id": "ad890842",
   "metadata": {},
   "outputs": [],
   "source": [
    "pd.DataFrame(R)"
   ]
  },
  {
   "cell_type": "code",
   "execution_count": null,
   "id": "8ae32776",
   "metadata": {},
   "outputs": [],
   "source": [
    "np.random.seed(0)\n",
    "als_result = ALS(R, p, alpha, 0, tol, 100, max_iter)"
   ]
  },
  {
   "cell_type": "code",
   "execution_count": null,
   "id": "68fc92a9",
   "metadata": {},
   "outputs": [],
   "source": [
    "newTheta = als_result[\"Theta\"]\n",
    "newX = als_result[\"X\"]\n",
    "J_values = als_result[\"J_values\"]"
   ]
  },
  {
   "cell_type": "code",
   "execution_count": null,
   "id": "952f7c2c",
   "metadata": {},
   "outputs": [],
   "source": [
    "plt.plot(J_values)\n",
    "plt.show()"
   ]
  },
  {
   "cell_type": "code",
   "execution_count": null,
   "id": "7e623e43",
   "metadata": {},
   "outputs": [],
   "source": [
    "plt.plot(J_values)\n",
    "plt.yscale(\"log\")\n",
    "plt.show()"
   ]
  },
  {
   "cell_type": "code",
   "execution_count": null,
   "id": "0f0ff7b0",
   "metadata": {},
   "outputs": [],
   "source": [
    "newR = newTheta @ newX.T"
   ]
  },
  {
   "cell_type": "code",
   "execution_count": null,
   "id": "adbeda0a",
   "metadata": {},
   "outputs": [],
   "source": [
    "pd.DataFrame(np.around(newR, 1))"
   ]
  },
  {
   "cell_type": "code",
   "execution_count": null,
   "id": "968a1f11",
   "metadata": {},
   "outputs": [],
   "source": [
    "pd.DataFrame(R)"
   ]
  },
  {
   "cell_type": "code",
   "execution_count": null,
   "id": "ca8fb2f2",
   "metadata": {},
   "outputs": [],
   "source": []
  },
  {
   "cell_type": "code",
   "execution_count": null,
   "id": "6ea0b792",
   "metadata": {},
   "outputs": [],
   "source": []
  }
 ],
 "metadata": {
  "kernelspec": {
   "display_name": "Python 3 (ipykernel)",
   "language": "python",
   "name": "python3"
  },
  "language_info": {
   "codemirror_mode": {
    "name": "ipython",
    "version": 3
   },
   "file_extension": ".py",
   "mimetype": "text/x-python",
   "name": "python",
   "nbconvert_exporter": "python",
   "pygments_lexer": "ipython3",
   "version": "3.9.13"
  }
 },
 "nbformat": 4,
 "nbformat_minor": 5
}
