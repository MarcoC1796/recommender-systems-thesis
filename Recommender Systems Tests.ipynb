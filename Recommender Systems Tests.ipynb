{
 "cells": [
  {
   "cell_type": "code",
   "execution_count": 1,
   "id": "5c117c3f",
   "metadata": {},
   "outputs": [],
   "source": [
    "import numpy as np\n",
    "import pandas as pd\n",
    "import matplotlib.pyplot as plt\n",
    "from gradientDescent import gradientDescent\n",
    "from alternatingLeastSquares import ALS\n",
    "from lineSearchAlgorithm import lineSearch\n",
    "from cost_functions import get_Ju_and_DJu, get_Ja_and_DJa\n",
    "from aux_functions import initializeTheta, initializeX"
   ]
  },
  {
   "cell_type": "code",
   "execution_count": 2,
   "id": "f4aea809",
   "metadata": {},
   "outputs": [],
   "source": [
    "tol = 1e-3\n",
    "max_iter = 100"
   ]
  },
  {
   "cell_type": "code",
   "execution_count": 3,
   "id": "7b833e3b",
   "metadata": {},
   "outputs": [],
   "source": [
    "R = np.array(\n",
    "    [\n",
    "        [5, 1, np.NAN, 4],\n",
    "        [np.NAN, 9, np.NAN, 2],\n",
    "        [9, 2, 1, np.NAN],\n",
    "        [6, np.NAN, 7, 4],\n",
    "        [np.NAN, 4, 7, 5],\n",
    "    ]\n",
    ")"
   ]
  },
  {
   "cell_type": "code",
   "execution_count": 4,
   "id": "a81516c2",
   "metadata": {},
   "outputs": [],
   "source": [
    "p = 4"
   ]
  },
  {
   "cell_type": "code",
   "execution_count": 5,
   "id": "4f38f459",
   "metadata": {},
   "outputs": [],
   "source": [
    "np.random.seed(0)\n",
    "Theta = initializeTheta(R.shape[0], p)\n",
    "X = initializeX(R.shape[1], p)"
   ]
  },
  {
   "cell_type": "code",
   "execution_count": 6,
   "id": "0c92ae6e",
   "metadata": {},
   "outputs": [
    {
     "data": {
      "text/plain": [
       "0.25"
      ]
     },
     "execution_count": 6,
     "metadata": {},
     "output_type": "execute_result"
    }
   ],
   "source": [
    "Ju, DJu = get_Ju_and_DJu(R, X, p)\n",
    "Theta = Theta.flatten()\n",
    "p_k = -DJu(Theta)\n",
    "alpha = lineSearch(Ju, DJu, Theta, p_k)\n",
    "alpha"
   ]
  },
  {
   "cell_type": "code",
   "execution_count": 7,
   "id": "ccc5244a",
   "metadata": {},
   "outputs": [
    {
     "data": {
      "image/png": "[encoded data removed]",
      "text/plain": [
       "<Figure size 640x480 with 1 Axes>"
      ]
     },
     "metadata": {},
     "output_type": "display_data"
    }
   ],
   "source": [
    "Ju, DJu = get_Ju_and_DJu(R, X, p)\n",
    "\n",
    "Theta = Theta.flatten()\n",
    "newThetaResults = gradientDescent(Ju, Theta, DJu, tol, max_iter)\n",
    "newTheta = newThetaResults[\"parameters\"].reshape(R.shape[0], p)\n",
    "Ju_values = newThetaResults[\"func_values\"]\n",
    "\n",
    "plt.plot(Ju_values)\n",
    "plt.yscale(\"log\")\n",
    "plt.show()"
   ]
  },
  {
   "cell_type": "code",
   "execution_count": 8,
   "id": "c89f9c12",
   "metadata": {},
   "outputs": [
    {
     "data": {
      "text/plain": [
       "array([0.25, 0.5 , 0.5 , 0.25, 4.  , 0.25, 1.  , 0.25, 2.  , 0.25, 2.  ,\n",
       "       0.25, 1.  , 0.25, 4.  , 0.25, 1.  , 0.25, 2.  , 0.25, 2.  , 0.25,\n",
       "       1.  , 0.5 , 0.5 , 0.25, 8.  , 0.25, 0.5 , 0.25, 8.  , 0.25, 0.5 ,\n",
       "       0.5 , 0.25, 4.  , 0.25, 1.  , 0.25, 4.  , 0.25, 1.  , 0.25, 4.  ,\n",
       "       0.25, 1.  , 0.25, 4.  , 0.25, 1.  , 0.25, 4.  , 0.25, 1.  , 0.25,\n",
       "       4.  , 0.25, 1.  , 0.25, 2.  , 0.25, 2.  , 0.25, 2.  , 0.25, 2.  ,\n",
       "       0.25, 2.  , 0.25, 1.  , 0.25, 4.  , 0.25, 1.  , 0.25, 4.  , 0.25,\n",
       "       1.  , 0.25, 4.  , 0.25, 1.  , 0.25, 2.  , 0.25, 2.  , 0.25, 1.  ,\n",
       "       0.5 , 0.5 , 0.5 , 0.25, 4.  , 0.25, 1.  , 0.25, 4.  , 0.25, 1.  ,\n",
       "       0.25])"
      ]
     },
     "execution_count": 8,
     "metadata": {},
     "output_type": "execute_result"
    }
   ],
   "source": [
    "alpha_values = newThetaResults[\"alpha_values\"]\n",
    "alpha_values"
   ]
  },
  {
   "cell_type": "code",
   "execution_count": 9,
   "id": "d7409ee4",
   "metadata": {},
   "outputs": [],
   "source": [
    "newR = newTheta @ X.T"
   ]
  },
  {
   "cell_type": "code",
   "execution_count": 10,
   "id": "16978149",
   "metadata": {},
   "outputs": [
    {
     "data": {
      "text/html": [
       "<div>\n",
       "<style scoped>\n",
       "    .dataframe tbody tr th:only-of-type {\n",
       "        vertical-align: middle;\n",
       "    }\n",
       "\n",
       "    .dataframe tbody tr th {\n",
       "        vertical-align: top;\n",
       "    }\n",
       "\n",
       "    .dataframe thead th {\n",
       "        text-align: right;\n",
       "    }\n",
       "</style>\n",
       "<table border=\"1\" class=\"dataframe\">\n",
       "  <thead>\n",
       "    <tr style=\"text-align: right;\">\n",
       "      <th></th>\n",
       "      <th>0</th>\n",
       "      <th>1</th>\n",
       "      <th>2</th>\n",
       "      <th>3</th>\n",
       "    </tr>\n",
       "  </thead>\n",
       "  <tbody>\n",
       "    <tr>\n",
       "      <th>0</th>\n",
       "      <td>5.00</td>\n",
       "      <td>1.00</td>\n",
       "      <td>2.23</td>\n",
       "      <td>3.99</td>\n",
       "    </tr>\n",
       "    <tr>\n",
       "      <th>1</th>\n",
       "      <td>0.33</td>\n",
       "      <td>9.00</td>\n",
       "      <td>3.49</td>\n",
       "      <td>2.00</td>\n",
       "    </tr>\n",
       "    <tr>\n",
       "      <th>2</th>\n",
       "      <td>8.97</td>\n",
       "      <td>1.98</td>\n",
       "      <td>1.06</td>\n",
       "      <td>4.57</td>\n",
       "    </tr>\n",
       "    <tr>\n",
       "      <th>3</th>\n",
       "      <td>6.00</td>\n",
       "      <td>7.76</td>\n",
       "      <td>7.00</td>\n",
       "      <td>4.00</td>\n",
       "    </tr>\n",
       "    <tr>\n",
       "      <th>4</th>\n",
       "      <td>11.01</td>\n",
       "      <td>4.00</td>\n",
       "      <td>7.00</td>\n",
       "      <td>5.00</td>\n",
       "    </tr>\n",
       "  </tbody>\n",
       "</table>\n",
       "</div>"
      ],
      "text/plain": [
       "       0     1     2     3\n",
       "0   5.00  1.00  2.23  3.99\n",
       "1   0.33  9.00  3.49  2.00\n",
       "2   8.97  1.98  1.06  4.57\n",
       "3   6.00  7.76  7.00  4.00\n",
       "4  11.01  4.00  7.00  5.00"
      ]
     },
     "execution_count": 10,
     "metadata": {},
     "output_type": "execute_result"
    }
   ],
   "source": [
    "pd.DataFrame(np.around(newR, 2))"
   ]
  },
  {
   "cell_type": "code",
   "execution_count": 11,
   "id": "820d230a",
   "metadata": {},
   "outputs": [
    {
     "data": {
      "text/html": [
       "<div>\n",
       "<style scoped>\n",
       "    .dataframe tbody tr th:only-of-type {\n",
       "        vertical-align: middle;\n",
       "    }\n",
       "\n",
       "    .dataframe tbody tr th {\n",
       "        vertical-align: top;\n",
       "    }\n",
       "\n",
       "    .dataframe thead th {\n",
       "        text-align: right;\n",
       "    }\n",
       "</style>\n",
       "<table border=\"1\" class=\"dataframe\">\n",
       "  <thead>\n",
       "    <tr style=\"text-align: right;\">\n",
       "      <th></th>\n",
       "      <th>0</th>\n",
       "      <th>1</th>\n",
       "      <th>2</th>\n",
       "      <th>3</th>\n",
       "    </tr>\n",
       "  </thead>\n",
       "  <tbody>\n",
       "    <tr>\n",
       "      <th>0</th>\n",
       "      <td>5.0</td>\n",
       "      <td>1.0</td>\n",
       "      <td>NaN</td>\n",
       "      <td>4.0</td>\n",
       "    </tr>\n",
       "    <tr>\n",
       "      <th>1</th>\n",
       "      <td>NaN</td>\n",
       "      <td>9.0</td>\n",
       "      <td>NaN</td>\n",
       "      <td>2.0</td>\n",
       "    </tr>\n",
       "    <tr>\n",
       "      <th>2</th>\n",
       "      <td>9.0</td>\n",
       "      <td>2.0</td>\n",
       "      <td>1.0</td>\n",
       "      <td>NaN</td>\n",
       "    </tr>\n",
       "    <tr>\n",
       "      <th>3</th>\n",
       "      <td>6.0</td>\n",
       "      <td>NaN</td>\n",
       "      <td>7.0</td>\n",
       "      <td>4.0</td>\n",
       "    </tr>\n",
       "    <tr>\n",
       "      <th>4</th>\n",
       "      <td>NaN</td>\n",
       "      <td>4.0</td>\n",
       "      <td>7.0</td>\n",
       "      <td>5.0</td>\n",
       "    </tr>\n",
       "  </tbody>\n",
       "</table>\n",
       "</div>"
      ],
      "text/plain": [
       "     0    1    2    3\n",
       "0  5.0  1.0  NaN  4.0\n",
       "1  NaN  9.0  NaN  2.0\n",
       "2  9.0  2.0  1.0  NaN\n",
       "3  6.0  NaN  7.0  4.0\n",
       "4  NaN  4.0  7.0  5.0"
      ]
     },
     "execution_count": 11,
     "metadata": {},
     "output_type": "execute_result"
    }
   ],
   "source": [
    "pd.DataFrame(R)"
   ]
  },
  {
   "cell_type": "code",
   "execution_count": 12,
   "id": "4224f60e",
   "metadata": {},
   "outputs": [],
   "source": [
    "np.random.seed(0)\n",
    "Theta = initializeTheta(R.shape[0], p)\n",
    "X = initializeX(R.shape[1], p)"
   ]
  },
  {
   "cell_type": "code",
   "execution_count": 13,
   "id": "f973243f",
   "metadata": {},
   "outputs": [
    {
     "data": {
      "text/plain": [
       "0.25"
      ]
     },
     "execution_count": 13,
     "metadata": {},
     "output_type": "execute_result"
    }
   ],
   "source": [
    "Ja, DJa = get_Ja_and_DJa(R, Theta, p)\n",
    "X = X.flatten()\n",
    "p_k = -DJa(X)\n",
    "alpha = lineSearch(Ja, DJa, X, p_k)\n",
    "alpha"
   ]
  },
  {
   "cell_type": "code",
   "execution_count": 14,
   "id": "3bed8e8c",
   "metadata": {},
   "outputs": [
    {
     "data": {
      "image/png": "[encoded data removed]",
      "text/plain": [
       "<Figure size 640x480 with 1 Axes>"
      ]
     },
     "metadata": {},
     "output_type": "display_data"
    }
   ],
   "source": [
    "Ja, DJa = get_Ja_and_DJa(R, Theta, p)\n",
    "\n",
    "X = X.flatten()\n",
    "newXResults = gradientDescent(Ja, X, DJa,tol, max_iter)\n",
    "newX = newXResults[\"parameters\"].reshape(R.shape[1], p)\n",
    "Ja_values = newXResults[\"func_values\"]\n",
    "\n",
    "plt.plot(Ja_values)\n",
    "plt.yscale(\"log\")\n",
    "plt.show()"
   ]
  },
  {
   "cell_type": "code",
   "execution_count": 15,
   "id": "162ddddc",
   "metadata": {},
   "outputs": [
    {
     "data": {
      "text/plain": [
       "array([0.25, 0.25, 0.25, 0.5 , 0.25, 0.25, 0.25, 0.5 , 0.25, 0.25, 0.5 ,\n",
       "       0.25, 0.5 , 0.25, 0.25, 0.5 , 0.25, 0.25, 0.5 , 0.25, 0.5 , 0.25,\n",
       "       0.25, 0.5 , 0.25, 0.5 , 0.25, 0.25, 0.5 , 0.25, 0.25, 0.5 , 0.25,\n",
       "       0.5 , 0.25, 0.25, 0.5 , 0.25, 0.5 , 0.25, 0.25, 0.5 , 0.25, 0.25,\n",
       "       0.5 , 0.25, 0.5 , 0.25, 0.25, 0.5 , 0.25, 0.5 , 0.25, 0.25, 0.5 ,\n",
       "       0.25, 0.5 , 0.25, 0.25, 0.5 , 0.25, 0.25, 0.5 , 0.25, 0.5 , 0.25,\n",
       "       0.25, 0.5 , 0.25, 0.5 , 0.25, 0.25, 0.5 , 0.25, 0.5 , 0.25, 0.25,\n",
       "       0.5 , 0.25, 0.5 , 0.25, 0.25, 0.5 , 0.25, 0.25, 0.5 , 0.25, 0.5 ,\n",
       "       0.25, 0.25, 0.5 , 0.25, 0.5 , 0.25, 0.25, 0.5 , 0.25, 0.5 , 0.25,\n",
       "       0.25])"
      ]
     },
     "execution_count": 15,
     "metadata": {},
     "output_type": "execute_result"
    }
   ],
   "source": [
    "alpha_values = newXResults[\"alpha_values\"]\n",
    "alpha_values"
   ]
  },
  {
   "cell_type": "code",
   "execution_count": 16,
   "id": "60e11dc4",
   "metadata": {},
   "outputs": [
    {
     "data": {
      "text/plain": [
       "array([126.65489982,  42.04706488,  32.36231636,  27.39173854,\n",
       "        24.35548516,  20.52940154,  18.34157261,  16.8295685 ,\n",
       "        15.13534045,  13.94945782,  13.08931662,  12.02975202,\n",
       "        11.28182321,  10.6639948 ,   9.9038122 ,   9.37956669,\n",
       "         8.81832715,   8.29189095,   7.89865508,   7.38923588,\n",
       "         7.00456002,   6.65007815,   6.24304566,   5.95011963,\n",
       "         5.60136704,   5.30535995,   5.0763322 ,   4.75287292,\n",
       "         4.52905288,   4.2880013 ,   4.05606891,   3.88132189,\n",
       "         3.65105913,   3.47776551,   3.31224322,   3.12820759,\n",
       "         2.99408959,   2.82963859,   2.69395581,   2.58182241,\n",
       "         2.43410113,   2.33012613,   2.21291384,   2.10551266,\n",
       "         2.02325707,   1.91120721,   1.8297751 ,   1.74651931,\n",
       "         1.66057889,   1.59661018,   1.51438648,   1.44994716,\n",
       "         1.39111208,   1.32160942,   1.2713728 ,   1.21089121,\n",
       "         1.15936828,   1.11809414,   1.06130552,   1.02145947,\n",
       "         0.97686793,   0.93525013,   0.90333945,   0.85974058,\n",
       "         0.82782093,   0.79487271,   0.76092187,   0.73548546,\n",
       "         0.70231031,   0.6764897 ,   0.65209549,   0.62413697,\n",
       "         0.60366742,   0.57826492,   0.55717998,   0.53908691,\n",
       "         0.51585863,   0.49923247,   0.47965496,   0.4622818 ,\n",
       "         0.44884284,   0.42938623,   0.41576088,   0.40057221,\n",
       "         0.38613636,   0.37502709,   0.35972524,   0.34846456,\n",
       "         0.33660147,   0.32451265,   0.31535638,   0.30313157,\n",
       "         0.29375175,   0.28442375,   0.27422835,   0.26662286,\n",
       "         0.25678117,   0.24891141,   0.24152809,   0.23287447,\n",
       "         0.22651165])"
      ]
     },
     "execution_count": 16,
     "metadata": {},
     "output_type": "execute_result"
    }
   ],
   "source": [
    "Ja_values"
   ]
  },
  {
   "cell_type": "code",
   "execution_count": 17,
   "id": "8759a231",
   "metadata": {},
   "outputs": [],
   "source": [
    "newR = Theta @ newX.T"
   ]
  },
  {
   "cell_type": "code",
   "execution_count": 18,
   "id": "3b2d2b85",
   "metadata": {},
   "outputs": [
    {
     "data": {
      "text/html": [
       "<div>\n",
       "<style scoped>\n",
       "    .dataframe tbody tr th:only-of-type {\n",
       "        vertical-align: middle;\n",
       "    }\n",
       "\n",
       "    .dataframe tbody tr th {\n",
       "        vertical-align: top;\n",
       "    }\n",
       "\n",
       "    .dataframe thead th {\n",
       "        text-align: right;\n",
       "    }\n",
       "</style>\n",
       "<table border=\"1\" class=\"dataframe\">\n",
       "  <thead>\n",
       "    <tr style=\"text-align: right;\">\n",
       "      <th></th>\n",
       "      <th>0</th>\n",
       "      <th>1</th>\n",
       "      <th>2</th>\n",
       "      <th>3</th>\n",
       "    </tr>\n",
       "  </thead>\n",
       "  <tbody>\n",
       "    <tr>\n",
       "      <th>0</th>\n",
       "      <td>5.11</td>\n",
       "      <td>1.54</td>\n",
       "      <td>4.93</td>\n",
       "      <td>3.91</td>\n",
       "    </tr>\n",
       "    <tr>\n",
       "      <th>1</th>\n",
       "      <td>3.18</td>\n",
       "      <td>8.72</td>\n",
       "      <td>5.27</td>\n",
       "      <td>2.08</td>\n",
       "    </tr>\n",
       "    <tr>\n",
       "      <th>2</th>\n",
       "      <td>8.93</td>\n",
       "      <td>1.79</td>\n",
       "      <td>1.00</td>\n",
       "      <td>2.52</td>\n",
       "    </tr>\n",
       "    <tr>\n",
       "      <th>3</th>\n",
       "      <td>5.96</td>\n",
       "      <td>-2.22</td>\n",
       "      <td>7.00</td>\n",
       "      <td>4.02</td>\n",
       "    </tr>\n",
       "    <tr>\n",
       "      <th>4</th>\n",
       "      <td>-0.30</td>\n",
       "      <td>3.91</td>\n",
       "      <td>7.00</td>\n",
       "      <td>4.99</td>\n",
       "    </tr>\n",
       "  </tbody>\n",
       "</table>\n",
       "</div>"
      ],
      "text/plain": [
       "      0     1     2     3\n",
       "0  5.11  1.54  4.93  3.91\n",
       "1  3.18  8.72  5.27  2.08\n",
       "2  8.93  1.79  1.00  2.52\n",
       "3  5.96 -2.22  7.00  4.02\n",
       "4 -0.30  3.91  7.00  4.99"
      ]
     },
     "execution_count": 18,
     "metadata": {},
     "output_type": "execute_result"
    }
   ],
   "source": [
    "pd.DataFrame(np.around(newR, 2))"
   ]
  },
  {
   "cell_type": "code",
   "execution_count": 19,
   "id": "ad890842",
   "metadata": {},
   "outputs": [
    {
     "data": {
      "text/html": [
       "<div>\n",
       "<style scoped>\n",
       "    .dataframe tbody tr th:only-of-type {\n",
       "        vertical-align: middle;\n",
       "    }\n",
       "\n",
       "    .dataframe tbody tr th {\n",
       "        vertical-align: top;\n",
       "    }\n",
       "\n",
       "    .dataframe thead th {\n",
       "        text-align: right;\n",
       "    }\n",
       "</style>\n",
       "<table border=\"1\" class=\"dataframe\">\n",
       "  <thead>\n",
       "    <tr style=\"text-align: right;\">\n",
       "      <th></th>\n",
       "      <th>0</th>\n",
       "      <th>1</th>\n",
       "      <th>2</th>\n",
       "      <th>3</th>\n",
       "    </tr>\n",
       "  </thead>\n",
       "  <tbody>\n",
       "    <tr>\n",
       "      <th>0</th>\n",
       "      <td>5.0</td>\n",
       "      <td>1.0</td>\n",
       "      <td>NaN</td>\n",
       "      <td>4.0</td>\n",
       "    </tr>\n",
       "    <tr>\n",
       "      <th>1</th>\n",
       "      <td>NaN</td>\n",
       "      <td>9.0</td>\n",
       "      <td>NaN</td>\n",
       "      <td>2.0</td>\n",
       "    </tr>\n",
       "    <tr>\n",
       "      <th>2</th>\n",
       "      <td>9.0</td>\n",
       "      <td>2.0</td>\n",
       "      <td>1.0</td>\n",
       "      <td>NaN</td>\n",
       "    </tr>\n",
       "    <tr>\n",
       "      <th>3</th>\n",
       "      <td>6.0</td>\n",
       "      <td>NaN</td>\n",
       "      <td>7.0</td>\n",
       "      <td>4.0</td>\n",
       "    </tr>\n",
       "    <tr>\n",
       "      <th>4</th>\n",
       "      <td>NaN</td>\n",
       "      <td>4.0</td>\n",
       "      <td>7.0</td>\n",
       "      <td>5.0</td>\n",
       "    </tr>\n",
       "  </tbody>\n",
       "</table>\n",
       "</div>"
      ],
      "text/plain": [
       "     0    1    2    3\n",
       "0  5.0  1.0  NaN  4.0\n",
       "1  NaN  9.0  NaN  2.0\n",
       "2  9.0  2.0  1.0  NaN\n",
       "3  6.0  NaN  7.0  4.0\n",
       "4  NaN  4.0  7.0  5.0"
      ]
     },
     "execution_count": 19,
     "metadata": {},
     "output_type": "execute_result"
    }
   ],
   "source": [
    "pd.DataFrame(R)"
   ]
  },
  {
   "cell_type": "code",
   "execution_count": 27,
   "id": "8ae32776",
   "metadata": {},
   "outputs": [],
   "source": [
    "np.random.seed(0)\n",
    "als_result = ALS(R, p, alpha, 0, tol, 100, max_iter)"
   ]
  },
  {
   "cell_type": "code",
   "execution_count": 28,
   "id": "68fc92a9",
   "metadata": {},
   "outputs": [],
   "source": [
    "newTheta = als_result[\"Theta\"]\n",
    "newX = als_result[\"X\"]\n",
    "J_values = als_result[\"J_values\"]"
   ]
  },
  {
   "cell_type": "code",
   "execution_count": 29,
   "id": "952f7c2c",
   "metadata": {},
   "outputs": [
    {
     "data": {
      "image/png": "[encoded data removed]",
      "text/plain": [
       "<Figure size 640x480 with 1 Axes>"
      ]
     },
     "metadata": {},
     "output_type": "display_data"
    }
   ],
   "source": [
    "plt.plot(J_values)\n",
    "plt.show()"
   ]
  },
  {
   "cell_type": "code",
   "execution_count": 30,
   "id": "7e623e43",
   "metadata": {},
   "outputs": [
    {
     "data": {
      "image/png": "[encoded data removed]",
      "text/plain": [
       "<Figure size 640x480 with 1 Axes>"
      ]
     },
     "metadata": {},
     "output_type": "display_data"
    }
   ],
   "source": [
    "plt.plot(J_values)\n",
    "plt.yscale(\"log\")\n",
    "plt.show()"
   ]
  },
  {
   "cell_type": "code",
   "execution_count": 24,
   "id": "0f0ff7b0",
   "metadata": {},
   "outputs": [],
   "source": [
    "newR = newTheta @ newX.T"
   ]
  },
  {
   "cell_type": "code",
   "execution_count": 25,
   "id": "adbeda0a",
   "metadata": {},
   "outputs": [
    {
     "data": {
      "text/html": [
       "<div>\n",
       "<style scoped>\n",
       "    .dataframe tbody tr th:only-of-type {\n",
       "        vertical-align: middle;\n",
       "    }\n",
       "\n",
       "    .dataframe tbody tr th {\n",
       "        vertical-align: top;\n",
       "    }\n",
       "\n",
       "    .dataframe thead th {\n",
       "        text-align: right;\n",
       "    }\n",
       "</style>\n",
       "<table border=\"1\" class=\"dataframe\">\n",
       "  <thead>\n",
       "    <tr style=\"text-align: right;\">\n",
       "      <th></th>\n",
       "      <th>0</th>\n",
       "      <th>1</th>\n",
       "      <th>2</th>\n",
       "      <th>3</th>\n",
       "    </tr>\n",
       "  </thead>\n",
       "  <tbody>\n",
       "    <tr>\n",
       "      <th>0</th>\n",
       "      <td>5.0</td>\n",
       "      <td>1.0</td>\n",
       "      <td>2.2</td>\n",
       "      <td>4.0</td>\n",
       "    </tr>\n",
       "    <tr>\n",
       "      <th>1</th>\n",
       "      <td>0.3</td>\n",
       "      <td>9.0</td>\n",
       "      <td>3.5</td>\n",
       "      <td>2.0</td>\n",
       "    </tr>\n",
       "    <tr>\n",
       "      <th>2</th>\n",
       "      <td>9.0</td>\n",
       "      <td>2.0</td>\n",
       "      <td>1.0</td>\n",
       "      <td>4.6</td>\n",
       "    </tr>\n",
       "    <tr>\n",
       "      <th>3</th>\n",
       "      <td>6.0</td>\n",
       "      <td>7.8</td>\n",
       "      <td>7.0</td>\n",
       "      <td>4.0</td>\n",
       "    </tr>\n",
       "    <tr>\n",
       "      <th>4</th>\n",
       "      <td>11.0</td>\n",
       "      <td>4.0</td>\n",
       "      <td>7.0</td>\n",
       "      <td>5.0</td>\n",
       "    </tr>\n",
       "  </tbody>\n",
       "</table>\n",
       "</div>"
      ],
      "text/plain": [
       "      0    1    2    3\n",
       "0   5.0  1.0  2.2  4.0\n",
       "1   0.3  9.0  3.5  2.0\n",
       "2   9.0  2.0  1.0  4.6\n",
       "3   6.0  7.8  7.0  4.0\n",
       "4  11.0  4.0  7.0  5.0"
      ]
     },
     "execution_count": 25,
     "metadata": {},
     "output_type": "execute_result"
    }
   ],
   "source": [
    "pd.DataFrame(np.around(newR, 1))"
   ]
  },
  {
   "cell_type": "code",
   "execution_count": 26,
   "id": "968a1f11",
   "metadata": {},
   "outputs": [
    {
     "data": {
      "text/html": [
       "<div>\n",
       "<style scoped>\n",
       "    .dataframe tbody tr th:only-of-type {\n",
       "        vertical-align: middle;\n",
       "    }\n",
       "\n",
       "    .dataframe tbody tr th {\n",
       "        vertical-align: top;\n",
       "    }\n",
       "\n",
       "    .dataframe thead th {\n",
       "        text-align: right;\n",
       "    }\n",
       "</style>\n",
       "<table border=\"1\" class=\"dataframe\">\n",
       "  <thead>\n",
       "    <tr style=\"text-align: right;\">\n",
       "      <th></th>\n",
       "      <th>0</th>\n",
       "      <th>1</th>\n",
       "      <th>2</th>\n",
       "      <th>3</th>\n",
       "    </tr>\n",
       "  </thead>\n",
       "  <tbody>\n",
       "    <tr>\n",
       "      <th>0</th>\n",
       "      <td>5.0</td>\n",
       "      <td>1.0</td>\n",
       "      <td>NaN</td>\n",
       "      <td>4.0</td>\n",
       "    </tr>\n",
       "    <tr>\n",
       "      <th>1</th>\n",
       "      <td>NaN</td>\n",
       "      <td>9.0</td>\n",
       "      <td>NaN</td>\n",
       "      <td>2.0</td>\n",
       "    </tr>\n",
       "    <tr>\n",
       "      <th>2</th>\n",
       "      <td>9.0</td>\n",
       "      <td>2.0</td>\n",
       "      <td>1.0</td>\n",
       "      <td>NaN</td>\n",
       "    </tr>\n",
       "    <tr>\n",
       "      <th>3</th>\n",
       "      <td>6.0</td>\n",
       "      <td>NaN</td>\n",
       "      <td>7.0</td>\n",
       "      <td>4.0</td>\n",
       "    </tr>\n",
       "    <tr>\n",
       "      <th>4</th>\n",
       "      <td>NaN</td>\n",
       "      <td>4.0</td>\n",
       "      <td>7.0</td>\n",
       "      <td>5.0</td>\n",
       "    </tr>\n",
       "  </tbody>\n",
       "</table>\n",
       "</div>"
      ],
      "text/plain": [
       "     0    1    2    3\n",
       "0  5.0  1.0  NaN  4.0\n",
       "1  NaN  9.0  NaN  2.0\n",
       "2  9.0  2.0  1.0  NaN\n",
       "3  6.0  NaN  7.0  4.0\n",
       "4  NaN  4.0  7.0  5.0"
      ]
     },
     "execution_count": 26,
     "metadata": {},
     "output_type": "execute_result"
    }
   ],
   "source": [
    "pd.DataFrame(R)"
   ]
  },
  {
   "cell_type": "code",
   "execution_count": null,
   "id": "ca8fb2f2",
   "metadata": {},
   "outputs": [],
   "source": []
  },
  {
   "cell_type": "code",
   "execution_count": null,
   "id": "6ea0b792",
   "metadata": {},
   "outputs": [],
   "source": []
  }
 ],
 "metadata": {
  "kernelspec": {
   "display_name": "Python 3 (ipykernel)",
   "language": "python",
   "name": "python3"
  },
  "language_info": {
   "codemirror_mode": {
    "name": "ipython",
    "version": 3
   },
   "file_extension": ".py",
   "mimetype": "text/x-python",
   "name": "python",
   "nbconvert_exporter": "python",
   "pygments_lexer": "ipython3",
   "version": "3.9.13"
  }
 },
 "nbformat": 4,
 "nbformat_minor": 5
}
